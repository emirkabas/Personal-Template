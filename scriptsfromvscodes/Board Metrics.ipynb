{
 "cells": [
  {
   "cell_type": "code",
   "execution_count": 1,
   "metadata": {},
   "outputs": [],
   "source": [
    "# IMPORT LIBRARIES\n",
    "import psycopg2 as pg2\n",
    "import pandas as pd\n",
    "import numpy as np\n",
    "from datetime import datetime\n",
    "from datetime import date\n",
    "import snowflake.connector"
   ]
  },
  {
   "cell_type": "code",
   "execution_count": 2,
   "metadata": {},
   "outputs": [],
   "source": [
    "#CONNECT TO SNOWFLAKE WITH REPORTER CREDENTIALS\n",
    "conn = snowflake.connector.connect(\n",
    "    user='emirkabasoglu', #emirkabasoglu\n",
    "    password='7Bb13287', #7Bb13287\n",
    "    account='se63477.north-europe.azure',\n",
    "    warehouse='TRANSFORMING_WH',\n",
    "    database='PROD_ANALYTICS_DB'\n",
    "    )"
   ]
  },
  {
   "cell_type": "code",
   "execution_count": 3,
   "metadata": {},
   "outputs": [
    {
     "data": {
      "text/plain": [
       "<snowflake.connector.cursor.SnowflakeCursor at 0x7ff020965940>"
      ]
     },
     "execution_count": 3,
     "metadata": {},
     "output_type": "execute_result"
    }
   ],
   "source": [
    "#START THE CURSOR AND RUN THE QUERY\n",
    "cur = conn.cursor()\n",
    "cur.execute(''' --BOARD METRICS\n",
    "\n",
    "SELECT \n",
    "t2.economic_id as id,\n",
    "t2.customer_id as customer_id,\n",
    "t2.customer_name,\n",
    "t1.item_id,\n",
    "t5.external_name,\n",
    "t5.internal_name,\n",
    "t1.quantity,\n",
    "t1.arr_eur as value,\n",
    "t1.committed_date as commit,\n",
    "t1.start_date as \"start\",\n",
    "t1.end_date   as end ,\n",
    "CASE WHEN t1.status IN ('cancelled','non_renewing') then 'y' else null end as cancelled,\n",
    "t3.region,\n",
    "CASE WHEN t4.fte_size < 250 THEN 'smb' \n",
    "     WHEN (t4.fte_size > 249 AND 5001 > t4.fte_size)  THEN 'mm'\n",
    "     WHEN t4.fte_size IS NULL THEN NULL\n",
    "     ELSE 'ent' END AS size,\n",
    "CASE WHEN t5.item_family_id IN ('3','4') OR T1.item_id IN ('8_2','8_3') THEN 'content' \n",
    "     ELSE 'software' END AS product,\n",
    "CASE WHEN t5.item_family_id IN ('2') or t1.item_id IN ('8_4','8_5') THEN 'infinite'\n",
    "     WHEN t5.item_family_id IN ('3') THEN ''\n",
    "     ELSE 'people' END AS type,\n",
    "CASE WHEN t6.inbound_lead_source IN ('PPC - Google') then 'google'\n",
    "     WHEN t6.inbound_lead_source IN ('PPC - Bing') then 'bing' \n",
    "     WHEN t6.inbound_lead_source IN ('PPC - Facebook') then 'facebook'\n",
    "     WHEN t6.inbound_lead_source IN ('PPC - Linkedin') then 'linkedin'       \n",
    "     WHEN t6.inbound_lead_source IN ('Review DB - Capterra','Review DB - Software Advice','Review DB - Getapp', 'Review DB - eLearning Industry', 'Review DB - People Managing People', 'Review DB - Select Software', 'Review DB - Softwaresuggest') then 'review' \n",
    "     WHEN t6.inbound_lead_source IN ('Referral - Other') then 'other'\n",
    "     ELSE null END AS inbound_source\n",
    "\n",
    "FROM dbt_deploy.subscriptions t1\n",
    "LEFT JOIN dbt_deploy.customers t2 on t1.customer_id = t2.customer_id \n",
    "LEFT JOIN dbt_deploy.countries_and_regions t3 on t2.billing_address_country =t3.country_id\n",
    "LEFT JOIN dbt_deploy.stg_hubspot__company t4 on t4.company_id = t2.hubspot_company_id\n",
    "LEFT JOIN dbt_deploy.products t5 on t1.item_id = t5.item_id\n",
    "LEFT JOIN dbt_deploy.stg_hubspot__deal t6 on t6.deal_id = t1.order_id\n",
    "ORDER BY 1    \n",
    "\n",
    "''')\n"
   ]
  },
  {
   "cell_type": "code",
   "execution_count": 4,
   "metadata": {},
   "outputs": [],
   "source": [
    "# ADD DESCRIPTION AS COLUMN LABELS\n",
    "items_db_fetched = cur.fetchall()\n",
    "cols = []\n",
    "for i in cur.description:\n",
    "    cols.append(i[0])\n",
    "\n",
    "df_items_db_fetched = pd.DataFrame(items_db_fetched, columns=cols)"
   ]
  },
  {
   "cell_type": "code",
   "execution_count": 5,
   "metadata": {},
   "outputs": [],
   "source": [
    "# ASSIGN TO MAIN DF FOR FUTHER TRANSFORMATION\n",
    "df_main = df_items_db_fetched"
   ]
  },
  {
   "cell_type": "code",
   "execution_count": 6,
   "metadata": {},
   "outputs": [
    {
     "data": {
      "text/plain": [
       "Index(['ID', 'CUSTOMER_ID', 'CUSTOMER_NAME', 'ITEM_ID', 'EXTERNAL_NAME',\n",
       "       'INTERNAL_NAME', 'QUANTITY', 'VALUE', 'COMMIT', 'start', 'END',\n",
       "       'CANCELLED', 'REGION', 'SIZE', 'PRODUCT', 'TYPE', 'INBOUND_SOURCE'],\n",
       "      dtype='object')"
      ]
     },
     "execution_count": 6,
     "metadata": {},
     "output_type": "execute_result"
    }
   ],
   "source": [
    "df_main.columns"
   ]
  },
  {
   "cell_type": "code",
   "execution_count": 7,
   "metadata": {},
   "outputs": [],
   "source": [
    "#CONVERT ALL THE COLUMN NAMES LOWER CASE\n",
    "df_main.columns= df_main.columns.str.lower()\n",
    "df_main['size'] = df_main['size'].str.lower()\n",
    "df_main['region'] = df_main['region'].str.lower()\n",
    "\n"
   ]
  },
  {
   "cell_type": "code",
   "execution_count": 8,
   "metadata": {},
   "outputs": [
    {
     "data": {
      "text/html": [
       "<div>\n",
       "<style scoped>\n",
       "    .dataframe tbody tr th:only-of-type {\n",
       "        vertical-align: middle;\n",
       "    }\n",
       "\n",
       "    .dataframe tbody tr th {\n",
       "        vertical-align: top;\n",
       "    }\n",
       "\n",
       "    .dataframe thead th {\n",
       "        text-align: right;\n",
       "    }\n",
       "</style>\n",
       "<table border=\"1\" class=\"dataframe\">\n",
       "  <thead>\n",
       "    <tr style=\"text-align: right;\">\n",
       "      <th></th>\n",
       "      <th>id</th>\n",
       "      <th>customer_id</th>\n",
       "      <th>customer_name</th>\n",
       "      <th>item_id</th>\n",
       "      <th>external_name</th>\n",
       "      <th>internal_name</th>\n",
       "      <th>quantity</th>\n",
       "      <th>value</th>\n",
       "      <th>commit</th>\n",
       "      <th>start</th>\n",
       "      <th>end</th>\n",
       "      <th>cancelled</th>\n",
       "      <th>region</th>\n",
       "      <th>size</th>\n",
       "      <th>product</th>\n",
       "      <th>type</th>\n",
       "      <th>inbound_source</th>\n",
       "    </tr>\n",
       "  </thead>\n",
       "  <tbody>\n",
       "    <tr>\n",
       "      <th>0</th>\n",
       "      <td>225</td>\n",
       "      <td>7734TT5L9QCL25O</td>\n",
       "      <td>ISAL hf</td>\n",
       "      <td>1_17</td>\n",
       "      <td>People Service Sms Gateway Access Setup</td>\n",
       "      <td>people_service_sms_gateway_access_setup</td>\n",
       "      <td>1</td>\n",
       "      <td>0.0</td>\n",
       "      <td>2018-11-16</td>\n",
       "      <td>2019-01-01</td>\n",
       "      <td>2022-12-31</td>\n",
       "      <td>y</td>\n",
       "      <td>norben</td>\n",
       "      <td>mm</td>\n",
       "      <td>software</td>\n",
       "      <td>people</td>\n",
       "      <td>None</td>\n",
       "    </tr>\n",
       "    <tr>\n",
       "      <th>1</th>\n",
       "      <td>225</td>\n",
       "      <td>7734TT5L9QCL25O</td>\n",
       "      <td>ISAL hf</td>\n",
       "      <td>1_1</td>\n",
       "      <td>People Learning Management</td>\n",
       "      <td>people_lms</td>\n",
       "      <td>1000</td>\n",
       "      <td>14762.0</td>\n",
       "      <td>2018-11-16</td>\n",
       "      <td>2019-01-01</td>\n",
       "      <td>2022-12-31</td>\n",
       "      <td>y</td>\n",
       "      <td>norben</td>\n",
       "      <td>mm</td>\n",
       "      <td>software</td>\n",
       "      <td>people</td>\n",
       "      <td>None</td>\n",
       "    </tr>\n",
       "  </tbody>\n",
       "</table>\n",
       "</div>"
      ],
      "text/plain": [
       "    id      customer_id customer_name item_id  \\\n",
       "0  225  7734TT5L9QCL25O       ISAL hf    1_17   \n",
       "1  225  7734TT5L9QCL25O       ISAL hf     1_1   \n",
       "\n",
       "                             external_name  \\\n",
       "0  People Service Sms Gateway Access Setup   \n",
       "1               People Learning Management   \n",
       "\n",
       "                             internal_name  quantity    value      commit  \\\n",
       "0  people_service_sms_gateway_access_setup         1      0.0  2018-11-16   \n",
       "1                               people_lms      1000  14762.0  2018-11-16   \n",
       "\n",
       "        start         end cancelled  region size   product    type  \\\n",
       "0  2019-01-01  2022-12-31         y  norben   mm  software  people   \n",
       "1  2019-01-01  2022-12-31         y  norben   mm  software  people   \n",
       "\n",
       "  inbound_source  \n",
       "0           None  \n",
       "1           None  "
      ]
     },
     "execution_count": 8,
     "metadata": {},
     "output_type": "execute_result"
    }
   ],
   "source": [
    "df_main.head(2)"
   ]
  },
  {
   "cell_type": "code",
   "execution_count": 9,
   "metadata": {},
   "outputs": [],
   "source": [
    "# OUTPUT FINAL FILE WITH ALL DIFFERENCES\n",
    "df_main.to_excel('Board_Metrics_Input_File.xlsx')"
   ]
  }
 ],
 "metadata": {
  "kernelspec": {
   "display_name": "Python 3.9.7 ('base')",
   "language": "python",
   "name": "python3"
  },
  "language_info": {
   "codemirror_mode": {
    "name": "ipython",
    "version": 3
   },
   "file_extension": ".py",
   "mimetype": "text/x-python",
   "name": "python",
   "nbconvert_exporter": "python",
   "pygments_lexer": "ipython3",
   "version": "3.9.18"
  },
  "orig_nbformat": 4,
  "vscode": {
   "interpreter": {
    "hash": "38aef752a079a85de1739380fb1638eeeade851c41e3775971b8ec62af2e1c1a"
   }
  }
 },
 "nbformat": 4,
 "nbformat_minor": 2
}
