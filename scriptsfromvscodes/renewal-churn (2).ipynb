{
 "cells": [
  {
   "cell_type": "code",
   "execution_count": 1,
   "metadata": {},
   "outputs": [],
   "source": [
    "### TODOS:\n",
    "# FIX LOGIC ON CATEGORIZATION\n",
    "# CLEAN UP DATES"
   ]
  },
  {
   "cell_type": "code",
   "execution_count": 2,
   "metadata": {},
   "outputs": [],
   "source": [
    "import pandas as pd\n",
    "from datetime import date"
   ]
  },
  {
   "cell_type": "code",
   "execution_count": 3,
   "metadata": {},
   "outputs": [],
   "source": [
    "df_all_subscriptions = pd.read_excel('/Users/emirkabasoglu/Desktop/Eloomi/VS Codes/Jupyter Notebook Scripts/Relevant Scripts/GRR Report/customer-subscription-data-dump-23-jun-26.xlsx')"
   ]
  },
  {
   "cell_type": "code",
   "execution_count": 4,
   "metadata": {},
   "outputs": [],
   "source": [
    "df_all_subscriptions['start'] = pd.to_datetime(df_all_subscriptions['start'], errors='coerce')\n",
    "df_all_subscriptions['end'] = pd.to_datetime(df_all_subscriptions['end'], errors='coerce')"
   ]
  },
  {
   "cell_type": "code",
   "execution_count": 5,
   "metadata": {},
   "outputs": [],
   "source": [
    "#mask_jan_renewals = (df_all_subscriptions['end'].dt.date >= date(2022,12,1)) & (df_all_subscriptions['end'].dt.date <= date(2022,12,31))\n",
    "#mask_feb_renewals = (df_all_subscriptions['end'].dt.date >= date(2023,1,1)) & (df_all_subscriptions['end'].dt.date <= date(2023,1,31))\n",
    "#mask_mar_renewals = (df_all_subscriptions['end'].dt.date >= date(2023,2,1)) & (df_all_subscriptions['end'].dt.date <= date(2023,2,28))\n",
    "#mask_apr_renewals = (df_all_subscriptions['end'].dt.date >= date(2023,3,1)) & (df_all_subscriptions['end'].dt.date <= date(2023,3,31))\n",
    "\n",
    "mask_mar_renewals = (df_all_subscriptions['end'].dt.date >= date(2023,2,28)) & (df_all_subscriptions['end'].dt.date <= date(2023,3,30))\n",
    "mask_apr_renewals = (df_all_subscriptions['end'].dt.date >= date(2023,3,31)) & (df_all_subscriptions['end'].dt.date <= date(2023,4,29))\n",
    "mask_may_renewals = (df_all_subscriptions['end'].dt.date >= date(2023,4,30)) & (df_all_subscriptions['end'].dt.date <= date(2023,5,30))\n",
    "mask_jun_renewals = (df_all_subscriptions['end'].dt.date >= date(2023,5,31)) & (df_all_subscriptions['end'].dt.date <= date(2023,6,29))\n",
    "\n"
   ]
  },
  {
   "cell_type": "code",
   "execution_count": 6,
   "metadata": {},
   "outputs": [],
   "source": [
    "#jan_renewals_id = set(df_all_subscriptions.loc[mask_jan_renewals]['id'])\n",
    "#feb_renewals_id = set(df_all_subscriptions.loc[mask_feb_renewals]['id'])\n",
    "mar_renewals_id = set(df_all_subscriptions.loc[mask_mar_renewals]['id'])\n",
    "apr_renewals_id = set(df_all_subscriptions.loc[mask_apr_renewals]['id'])\n",
    "may_renewals_id = set(df_all_subscriptions.loc[mask_may_renewals]['id'])\n",
    "jun_renewals_id = set(df_all_subscriptions.loc[mask_jun_renewals]['id'])\n",
    "\n"
   ]
  },
  {
   "cell_type": "code",
   "execution_count": 7,
   "metadata": {},
   "outputs": [
    {
     "name": "stderr",
     "output_type": "stream",
     "text": [
      "/var/folders/84/np97p6s9023f4v7_n4n1nqk40000gp/T/ipykernel_29579/3025418408.py:3: FutureWarning: The default value of numeric_only in DataFrameGroupBy.sum is deprecated. In a future version, numeric_only will default to False. Either specify numeric_only or select only columns which should be valid for the function.\n",
      "  mar_renewals_value = df_all_subscriptions.loc[mask_mar_renewals].groupby('id').sum().round(2)\n",
      "/var/folders/84/np97p6s9023f4v7_n4n1nqk40000gp/T/ipykernel_29579/3025418408.py:4: FutureWarning: The default value of numeric_only in DataFrameGroupBy.sum is deprecated. In a future version, numeric_only will default to False. Either specify numeric_only or select only columns which should be valid for the function.\n",
      "  apr_renewals_value = df_all_subscriptions.loc[mask_apr_renewals].groupby('id').sum().round(2)\n",
      "/var/folders/84/np97p6s9023f4v7_n4n1nqk40000gp/T/ipykernel_29579/3025418408.py:5: FutureWarning: The default value of numeric_only in DataFrameGroupBy.sum is deprecated. In a future version, numeric_only will default to False. Either specify numeric_only or select only columns which should be valid for the function.\n",
      "  may_renewals_value = df_all_subscriptions.loc[mask_may_renewals].groupby('id').sum().round(2)\n",
      "/var/folders/84/np97p6s9023f4v7_n4n1nqk40000gp/T/ipykernel_29579/3025418408.py:6: FutureWarning: The default value of numeric_only in DataFrameGroupBy.sum is deprecated. In a future version, numeric_only will default to False. Either specify numeric_only or select only columns which should be valid for the function.\n",
      "  jun_renewals_value = df_all_subscriptions.loc[mask_jun_renewals].groupby('id').sum().round(2)\n"
     ]
    }
   ],
   "source": [
    "#jan_renewals_value = df_all_subscriptions.loc[mask_jan_renewals].groupby('id').sum().round(2)\n",
    "#feb_renewals_value = df_all_subscriptions.loc[mask_feb_renewals].groupby('id').sum().round(2)\n",
    "mar_renewals_value = df_all_subscriptions.loc[mask_mar_renewals].groupby('id').sum().round(2)\n",
    "apr_renewals_value = df_all_subscriptions.loc[mask_apr_renewals].groupby('id').sum().round(2)\n",
    "may_renewals_value = df_all_subscriptions.loc[mask_may_renewals].groupby('id').sum().round(2)\n",
    "jun_renewals_value = df_all_subscriptions.loc[mask_jun_renewals].groupby('id').sum().round(2)\n",
    "\n",
    "\n"
   ]
  },
  {
   "cell_type": "code",
   "execution_count": 8,
   "metadata": {},
   "outputs": [],
   "source": [
    "df_per_account = pd.read_excel('/Users/emirkabasoglu/Desktop/Eloomi/VS Codes/Jupyter Notebook Scripts/Relevant Scripts/GRR Report/all_geos_total-ltm-arr-per-account.xlsx')"
   ]
  },
  {
   "cell_type": "code",
   "execution_count": 9,
   "metadata": {},
   "outputs": [],
   "source": [
    "# FIX ROUNDING OF VALUES ON INPUT DFS\n",
    "df_all_subscriptions = df_all_subscriptions.round(2)\n",
    "df_per_account = df_per_account.round(2)"
   ]
  },
  {
   "cell_type": "code",
   "execution_count": 10,
   "metadata": {},
   "outputs": [],
   "source": [
    "df_firmo = pd.read_excel('/Users/emirkabasoglu/Library/CloudStorage/Box-Box/Chargebee/Firmographics/firmographics-latest.xlsx', sheet_name='latest')\n",
    "df_per_account = df_per_account.merge(df_firmo.iloc[:,:2], left_on='id', right_on='econ_id', how='left')"
   ]
  },
  {
   "cell_type": "code",
   "execution_count": 11,
   "metadata": {},
   "outputs": [],
   "source": [
    "#df_jan_renewals = df_per_account.loc[df_per_account['id'].isin(jan_renewals_id)]\n",
    "#df_feb_renewals = df_per_account.loc[df_per_account['id'].isin(feb_renewals_id)]\n",
    "df_mar_renewals = df_per_account.loc[df_per_account['id'].isin(mar_renewals_id)]\n",
    "df_apr_renewals = df_per_account.loc[df_per_account['id'].isin(apr_renewals_id)]\n",
    "df_may_renewals = df_per_account.loc[df_per_account['id'].isin(may_renewals_id)]\n",
    "df_jun_renewals = df_per_account.loc[df_per_account['id'].isin(jun_renewals_id)]\n"
   ]
  },
  {
   "cell_type": "code",
   "execution_count": 12,
   "metadata": {},
   "outputs": [],
   "source": [
    "def calculate_account_value_change(current, prior):\n",
    "    return current - prior"
   ]
  },
  {
   "cell_type": "code",
   "execution_count": 13,
   "metadata": {},
   "outputs": [
    {
     "name": "stderr",
     "output_type": "stream",
     "text": [
      "/var/folders/84/np97p6s9023f4v7_n4n1nqk40000gp/T/ipykernel_29579/3126590337.py:3: SettingWithCopyWarning: \n",
      "A value is trying to be set on a copy of a slice from a DataFrame.\n",
      "Try using .loc[row_indexer,col_indexer] = value instead\n",
      "\n",
      "See the caveats in the documentation: https://pandas.pydata.org/pandas-docs/stable/user_guide/indexing.html#returning-a-view-versus-a-copy\n",
      "  df_mar_renewals['m_o_m_change'] = df_mar_renewals.apply(lambda x: calculate_account_value_change(x['2023-03-31'], x['2023-02-28']), axis=1).round(2)\n",
      "/var/folders/84/np97p6s9023f4v7_n4n1nqk40000gp/T/ipykernel_29579/3126590337.py:4: SettingWithCopyWarning: \n",
      "A value is trying to be set on a copy of a slice from a DataFrame.\n",
      "Try using .loc[row_indexer,col_indexer] = value instead\n",
      "\n",
      "See the caveats in the documentation: https://pandas.pydata.org/pandas-docs/stable/user_guide/indexing.html#returning-a-view-versus-a-copy\n",
      "  df_apr_renewals['m_o_m_change'] = df_apr_renewals.apply(lambda x: calculate_account_value_change(x['2023-04-30'], x['2023-03-31']), axis=1).round(2)\n",
      "/var/folders/84/np97p6s9023f4v7_n4n1nqk40000gp/T/ipykernel_29579/3126590337.py:5: SettingWithCopyWarning: \n",
      "A value is trying to be set on a copy of a slice from a DataFrame.\n",
      "Try using .loc[row_indexer,col_indexer] = value instead\n",
      "\n",
      "See the caveats in the documentation: https://pandas.pydata.org/pandas-docs/stable/user_guide/indexing.html#returning-a-view-versus-a-copy\n",
      "  df_may_renewals['m_o_m_change'] = df_may_renewals.apply(lambda x: calculate_account_value_change(x['2023-05-31'], x['2023-04-30']), axis=1).round(2)\n",
      "/var/folders/84/np97p6s9023f4v7_n4n1nqk40000gp/T/ipykernel_29579/3126590337.py:6: SettingWithCopyWarning: \n",
      "A value is trying to be set on a copy of a slice from a DataFrame.\n",
      "Try using .loc[row_indexer,col_indexer] = value instead\n",
      "\n",
      "See the caveats in the documentation: https://pandas.pydata.org/pandas-docs/stable/user_guide/indexing.html#returning-a-view-versus-a-copy\n",
      "  df_jun_renewals['m_o_m_change'] = df_jun_renewals.apply(lambda x: calculate_account_value_change(x['2023-06-30'], x['2023-05-31']), axis=1).round(2)\n"
     ]
    }
   ],
   "source": [
    "#df_jan_renewals['m_o_m_change'] = df_jan_renewals.apply(lambda x: calculate_account_value_change(x['2023-01-31'], x['2022-12-31']), axis=1).round(2)\n",
    "#df_feb_renewals['m_o_m_change'] = df_feb_renewals.apply(lambda x: calculate_account_value_change(x['2023-02-28'], x['2023-01-31']), axis=1).round(2)\n",
    "df_mar_renewals['m_o_m_change'] = df_mar_renewals.apply(lambda x: calculate_account_value_change(x['2023-03-31'], x['2023-02-28']), axis=1).round(2)\n",
    "df_apr_renewals['m_o_m_change'] = df_apr_renewals.apply(lambda x: calculate_account_value_change(x['2023-04-30'], x['2023-03-31']), axis=1).round(2)\n",
    "df_may_renewals['m_o_m_change'] = df_may_renewals.apply(lambda x: calculate_account_value_change(x['2023-05-31'], x['2023-04-30']), axis=1).round(2)\n",
    "df_jun_renewals['m_o_m_change'] = df_jun_renewals.apply(lambda x: calculate_account_value_change(x['2023-06-30'], x['2023-05-31']), axis=1).round(2)"
   ]
  },
  {
   "cell_type": "code",
   "execution_count": 14,
   "metadata": {},
   "outputs": [],
   "source": [
    "#df_jan_renewals = df_jan_renewals.merge(jan_renewals_value, on='id')\n",
    "#df_feb_renewals = df_feb_renewals.merge(feb_renewals_value, on='id')\n",
    "df_mar_renewals = df_mar_renewals.merge(mar_renewals_value, on='id')\n",
    "df_apr_renewals = df_apr_renewals.merge(apr_renewals_value, on='id')\n",
    "df_may_renewals = df_may_renewals.merge(may_renewals_value, on='id')\n",
    "df_jun_renewals = df_jun_renewals.merge(jun_renewals_value, on='id')"
   ]
  },
  {
   "cell_type": "code",
   "execution_count": 15,
   "metadata": {},
   "outputs": [],
   "source": [
    "#df_jan_renewals.rename(columns={'value': 'up_for_renewal'}, inplace=True)\n",
    "#df_feb_renewals.rename(columns={'value': 'up_for_renewal'}, inplace=True)\n",
    "df_mar_renewals.rename(columns={'value': 'up_for_renewal'}, inplace=True)\n",
    "df_apr_renewals.rename(columns={'value': 'up_for_renewal'}, inplace=True)\n",
    "df_may_renewals.rename(columns={'value': 'up_for_renewal'}, inplace=True)\n",
    "df_jun_renewals.rename(columns={'value': 'up_for_renewal'}, inplace=True)"
   ]
  },
  {
   "cell_type": "code",
   "execution_count": 16,
   "metadata": {},
   "outputs": [],
   "source": [
    "def calculate_actual_renewal(change, renewal):\n",
    "    return change + renewal"
   ]
  },
  {
   "cell_type": "code",
   "execution_count": 17,
   "metadata": {},
   "outputs": [],
   "source": [
    "#df_jan_renewals['arr_value_after_renewal'] = df_jan_renewals.apply(lambda x: calculate_actual_renewal(x['m_o_m_change'], x['up_for_renewal']), axis=1)\n",
    "#df_feb_renewals['arr_value_after_renewal'] = df_feb_renewals.apply(lambda x: calculate_actual_renewal(x['m_o_m_change'], x['up_for_renewal']), axis=1)\n",
    "df_mar_renewals['arr_value_after_renewal'] = df_mar_renewals.apply(lambda x: calculate_actual_renewal(x['m_o_m_change'], x['up_for_renewal']), axis=1)\n",
    "df_apr_renewals['arr_value_after_renewal'] = df_apr_renewals.apply(lambda x: calculate_actual_renewal(x['m_o_m_change'], x['up_for_renewal']), axis=1)\n",
    "df_may_renewals['arr_value_after_renewal'] = df_may_renewals.apply(lambda x: calculate_actual_renewal(x['m_o_m_change'], x['up_for_renewal']), axis=1)\n",
    "df_jun_renewals['arr_value_after_renewal'] = df_jun_renewals.apply(lambda x: calculate_actual_renewal(x['m_o_m_change'], x['up_for_renewal']), axis=1)"
   ]
  },
  {
   "cell_type": "code",
   "execution_count": 18,
   "metadata": {},
   "outputs": [],
   "source": [
    "#df_jan_renewals.iloc[:,2:12] = df_jan_renewals.iloc[:,2:12].round(2)\n",
    "#df_feb_renewals = df_feb_renewals.iloc[:,2:12].round(2)\n",
    "#df_mar_renewals = df_mar_renewals.iloc[:,2:12].round(2)"
   ]
  },
  {
   "cell_type": "code",
   "execution_count": 19,
   "metadata": {},
   "outputs": [],
   "source": [
    "### LOGIC NEEDS FIXING SO IT LOOKS AT THE VALUE IN CURRENT MONTH ALSO AND CHECK IF THAT'S A 0 (ZERO) BEFORE ASSIGNING THE LABEL 'CHURN'\n",
    "\n",
    "def categorize_account_value_change(actual, up_for_renewal):\n",
    "    if actual == 0:\n",
    "        return 'Churn'\n",
    "    elif actual > up_for_renewal:\n",
    "        return 'Renewed - With Upsell'\n",
    "    elif actual < up_for_renewal:\n",
    "        return 'Renewed - With Downsell'\n",
    "    elif actual == up_for_renewal:\n",
    "        return 'Renewed - No change'"
   ]
  },
  {
   "cell_type": "code",
   "execution_count": 20,
   "metadata": {},
   "outputs": [],
   "source": [
    "#df_jan_renewals['renewal_type'] = df_jan_renewals.apply(lambda x: categorize_account_value_change(x['arr_value_after_renewal'], x['up_for_renewal']), axis=1)\n",
    "#df_feb_renewals['renewal_type'] = df_feb_renewals.apply(lambda x: categorize_account_value_change(x['arr_value_after_renewal'], x['up_for_renewal']), axis=1)\n",
    "df_mar_renewals['renewal_type'] = df_mar_renewals.apply(lambda x: categorize_account_value_change(x['arr_value_after_renewal'], x['up_for_renewal']), axis=1)\n",
    "df_apr_renewals['renewal_type'] = df_apr_renewals.apply(lambda x: categorize_account_value_change(x['arr_value_after_renewal'], x['up_for_renewal']), axis=1)\n",
    "df_may_renewals['renewal_type'] = df_may_renewals.apply(lambda x: categorize_account_value_change(x['arr_value_after_renewal'], x['up_for_renewal']), axis=1)\n",
    "df_jun_renewals['renewal_type'] = df_jun_renewals.apply(lambda x: categorize_account_value_change(x['arr_value_after_renewal'], x['up_for_renewal']), axis=1)\n",
    "\n"
   ]
  },
  {
   "cell_type": "code",
   "execution_count": 21,
   "metadata": {},
   "outputs": [],
   "source": [
    "# df_jan_renewals['m_o_m_change'] = df_jan_renewals.apply(lambda x: calculate_account_value_change(x['2023-01-31'], x['2022-12-31']), axis=1)\n",
    "\n",
    "df_all_accounts = df_per_account\n",
    "\n",
    "#df_all_accounts['jan_m_o_m_change'] = df_all_accounts.apply(lambda x: calculate_account_value_change(x['2023-01-31'], x['2022-12-31']), axis=1)\n",
    "#df_all_accounts['feb_m_o_m_change'] = df_all_accounts.apply(lambda x: calculate_account_value_change(x['2023-02-28'], x['2023-01-31']), axis=1)\n",
    "df_all_accounts['mar_m_o_m_change'] = df_all_accounts.apply(lambda x: calculate_account_value_change(x['2023-03-31'], x['2023-02-28']), axis=1)\n",
    "df_all_accounts['apr_m_o_m_change'] = df_all_accounts.apply(lambda x: calculate_account_value_change(x['2023-04-30'], x['2023-03-31']), axis=1)\n",
    "df_all_accounts['may_m_o_m_change'] = df_all_accounts.apply(lambda x: calculate_account_value_change(x['2023-05-31'], x['2023-04-30']), axis=1)\n",
    "df_all_accounts['jun_m_o_m_change'] = df_all_accounts.apply(lambda x: calculate_account_value_change(x['2023-06-30'], x['2023-05-31']), axis=1)\n",
    "\n",
    "\n",
    "#df_jan_out_of_period = df_all_accounts.loc[(~df_all_accounts['id'].isin(jan_renewals_id)) & ((df_all_accounts['2022-12-31'] != 0) & (df_all_accounts['jan_m_o_m_change'] != 0))]\n",
    "#df_feb_out_of_period = df_all_accounts.loc[(~df_all_accounts['id'].isin(feb_renewals_id)) & ((df_all_accounts['2023-01-31'] != 0) & (df_all_accounts['feb_m_o_m_change'] != 0))]\n",
    "df_mar_out_of_period = df_all_accounts.loc[(~df_all_accounts['id'].isin(mar_renewals_id)) & ((df_all_accounts['2023-02-28'] != 0) & (df_all_accounts['mar_m_o_m_change'] != 0))]\n",
    "df_apr_out_of_period = df_all_accounts.loc[(~df_all_accounts['id'].isin(apr_renewals_id)) & ((df_all_accounts['2023-03-31'] != 0) & (df_all_accounts['apr_m_o_m_change'] != 0))]\n",
    "df_may_out_of_period = df_all_accounts.loc[(~df_all_accounts['id'].isin(may_renewals_id)) & ((df_all_accounts['2023-04-30'] != 0) & (df_all_accounts['may_m_o_m_change'] != 0))]\n",
    "df_jun_out_of_period = df_all_accounts.loc[(~df_all_accounts['id'].isin(jun_renewals_id)) & ((df_all_accounts['2023-05-31'] != 0) & (df_all_accounts['jun_m_o_m_change'] != 0))]\n",
    "\n",
    "# df_feb_renewals = df_per_account.loc[df_per_account['id'].isin(feb_renewals_id)]\n",
    "# df_mar_renewals = df_per_account.loc[df_per_account['id'].isin(mar_renewals_id)]"
   ]
  },
  {
   "cell_type": "code",
   "execution_count": 22,
   "metadata": {},
   "outputs": [],
   "source": [
    "def categorize_out_of_period_change(value):\n",
    "    if value < 0:\n",
    "        return 'Out-of-Period Downsell'\n",
    "    elif value > 0:\n",
    "        return 'Out-of-Period Upsell'"
   ]
  },
  {
   "cell_type": "code",
   "execution_count": 23,
   "metadata": {},
   "outputs": [
    {
     "name": "stderr",
     "output_type": "stream",
     "text": [
      "/var/folders/84/np97p6s9023f4v7_n4n1nqk40000gp/T/ipykernel_29579/2459927595.py:3: SettingWithCopyWarning: \n",
      "A value is trying to be set on a copy of a slice from a DataFrame.\n",
      "Try using .loc[row_indexer,col_indexer] = value instead\n",
      "\n",
      "See the caveats in the documentation: https://pandas.pydata.org/pandas-docs/stable/user_guide/indexing.html#returning-a-view-versus-a-copy\n",
      "  df_mar_out_of_period['renewal_type'] = df_mar_out_of_period.apply(lambda x: categorize_out_of_period_change(x['mar_m_o_m_change']), axis=1)\n",
      "/var/folders/84/np97p6s9023f4v7_n4n1nqk40000gp/T/ipykernel_29579/2459927595.py:4: SettingWithCopyWarning: \n",
      "A value is trying to be set on a copy of a slice from a DataFrame.\n",
      "Try using .loc[row_indexer,col_indexer] = value instead\n",
      "\n",
      "See the caveats in the documentation: https://pandas.pydata.org/pandas-docs/stable/user_guide/indexing.html#returning-a-view-versus-a-copy\n",
      "  df_apr_out_of_period['renewal_type'] = df_apr_out_of_period.apply(lambda x: categorize_out_of_period_change(x['apr_m_o_m_change']), axis=1)\n",
      "/var/folders/84/np97p6s9023f4v7_n4n1nqk40000gp/T/ipykernel_29579/2459927595.py:5: SettingWithCopyWarning: \n",
      "A value is trying to be set on a copy of a slice from a DataFrame.\n",
      "Try using .loc[row_indexer,col_indexer] = value instead\n",
      "\n",
      "See the caveats in the documentation: https://pandas.pydata.org/pandas-docs/stable/user_guide/indexing.html#returning-a-view-versus-a-copy\n",
      "  df_may_out_of_period['renewal_type'] = df_may_out_of_period.apply(lambda x: categorize_out_of_period_change(x['may_m_o_m_change']), axis=1)\n",
      "/var/folders/84/np97p6s9023f4v7_n4n1nqk40000gp/T/ipykernel_29579/2459927595.py:6: SettingWithCopyWarning: \n",
      "A value is trying to be set on a copy of a slice from a DataFrame.\n",
      "Try using .loc[row_indexer,col_indexer] = value instead\n",
      "\n",
      "See the caveats in the documentation: https://pandas.pydata.org/pandas-docs/stable/user_guide/indexing.html#returning-a-view-versus-a-copy\n",
      "  df_jun_out_of_period['renewal_type'] = df_jun_out_of_period.apply(lambda x: categorize_out_of_period_change(x['jun_m_o_m_change']), axis=1)\n"
     ]
    }
   ],
   "source": [
    "#df_jan_out_of_period['renewal_type'] = df_jan_out_of_period.apply(lambda x: categorize_out_of_period_change(x['jan_m_o_m_change']), axis=1)\n",
    "#df_feb_out_of_period['renewal_type'] = df_feb_out_of_period.apply(lambda x: categorize_out_of_period_change(x['feb_m_o_m_change']), axis=1)\n",
    "df_mar_out_of_period['renewal_type'] = df_mar_out_of_period.apply(lambda x: categorize_out_of_period_change(x['mar_m_o_m_change']), axis=1)\n",
    "df_apr_out_of_period['renewal_type'] = df_apr_out_of_period.apply(lambda x: categorize_out_of_period_change(x['apr_m_o_m_change']), axis=1)\n",
    "df_may_out_of_period['renewal_type'] = df_may_out_of_period.apply(lambda x: categorize_out_of_period_change(x['may_m_o_m_change']), axis=1)\n",
    "df_jun_out_of_period['renewal_type'] = df_jun_out_of_period.apply(lambda x: categorize_out_of_period_change(x['jun_m_o_m_change']), axis=1)\n",
    "\n"
   ]
  },
  {
   "cell_type": "code",
   "execution_count": 24,
   "metadata": {},
   "outputs": [
    {
     "name": "stderr",
     "output_type": "stream",
     "text": [
      "/var/folders/84/np97p6s9023f4v7_n4n1nqk40000gp/T/ipykernel_29579/3493965549.py:37: SettingWithCopyWarning: \n",
      "A value is trying to be set on a copy of a slice from a DataFrame\n",
      "\n",
      "See the caveats in the documentation: https://pandas.pydata.org/pandas-docs/stable/user_guide/indexing.html#returning-a-view-versus-a-copy\n",
      "  df_oop_mar_23.rename(columns={'mar_m_o_m_change': 'm_o_m_change'}, inplace=True)\n",
      "/var/folders/84/np97p6s9023f4v7_n4n1nqk40000gp/T/ipykernel_29579/3493965549.py:38: SettingWithCopyWarning: \n",
      "A value is trying to be set on a copy of a slice from a DataFrame\n",
      "\n",
      "See the caveats in the documentation: https://pandas.pydata.org/pandas-docs/stable/user_guide/indexing.html#returning-a-view-versus-a-copy\n",
      "  df_oop_apr_23.rename(columns={'apr_m_o_m_change': 'm_o_m_change'}, inplace=True)\n",
      "/var/folders/84/np97p6s9023f4v7_n4n1nqk40000gp/T/ipykernel_29579/3493965549.py:39: SettingWithCopyWarning: \n",
      "A value is trying to be set on a copy of a slice from a DataFrame\n",
      "\n",
      "See the caveats in the documentation: https://pandas.pydata.org/pandas-docs/stable/user_guide/indexing.html#returning-a-view-versus-a-copy\n",
      "  df_oop_may_23.rename(columns={'may_m_o_m_change': 'm_o_m_change'}, inplace=True)\n",
      "/var/folders/84/np97p6s9023f4v7_n4n1nqk40000gp/T/ipykernel_29579/3493965549.py:40: SettingWithCopyWarning: \n",
      "A value is trying to be set on a copy of a slice from a DataFrame\n",
      "\n",
      "See the caveats in the documentation: https://pandas.pydata.org/pandas-docs/stable/user_guide/indexing.html#returning-a-view-versus-a-copy\n",
      "  df_oop_jun_23.rename(columns={'jun_m_o_m_change': 'm_o_m_change'}, inplace=True)\n"
     ]
    }
   ],
   "source": [
    "# CLEAN UP COLUMNS\n",
    "\n",
    "#jan_columns = ['id', 'customer_name', '2022-12-31', '2023-01-31', 'm_o_m_change', 'up_for_renewal', 'arr_value_after_renewal', 'renewal_type']\n",
    "#feb_columns = ['id', 'customer_name', '2023-01-31', '2023-02-28', 'm_o_m_change', 'up_for_renewal', 'arr_value_after_renewal', 'renewal_type']\n",
    "mar_columns = ['id', 'customer_name', '2023-02-28', '2023-03-31', 'm_o_m_change', 'up_for_renewal', 'arr_value_after_renewal', 'renewal_type']\n",
    "apr_columns = ['id', 'customer_name', '2023-03-31', '2023-04-30', 'm_o_m_change', 'up_for_renewal', 'arr_value_after_renewal', 'renewal_type']\n",
    "may_columns = ['id', 'customer_name', '2023-04-30', '2023-05-31', 'm_o_m_change', 'up_for_renewal', 'arr_value_after_renewal', 'renewal_type']\n",
    "jun_columns = ['id', 'customer_name', '2023-05-31', '2023-06-30', 'm_o_m_change', 'up_for_renewal', 'arr_value_after_renewal', 'renewal_type']\n",
    "\n",
    "\n",
    "#df_jan_23 = df_jan_renewals[jan_columns]\n",
    "#df_feb_23 = df_feb_renewals[feb_columns]\n",
    "df_mar_23 = df_mar_renewals[mar_columns]\n",
    "df_apr_23 = df_apr_renewals[apr_columns]\n",
    "df_may_23 = df_may_renewals[may_columns]\n",
    "df_jun_23 = df_jun_renewals[jun_columns]\n",
    "\n",
    "\n",
    "#jan_oop_columns = ['id', 'customer_name', '2022-12-31', '2023-01-31', 'jan_m_o_m_change', 'renewal_type']\n",
    "#feb_oop_columns = ['id', 'customer_name', '2023-01-31', '2023-02-28', 'feb_m_o_m_change', 'renewal_type']\n",
    "mar_oop_columns = ['id', 'customer_name', '2023-02-28', '2023-03-31', 'mar_m_o_m_change', 'renewal_type']\n",
    "apr_oop_columns = ['id', 'customer_name', '2023-03-31', '2023-04-30', 'apr_m_o_m_change', 'renewal_type']\n",
    "may_oop_columns = ['id', 'customer_name', '2023-04-30', '2023-05-31', 'may_m_o_m_change', 'renewal_type']\n",
    "jun_oop_columns = ['id', 'customer_name', '2023-05-31', '2023-06-30', 'may_m_o_m_change', 'renewal_type']\n",
    "\n",
    "\n",
    "#df_oop_jan_23 = df_jan_out_of_period[jan_oop_columns]\n",
    "#df_oop_feb_23 = df_feb_out_of_period[feb_oop_columns]\n",
    "df_oop_mar_23 = df_mar_out_of_period[mar_oop_columns]\n",
    "df_oop_apr_23 = df_apr_out_of_period[apr_oop_columns]\n",
    "df_oop_may_23 = df_may_out_of_period[may_oop_columns]\n",
    "df_oop_jun_23 = df_jun_out_of_period[jun_oop_columns]\n",
    "\n",
    "\n",
    "#df_oop_jan_23.rename(columns={'jan_m_o_m_change': 'm_o_m_change'}, inplace=True)\n",
    "#df_oop_feb_23.rename(columns={'feb_m_o_m_change': 'm_o_m_change'}, inplace=True)\n",
    "df_oop_mar_23.rename(columns={'mar_m_o_m_change': 'm_o_m_change'}, inplace=True)\n",
    "df_oop_apr_23.rename(columns={'apr_m_o_m_change': 'm_o_m_change'}, inplace=True)\n",
    "df_oop_may_23.rename(columns={'may_m_o_m_change': 'm_o_m_change'}, inplace=True)\n",
    "df_oop_jun_23.rename(columns={'jun_m_o_m_change': 'm_o_m_change'}, inplace=True)\n",
    "\n"
   ]
  },
  {
   "cell_type": "code",
   "execution_count": 25,
   "metadata": {},
   "outputs": [],
   "source": [
    "# SET UP FINAL JOINED DATAFRAME WITH IN- AND OUT-OF-TERM CHANGES\n",
    "\n",
    "#df_jan_23 = pd.concat([df_jan_23, df_oop_jan_23])\n",
    "#df_feb_23 = pd.concat([df_feb_23, df_oop_feb_23])\n",
    "df_mar_23 = pd.concat([df_mar_23, df_oop_mar_23])\n",
    "df_apr_23 = pd.concat([df_apr_23, df_oop_apr_23])\n",
    "df_may_23 = pd.concat([df_may_23, df_oop_may_23])\n",
    "df_jun_23 = pd.concat([df_jun_23, df_oop_jun_23])"
   ]
  },
  {
   "cell_type": "code",
   "execution_count": 26,
   "metadata": {},
   "outputs": [],
   "source": [
    "# EXPORT EXCEL FILE\n",
    "\n",
    "report_date = date.today()\n",
    "with pd.ExcelWriter(f\"{report_date}-renewals.xlsx\") as writer:\n",
    "   \n",
    "    # use to_excel function and specify the sheet_name and index\n",
    "    # to store the dataframe in specified sheet\n",
    "    #df_jan_23.to_excel(writer, sheet_name=\"jan-23\", index=False)\n",
    "    #df_feb_23.to_excel(writer, sheet_name=\"feb-23\", index=False)\n",
    "    df_mar_23.to_excel(writer, sheet_name=\"mar-23\", index=False)\n",
    "    df_apr_23.to_excel(writer, sheet_name='apr-23', index=False)\n",
    "    df_may_23.to_excel(writer, sheet_name='may-23', index=False)\n",
    "    df_jun_23.to_excel(writer, sheet_name='jun-23', index=False)"
   ]
  },
  {
   "cell_type": "code",
   "execution_count": 27,
   "metadata": {},
   "outputs": [],
   "source": [
    "## ---=== END ===---- ##"
   ]
  },
  {
   "cell_type": "code",
   "execution_count": null,
   "metadata": {},
   "outputs": [],
   "source": []
  },
  {
   "cell_type": "code",
   "execution_count": null,
   "metadata": {},
   "outputs": [],
   "source": []
  },
  {
   "cell_type": "code",
   "execution_count": null,
   "metadata": {},
   "outputs": [],
   "source": []
  },
  {
   "cell_type": "code",
   "execution_count": 28,
   "metadata": {},
   "outputs": [
    {
     "ename": "NameError",
     "evalue": "name 'df_jan_renewals' is not defined",
     "output_type": "error",
     "traceback": [
      "\u001b[0;31m---------------------------------------------------------------------------\u001b[0m",
      "\u001b[0;31mNameError\u001b[0m                                 Traceback (most recent call last)",
      "Cell \u001b[0;32mIn[28], line 1\u001b[0m\n\u001b[0;32m----> 1\u001b[0m df_jan_renewals\u001b[39m.\u001b[39mto_excel(\u001b[39m'\u001b[39m\u001b[39mto-check-1.xlsx\u001b[39m\u001b[39m'\u001b[39m, index\u001b[39m=\u001b[39m\u001b[39mFalse\u001b[39;00m)\n",
      "\u001b[0;31mNameError\u001b[0m: name 'df_jan_renewals' is not defined"
     ]
    }
   ],
   "source": [
    "df_jan_renewals.to_excel('to-check-1.xlsx', index=False)"
   ]
  },
  {
   "cell_type": "code",
   "execution_count": null,
   "metadata": {},
   "outputs": [],
   "source": [
    "df_jan_renewals_clean['type'] = df_jan_renewals_clean.apply(lambda x: categorize_account_value_change(x['2023-01-31'], x['2022-12-31']), axis=1)"
   ]
  },
  {
   "cell_type": "code",
   "execution_count": null,
   "metadata": {},
   "outputs": [],
   "source": [
    "df_jan_renewals_clean.loc[df_jan_renewals_clean['id'] == '5160']"
   ]
  },
  {
   "cell_type": "code",
   "execution_count": null,
   "metadata": {},
   "outputs": [],
   "source": [
    "Churn\n",
    "Renewed - Downsell\n",
    "Renewed - No change\n",
    "Renewed - Upsell\n",
    "In Process"
   ]
  },
  {
   "cell_type": "code",
   "execution_count": null,
   "metadata": {},
   "outputs": [],
   "source": [
    "df_per_account_2 = pd.read_excel('/Users/jesperfriislarnaes/Library/CloudStorage/OneDrive-eloomi/Scripts/New_Dashboard/23_Jan/23-jan-renewals-churns/all_geos_total-ltm-arr-per-account.xlsx')"
   ]
  },
  {
   "cell_type": "code",
   "execution_count": null,
   "metadata": {},
   "outputs": [],
   "source": [
    "df_per_account_2"
   ]
  },
  {
   "cell_type": "code",
   "execution_count": null,
   "metadata": {},
   "outputs": [],
   "source": [
    "df_jan_non_renewals = df_per_account_2.loc[~df_per_account_2['id'].isin(jan_renewals_id)]\n",
    "df_feb_non_renewals = df_per_account_2.loc[~df_per_account_2['id'].isin(feb_renewals_id)]"
   ]
  },
  {
   "cell_type": "code",
   "execution_count": null,
   "metadata": {},
   "outputs": [],
   "source": [
    "df_feb_non_renewals"
   ]
  },
  {
   "cell_type": "code",
   "execution_count": null,
   "metadata": {},
   "outputs": [],
   "source": [
    "def calculate_m_o_m_change(current, prior):\n",
    "    return current - prior"
   ]
  },
  {
   "cell_type": "code",
   "execution_count": null,
   "metadata": {},
   "outputs": [],
   "source": [
    "df_jan_non_renewals['jan_out_of_term_changes'] = df_jan_non_renewals.apply(lambda x: calculate_m_o_m_change(x['2023-01-31'], x['2022-12-31']), axis=1)\n",
    "df_feb_non_renewals['feb_out_of_term_changes'] = df_feb_non_renewals.apply(lambda x: calculate_m_o_m_change(x['2023-02-28'], x['2023-01-31']), axis=1)"
   ]
  },
  {
   "cell_type": "code",
   "execution_count": null,
   "metadata": {},
   "outputs": [],
   "source": [
    "jan_non_renewals_cols = ['id','2022-12-31', '2023-01-31', 'jan_out_of_term_changes']\n",
    "feb_non_renewals_cols = ['id', '2023-01-31', '2023-02-28', 'feb_out_of_term_changes']\n",
    "\n",
    "df_jan_23_non_renew = df_jan_non_renewals[jan_non_renewals_cols]\n",
    "df_feb_23_non_renew = df_feb_non_renewals[feb_non_renewals_cols]"
   ]
  },
  {
   "cell_type": "code",
   "execution_count": null,
   "metadata": {},
   "outputs": [],
   "source": [
    "df_jan_23_non_renew"
   ]
  },
  {
   "cell_type": "code",
   "execution_count": null,
   "metadata": {},
   "outputs": [],
   "source": [
    "# REMOVE NEW LOGOS"
   ]
  },
  {
   "cell_type": "code",
   "execution_count": null,
   "metadata": {},
   "outputs": [],
   "source": [
    "df_jan_non_renewals.columns"
   ]
  },
  {
   "cell_type": "code",
   "execution_count": null,
   "metadata": {},
   "outputs": [],
   "source": [
    "df_feb_non_renewals['feb_out_of_term_changes'].sum()"
   ]
  },
  {
   "cell_type": "code",
   "execution_count": null,
   "metadata": {},
   "outputs": [],
   "source": [
    "with pd.ExcelWriter(f\"{report_date}-non-renewals.xlsx\") as writer:\n",
    "   \n",
    "    # use to_excel function and specify the sheet_name and index\n",
    "    # to store the dataframe in specified sheet\n",
    "    df_jan_23_non_renew.to_excel(writer, sheet_name=\"jan-23-non-renew\", index=False)\n",
    "    df_feb_23_non_renew.to_excel(writer, sheet_name=\"feb-23-non-renew\", index=False)"
   ]
  }
 ],
 "metadata": {
  "kernelspec": {
   "display_name": "base",
   "language": "python",
   "name": "python3"
  },
  "language_info": {
   "codemirror_mode": {
    "name": "ipython",
    "version": 3
   },
   "file_extension": ".py",
   "mimetype": "text/x-python",
   "name": "python",
   "nbconvert_exporter": "python",
   "pygments_lexer": "ipython3",
   "version": "3.10.9"
  },
  "orig_nbformat": 4,
  "vscode": {
   "interpreter": {
    "hash": "141315d3ac9c5949835768f3203c43ff0732cf0a277d53252ec4baf98543640d"
   }
  }
 },
 "nbformat": 4,
 "nbformat_minor": 2
}
