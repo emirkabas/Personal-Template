{
 "cells": [
  {
   "cell_type": "code",
   "execution_count": 2,
   "metadata": {},
   "outputs": [
    {
     "name": "stderr",
     "output_type": "stream",
     "text": [
      "/Users/emirkabasoglu/anaconda3/lib/python3.10/site-packages/openpyxl/worksheet/_read_only.py:79: UserWarning: Cell U2 is marked as a date but the serial value 9422444611 is outside the limits for dates. The cell will be treated as an error.\n",
      "  for idx, row in parser.parse():\n",
      "/Users/emirkabasoglu/anaconda3/lib/python3.10/site-packages/openpyxl/worksheet/_read_only.py:79: UserWarning: Cell U3 is marked as a date but the serial value 9422444611 is outside the limits for dates. The cell will be treated as an error.\n",
      "  for idx, row in parser.parse():\n",
      "/Users/emirkabasoglu/anaconda3/lib/python3.10/site-packages/openpyxl/worksheet/_read_only.py:79: UserWarning: Cell U4 is marked as a date but the serial value 9422444611 is outside the limits for dates. The cell will be treated as an error.\n",
      "  for idx, row in parser.parse():\n"
     ]
    }
   ],
   "source": [
    "# Import libraries\n",
    "import pandas as pd\n",
    "import glob\n",
    "import numpy as np\n",
    "\n",
    "# Set path for glob to search from and create a list of all paths to the customer Excel files in sub-folders\n",
    "path = '/Users/emirkabasoglu/Library/CloudStorage/Box-Box/Customer_Data/Accounts_Work_Folder_Latest'\n",
    "files = glob.glob(path + '/*/*.xlsx', recursive=True)\n",
    "\n",
    "# Create list of dataframes through a list comprehension reading each Excel file with a path name in files\n",
    "dfs = [pd.read_excel(f) for f in files]\n",
    "\n",
    "# Concatenate all dataframes in dfs into a single dataframe\n",
    "df_main = pd.concat(dfs).reset_index(drop=True)"
   ]
  },
  {
   "cell_type": "code",
   "execution_count": 3,
   "metadata": {},
   "outputs": [],
   "source": [
    "# CHECK FOR DUPLICATE FILES\n",
    "df_files = pd.DataFrame(files, columns={'path'})\n",
    "df_files['files'] = df_files['path'].str.lstrip(to_strip=f'{path}')\n",
    "df_files['folders'] = df_files['files'].str.split(pat='/')\n",
    "paths = []\n",
    "for i in df_files['folders']:\n",
    "    paths.append(i[0])\n",
    "dup = {x for x in paths if paths.count(x) > 1}\n",
    "len(dup)"
   ]
  },
  {
   "cell_type": "code",
   "execution_count": 4,
   "metadata": {},
   "outputs": [],
   "source": [
    "#df_paths = pd.DataFrame (paths, columns = ['econ'])\n",
    "#df_paths.to_excel('check.xlsx')"
   ]
  },
  {
   "cell_type": "code",
   "execution_count": 5,
   "metadata": {},
   "outputs": [],
   "source": [
    "#df_main.to_excel('df_main-dump-23-jun-26.xlsx', index=False)\n",
    "df_main = df_main.dropna(subset=['currency'])\n",
    "#df_main.currency.unique()"
   ]
  },
  {
   "cell_type": "code",
   "execution_count": 6,
   "metadata": {},
   "outputs": [],
   "source": [
    "# Define function to convert values to DKK using defined exchange rates. Run function to add column for item prices converted to DKK.\n",
    "def currency_conversion(price,currency):\n",
    "    \n",
    "    # FY23 FX Rates\n",
    "    multiplier = {\"EUR\": 7.45, \"USD\": 6.86, \"GBP\": 8.68, \"DKK\": 1, \"AUD\": 4.54, \"NOK\": 0.64, \"SEK\": 0.63, \"ISK\": 0.05}\n",
    "    \n",
    "    return price * multiplier[currency]\n",
    "\n",
    "df_main[\"total_item_price_DKK\"] = df_main.apply(lambda x: currency_conversion(x[\"total_item_price\"], x[\"currency\"]), axis=1)\n",
    "\n",
    "df_main[\"total_item_price_EUR\"] = df_main.apply(lambda x: x[\"total_item_price_DKK\"] / 7.45, axis=1)"
   ]
  },
  {
   "cell_type": "code",
   "execution_count": 7,
   "metadata": {},
   "outputs": [],
   "source": [
    "# Set up dataframe for firmographic data and add these to the main dataframe.\n",
    "df_firmographics = pd.read_excel('/Users/emirkabasoglu/Library/CloudStorage/Box-Box/Chargebee/Firmographics/firmographics-latest.xlsx', sheet_name='latest')\n",
    "df_main = df_main.merge(df_firmographics.iloc[:,1:], on='econ_id', how='left')\n",
    "\n",
    "# Add size segments\n",
    "def segment(number_of_employees):\n",
    "    if number_of_employees <= 249:\n",
    "        return 'SMB'\n",
    "    elif number_of_employees in range(250,5000):\n",
    "        return 'MM'\n",
    "    else:\n",
    "        return 'ENT'\n",
    "\n",
    "df_main['fte_size_segment'] = df_main.apply(lambda x: segment(x['number_of_employees']), axis=1)"
   ]
  },
  {
   "cell_type": "code",
   "execution_count": 8,
   "metadata": {},
   "outputs": [
    {
     "name": "stderr",
     "output_type": "stream",
     "text": [
      "/var/folders/84/np97p6s9023f4v7_n4n1nqk40000gp/T/ipykernel_39228/1174387087.py:4: FutureWarning: The default value of regex will change from True to False in a future version.\n",
      "  df_main['product_name'] = df_main['product_name'].str.lower().str.replace(pattern, '').str.strip()\n"
     ]
    }
   ],
   "source": [
    "# Clean old product names\n",
    "pattern = '|'.join(['nrr_', 'wp_', 'hub_'])\n",
    "df_main['product_name']= df_main['product_name'].astype(str)\n",
    "df_main['product_name'] = df_main['product_name'].str.lower().str.replace(pattern, '').str.strip()\n",
    "\n",
    "# Set up dataframe with streamlined product names\n",
    "df_product_list = pd.read_excel('/Users/emirkabasoglu/Library/CloudStorage/Box-Box/Chargebee/Products/product-list-latest.xlsx')\n",
    "\n",
    "# Merge dataframes to add CB product names\n",
    "df_main = df_main.merge(df_product_list, how='left', left_on='product_name', right_on='old_name')\n",
    "\n",
    "df_main['product']= df_main['product'].astype(str)\n",
    "\n",
    "# Set up and execute function for assigning product groups\n",
    "def product_group(product_name):\n",
    "    if product_name.lower().startswith('content'):\n",
    "        return 'content'\n",
    "    else:\n",
    "        return 'software'\n",
    "\n",
    "df_main['product_group'] = df_main.apply(lambda x: product_group(x['product']), axis=1)\n",
    "\n",
    "# Set up and execute function for assigning product types\n",
    "def product_type(product_name):\n",
    "    infinite_products = ['infinite_play', 'infinite_plus', 'infinite_ee', 'infinite_free', 'infinite_service_api_access_support', 'infinite_service_sso_access_support']\n",
    "    if product_name in infinite_products:\n",
    "        return 'infinite'\n",
    "    elif product_name.startswith('content'):\n",
    "        return ''\n",
    "    else:\n",
    "        return 'people'\n",
    "df_main['product_type'] = df_main.apply(lambda x: product_type(x['product']), axis=1)"
   ]
  },
  {
   "cell_type": "code",
   "execution_count": 9,
   "metadata": {},
   "outputs": [
    {
     "name": "stderr",
     "output_type": "stream",
     "text": [
      "/Users/emirkabasoglu/anaconda3/lib/python3.10/site-packages/openpyxl/styles/stylesheet.py:226: UserWarning: Workbook contains no default style, apply openpyxl's default\n",
      "  warn(\"Workbook contains no default style, apply openpyxl's default\")\n"
     ]
    }
   ],
   "source": [
    "# Add lead source information\n",
    "df_hs = pd.read_excel('/Users/emirkabasoglu/Library/CloudStorage/OneDrive-eloomiAS/Shared_Scripts/GRR_Report/hubspot-crm-exports-customer-ops-won-2023-02-03.xlsx')"
   ]
  },
  {
   "cell_type": "code",
   "execution_count": 10,
   "metadata": {},
   "outputs": [],
   "source": [
    "def inbound_source(source):\n",
    "    google = ['PPC - Google AdWords']\n",
    "    bing = ['PPC - Bing']\n",
    "    # capterra = ['PPC - Capterra', 'Review DB - Capterra']\n",
    "    facebook = ['PPC - Facebook']\n",
    "    linkedin = []\n",
    "    review = ['PPC - Capterra', 'PPC - Software Advice', 'PPC - Getapp', 'Review DB - eLearning Industry', 'Review DB - People Managing People', 'Review DB - Select Software', 'Review DB - Softwaresuggest']\n",
    "    other = ['Referral - Other']\n",
    "    if source in google:\n",
    "        return 'google'\n",
    "    elif source in bing:\n",
    "        return 'bing'\n",
    "    # elif source in capterra:\n",
    "    #     return 'capterra'\n",
    "    elif source in facebook:\n",
    "        return 'facebook'\n",
    "    elif source in linkedin:\n",
    "        return 'linkedin'\n",
    "    elif source in review:\n",
    "        return 'review'\n",
    "    elif source in other:\n",
    "        return 'other'\n",
    "    else:\n",
    "        return np.nan\n",
    "\n",
    "df_hs['source'] = df_hs.apply(lambda x: inbound_source(x['Inbound Lead Source']), axis=1)"
   ]
  },
  {
   "cell_type": "code",
   "execution_count": 11,
   "metadata": {},
   "outputs": [],
   "source": [
    "# Merge sorted main df with HS info for lead source\n",
    "df_main = df_main.merge(df_hs[['Record ID', 'Inbound Lead Source', 'source',]], how='left', left_on='order_id', right_on='Record ID')\n",
    "\n",
    "# Drop missing sources\n",
    "df_main_drop_missing = df_main.dropna(subset=['source'])\n",
    "\n",
    "# Sort main subscription df by commit date\n",
    "df_main_sorted = df_main_drop_missing.sort_values(by=['committed_since'])\n",
    "\n",
    "# Set up dataframe for matching ids with inbound source\n",
    "df_ids_sources = df_main_sorted.groupby('econ_id').agg({'econ_id':'first','source':'first'})\n",
    "\n",
    "# Rename columns to allow for merging\n",
    "df_ids_sources.rename(columns={'econ_id': 'id', 'source': 'inbound_source'}, inplace=True)"
   ]
  },
  {
   "cell_type": "code",
   "execution_count": 12,
   "metadata": {},
   "outputs": [],
   "source": [
    "# Join sources with customer ids\n",
    "df_main = df_main.merge(df_ids_sources[['id', 'inbound_source']], how='left', left_on='econ_id', right_on='id')"
   ]
  },
  {
   "cell_type": "code",
   "execution_count": 18,
   "metadata": {},
   "outputs": [
    {
     "name": "stderr",
     "output_type": "stream",
     "text": [
      "/var/folders/84/np97p6s9023f4v7_n4n1nqk40000gp/T/ipykernel_39228/3414244019.py:7: SettingWithCopyWarning: \n",
      "A value is trying to be set on a copy of a slice from a DataFrame\n",
      "\n",
      "See the caveats in the documentation: https://pandas.pydata.org/pandas-docs/stable/user_guide/indexing.html#returning-a-view-versus-a-copy\n",
      "  df_customer_data.rename(columns={'econ_id': 'id', 'total_item_price_EUR': 'value', 'committed_since': 'commit', 'current_contract_start': 'start', 'current_contract_end': 'end', 'fte_size_segment': 'size', 'product_group': 'product', 'product_type': 'type'}, inplace=True) #'product_group': 'product', 'product_type': 'type'\n",
      "/var/folders/84/np97p6s9023f4v7_n4n1nqk40000gp/T/ipykernel_39228/3414244019.py:10: SettingWithCopyWarning: \n",
      "A value is trying to be set on a copy of a slice from a DataFrame\n",
      "\n",
      "See the caveats in the documentation: https://pandas.pydata.org/pandas-docs/stable/user_guide/indexing.html#returning-a-view-versus-a-copy\n",
      "  df_customer_data['region'].replace('Rest of World', 'ROW', inplace=True)\n"
     ]
    }
   ],
   "source": [
    "# Set up dataframe to be used for input to arr and carr calculations in other script\n",
    "# Select relevant columns\n",
    "df_main_columns = ['econ_id', 'total_item_price_EUR', 'committed_since', 'current_contract_start', 'current_contract_end', 'cancelled', 'renewal', 'region', 'fte_size_segment', 'inbound_source','product_group', 'product_type'] #'product_group', 'product_type', \n",
    "df_customer_data = df_main[df_main_columns]\n",
    "\n",
    "# Rename columns\n",
    "df_customer_data.rename(columns={'econ_id': 'id', 'total_item_price_EUR': 'value', 'committed_since': 'commit', 'current_contract_start': 'start', 'current_contract_end': 'end', 'fte_size_segment': 'size', 'product_group': 'product', 'product_type': 'type'}, inplace=True) #'product_group': 'product', 'product_type': 'type'\n",
    "\n",
    "# Replace region names to correspond to arr/carr script\n",
    "df_customer_data['region'].replace('Rest of World', 'ROW', inplace=True)\n",
    "\n",
    "# Lower case all strings\n",
    "df_customer_data = df_customer_data.applymap(lambda s:s.lower() if isinstance(s, str) else s)\n",
    "\n",
    "# Output final dataframe\n",
    "df_customer_data.to_excel('customer-subscription-data-dump-23-aug-01.xlsx', index=False)"
   ]
  },
  {
   "cell_type": "code",
   "execution_count": 14,
   "metadata": {},
   "outputs": [],
   "source": [
    "## ---=== END ===--- ##"
   ]
  },
  {
   "cell_type": "code",
   "execution_count": null,
   "metadata": {},
   "outputs": [],
   "source": []
  },
  {
   "cell_type": "code",
   "execution_count": null,
   "metadata": {},
   "outputs": [],
   "source": []
  },
  {
   "cell_type": "code",
   "execution_count": null,
   "metadata": {},
   "outputs": [],
   "source": []
  },
  {
   "cell_type": "code",
   "execution_count": null,
   "metadata": {},
   "outputs": [],
   "source": []
  },
  {
   "cell_type": "code",
   "execution_count": 15,
   "metadata": {},
   "outputs": [],
   "source": [
    "df_customer_data = df_customer_data.applymap(lambda s:s.lower() if isinstance(s, str) else s)"
   ]
  },
  {
   "cell_type": "code",
   "execution_count": 16,
   "metadata": {},
   "outputs": [],
   "source": [
    "df_main.to_excel('nov-main-to-check-2.xlsx')"
   ]
  },
  {
   "cell_type": "code",
   "execution_count": 17,
   "metadata": {},
   "outputs": [
    {
     "ename": "KeyboardInterrupt",
     "evalue": "",
     "output_type": "error",
     "traceback": [
      "\u001b[0;31m---------------------------------------------------------------------------\u001b[0m",
      "\u001b[0;31mKeyboardInterrupt\u001b[0m                         Traceback (most recent call last)",
      "Cell \u001b[0;32mIn[17], line 1\u001b[0m\n\u001b[0;32m----> 1\u001b[0m df_main\u001b[39m.\u001b[39;49mto_excel(\u001b[39m'\u001b[39;49m\u001b[39mdec-renewals-all-subs.xlsx\u001b[39;49m\u001b[39m'\u001b[39;49m, index\u001b[39m=\u001b[39;49m\u001b[39mFalse\u001b[39;49;00m)\n",
      "File \u001b[0;32m~/anaconda3/lib/python3.10/site-packages/pandas/util/_decorators.py:211\u001b[0m, in \u001b[0;36mdeprecate_kwarg.<locals>._deprecate_kwarg.<locals>.wrapper\u001b[0;34m(*args, **kwargs)\u001b[0m\n\u001b[1;32m    209\u001b[0m     \u001b[39melse\u001b[39;00m:\n\u001b[1;32m    210\u001b[0m         kwargs[new_arg_name] \u001b[39m=\u001b[39m new_arg_value\n\u001b[0;32m--> 211\u001b[0m \u001b[39mreturn\u001b[39;00m func(\u001b[39m*\u001b[39;49margs, \u001b[39m*\u001b[39;49m\u001b[39m*\u001b[39;49mkwargs)\n",
      "File \u001b[0;32m~/anaconda3/lib/python3.10/site-packages/pandas/util/_decorators.py:211\u001b[0m, in \u001b[0;36mdeprecate_kwarg.<locals>._deprecate_kwarg.<locals>.wrapper\u001b[0;34m(*args, **kwargs)\u001b[0m\n\u001b[1;32m    209\u001b[0m     \u001b[39melse\u001b[39;00m:\n\u001b[1;32m    210\u001b[0m         kwargs[new_arg_name] \u001b[39m=\u001b[39m new_arg_value\n\u001b[0;32m--> 211\u001b[0m \u001b[39mreturn\u001b[39;00m func(\u001b[39m*\u001b[39;49margs, \u001b[39m*\u001b[39;49m\u001b[39m*\u001b[39;49mkwargs)\n",
      "File \u001b[0;32m~/anaconda3/lib/python3.10/site-packages/pandas/core/generic.py:2374\u001b[0m, in \u001b[0;36mNDFrame.to_excel\u001b[0;34m(self, excel_writer, sheet_name, na_rep, float_format, columns, header, index, index_label, startrow, startcol, engine, merge_cells, encoding, inf_rep, verbose, freeze_panes, storage_options)\u001b[0m\n\u001b[1;32m   2361\u001b[0m \u001b[39mfrom\u001b[39;00m \u001b[39mpandas\u001b[39;00m\u001b[39m.\u001b[39;00m\u001b[39mio\u001b[39;00m\u001b[39m.\u001b[39;00m\u001b[39mformats\u001b[39;00m\u001b[39m.\u001b[39;00m\u001b[39mexcel\u001b[39;00m \u001b[39mimport\u001b[39;00m ExcelFormatter\n\u001b[1;32m   2363\u001b[0m formatter \u001b[39m=\u001b[39m ExcelFormatter(\n\u001b[1;32m   2364\u001b[0m     df,\n\u001b[1;32m   2365\u001b[0m     na_rep\u001b[39m=\u001b[39mna_rep,\n\u001b[0;32m   (...)\u001b[0m\n\u001b[1;32m   2372\u001b[0m     inf_rep\u001b[39m=\u001b[39minf_rep,\n\u001b[1;32m   2373\u001b[0m )\n\u001b[0;32m-> 2374\u001b[0m formatter\u001b[39m.\u001b[39;49mwrite(\n\u001b[1;32m   2375\u001b[0m     excel_writer,\n\u001b[1;32m   2376\u001b[0m     sheet_name\u001b[39m=\u001b[39;49msheet_name,\n\u001b[1;32m   2377\u001b[0m     startrow\u001b[39m=\u001b[39;49mstartrow,\n\u001b[1;32m   2378\u001b[0m     startcol\u001b[39m=\u001b[39;49mstartcol,\n\u001b[1;32m   2379\u001b[0m     freeze_panes\u001b[39m=\u001b[39;49mfreeze_panes,\n\u001b[1;32m   2380\u001b[0m     engine\u001b[39m=\u001b[39;49mengine,\n\u001b[1;32m   2381\u001b[0m     storage_options\u001b[39m=\u001b[39;49mstorage_options,\n\u001b[1;32m   2382\u001b[0m )\n",
      "File \u001b[0;32m~/anaconda3/lib/python3.10/site-packages/pandas/io/formats/excel.py:950\u001b[0m, in \u001b[0;36mExcelFormatter.write\u001b[0;34m(self, writer, sheet_name, startrow, startcol, freeze_panes, engine, storage_options)\u001b[0m\n\u001b[1;32m    947\u001b[0m     need_save \u001b[39m=\u001b[39m \u001b[39mTrue\u001b[39;00m\n\u001b[1;32m    949\u001b[0m \u001b[39mtry\u001b[39;00m:\n\u001b[0;32m--> 950\u001b[0m     writer\u001b[39m.\u001b[39;49m_write_cells(\n\u001b[1;32m    951\u001b[0m         formatted_cells,\n\u001b[1;32m    952\u001b[0m         sheet_name,\n\u001b[1;32m    953\u001b[0m         startrow\u001b[39m=\u001b[39;49mstartrow,\n\u001b[1;32m    954\u001b[0m         startcol\u001b[39m=\u001b[39;49mstartcol,\n\u001b[1;32m    955\u001b[0m         freeze_panes\u001b[39m=\u001b[39;49mfreeze_panes,\n\u001b[1;32m    956\u001b[0m     )\n\u001b[1;32m    957\u001b[0m \u001b[39mfinally\u001b[39;00m:\n\u001b[1;32m    958\u001b[0m     \u001b[39m# make sure to close opened file handles\u001b[39;00m\n\u001b[1;32m    959\u001b[0m     \u001b[39mif\u001b[39;00m need_save:\n",
      "File \u001b[0;32m~/anaconda3/lib/python3.10/site-packages/pandas/io/excel/_openpyxl.py:492\u001b[0m, in \u001b[0;36mOpenpyxlWriter._write_cells\u001b[0;34m(self, cells, sheet_name, startrow, startcol, freeze_panes)\u001b[0m\n\u001b[1;32m    487\u001b[0m     freeze_panes \u001b[39m=\u001b[39m cast(Tuple[\u001b[39mint\u001b[39m, \u001b[39mint\u001b[39m], freeze_panes)\n\u001b[1;32m    488\u001b[0m     wks\u001b[39m.\u001b[39mfreeze_panes \u001b[39m=\u001b[39m wks\u001b[39m.\u001b[39mcell(\n\u001b[1;32m    489\u001b[0m         row\u001b[39m=\u001b[39mfreeze_panes[\u001b[39m0\u001b[39m] \u001b[39m+\u001b[39m \u001b[39m1\u001b[39m, column\u001b[39m=\u001b[39mfreeze_panes[\u001b[39m1\u001b[39m] \u001b[39m+\u001b[39m \u001b[39m1\u001b[39m\n\u001b[1;32m    490\u001b[0m     )\n\u001b[0;32m--> 492\u001b[0m \u001b[39mfor\u001b[39;00m cell \u001b[39min\u001b[39;00m cells:\n\u001b[1;32m    493\u001b[0m     xcell \u001b[39m=\u001b[39m wks\u001b[39m.\u001b[39mcell(\n\u001b[1;32m    494\u001b[0m         row\u001b[39m=\u001b[39mstartrow \u001b[39m+\u001b[39m cell\u001b[39m.\u001b[39mrow \u001b[39m+\u001b[39m \u001b[39m1\u001b[39m, column\u001b[39m=\u001b[39mstartcol \u001b[39m+\u001b[39m cell\u001b[39m.\u001b[39mcol \u001b[39m+\u001b[39m \u001b[39m1\u001b[39m\n\u001b[1;32m    495\u001b[0m     )\n\u001b[1;32m    496\u001b[0m     xcell\u001b[39m.\u001b[39mvalue, fmt \u001b[39m=\u001b[39m \u001b[39mself\u001b[39m\u001b[39m.\u001b[39m_value_with_fmt(cell\u001b[39m.\u001b[39mval)\n",
      "File \u001b[0;32m~/anaconda3/lib/python3.10/site-packages/pandas/io/formats/excel.py:887\u001b[0m, in \u001b[0;36mExcelFormatter.get_formatted_cells\u001b[0;34m(self)\u001b[0m\n\u001b[1;32m    886\u001b[0m \u001b[39mdef\u001b[39;00m \u001b[39mget_formatted_cells\u001b[39m(\u001b[39mself\u001b[39m) \u001b[39m-\u001b[39m\u001b[39m>\u001b[39m Iterable[ExcelCell]:\n\u001b[0;32m--> 887\u001b[0m     \u001b[39mfor\u001b[39;00m cell \u001b[39min\u001b[39;00m itertools\u001b[39m.\u001b[39mchain(\u001b[39mself\u001b[39m\u001b[39m.\u001b[39m_format_header(), \u001b[39mself\u001b[39m\u001b[39m.\u001b[39m_format_body()):\n\u001b[1;32m    888\u001b[0m         cell\u001b[39m.\u001b[39mval \u001b[39m=\u001b[39m \u001b[39mself\u001b[39m\u001b[39m.\u001b[39m_format_value(cell\u001b[39m.\u001b[39mval)\n\u001b[1;32m    889\u001b[0m         \u001b[39myield\u001b[39;00m cell\n",
      "File \u001b[0;32m~/anaconda3/lib/python3.10/site-packages/pandas/io/formats/excel.py:782\u001b[0m, in \u001b[0;36mExcelFormatter._format_regular_rows\u001b[0;34m(self)\u001b[0m\n\u001b[1;32m    779\u001b[0m \u001b[39melse\u001b[39;00m:\n\u001b[1;32m    780\u001b[0m     coloffset \u001b[39m=\u001b[39m \u001b[39m0\u001b[39m\n\u001b[0;32m--> 782\u001b[0m \u001b[39myield from\u001b[39;00m \u001b[39mself\u001b[39m\u001b[39m.\u001b[39m_generate_body(coloffset)\n",
      "File \u001b[0;32m~/anaconda3/lib/python3.10/site-packages/pandas/io/formats/excel.py:875\u001b[0m, in \u001b[0;36mExcelFormatter._generate_body\u001b[0;34m(self, coloffset)\u001b[0m\n\u001b[1;32m    873\u001b[0m series \u001b[39m=\u001b[39m \u001b[39mself\u001b[39m\u001b[39m.\u001b[39mdf\u001b[39m.\u001b[39miloc[:, colidx]\n\u001b[1;32m    874\u001b[0m \u001b[39mfor\u001b[39;00m i, val \u001b[39min\u001b[39;00m \u001b[39menumerate\u001b[39m(series):\n\u001b[0;32m--> 875\u001b[0m     \u001b[39myield\u001b[39;00m CssExcelCell(\n\u001b[1;32m    876\u001b[0m         row\u001b[39m=\u001b[39;49m\u001b[39mself\u001b[39;49m\u001b[39m.\u001b[39;49mrowcounter \u001b[39m+\u001b[39;49m i,\n\u001b[1;32m    877\u001b[0m         col\u001b[39m=\u001b[39;49mcolidx \u001b[39m+\u001b[39;49m coloffset,\n\u001b[1;32m    878\u001b[0m         val\u001b[39m=\u001b[39;49mval,\n\u001b[1;32m    879\u001b[0m         style\u001b[39m=\u001b[39;49m\u001b[39mNone\u001b[39;49;00m,\n\u001b[1;32m    880\u001b[0m         css_styles\u001b[39m=\u001b[39;49m\u001b[39mgetattr\u001b[39;49m(\u001b[39mself\u001b[39;49m\u001b[39m.\u001b[39;49mstyler, \u001b[39m\"\u001b[39;49m\u001b[39mctx\u001b[39;49m\u001b[39m\"\u001b[39;49m, \u001b[39mNone\u001b[39;49;00m),\n\u001b[1;32m    881\u001b[0m         css_row\u001b[39m=\u001b[39;49mi,\n\u001b[1;32m    882\u001b[0m         css_col\u001b[39m=\u001b[39;49mcolidx,\n\u001b[1;32m    883\u001b[0m         css_converter\u001b[39m=\u001b[39;49m\u001b[39mself\u001b[39;49m\u001b[39m.\u001b[39;49mstyle_converter,\n\u001b[1;32m    884\u001b[0m     )\n",
      "File \u001b[0;32m~/anaconda3/lib/python3.10/site-packages/pandas/io/formats/excel.py:100\u001b[0m, in \u001b[0;36mCssExcelCell.__init__\u001b[0;34m(self, row, col, val, style, css_styles, css_row, css_col, css_converter, **kwargs)\u001b[0m\n\u001b[1;32m     97\u001b[0m     unique_declarations \u001b[39m=\u001b[39m \u001b[39mfrozenset\u001b[39m(declaration_dict\u001b[39m.\u001b[39mitems())\n\u001b[1;32m     98\u001b[0m     style \u001b[39m=\u001b[39m css_converter(unique_declarations)\n\u001b[0;32m--> 100\u001b[0m \u001b[39msuper\u001b[39;49m()\u001b[39m.\u001b[39;49m\u001b[39m__init__\u001b[39;49m(row\u001b[39m=\u001b[39;49mrow, col\u001b[39m=\u001b[39;49mcol, val\u001b[39m=\u001b[39;49mval, style\u001b[39m=\u001b[39;49mstyle, \u001b[39m*\u001b[39;49m\u001b[39m*\u001b[39;49mkwargs)\n",
      "\u001b[0;31mKeyboardInterrupt\u001b[0m: "
     ]
    }
   ],
   "source": [
    "df_main.to_excel('dec-renewals-all-subs.xlsx', index=False)"
   ]
  },
  {
   "cell_type": "code",
   "execution_count": null,
   "metadata": {},
   "outputs": [],
   "source": [
    "s_id_db = set(df_customer_data['id'])\n",
    "s_id_firmo = set(df_firmographics['econ_id'])"
   ]
  },
  {
   "cell_type": "code",
   "execution_count": null,
   "metadata": {},
   "outputs": [
    {
     "data": {
      "text/plain": [
       "{6004,\n",
       " 6005,\n",
       " 6106,\n",
       " 6108,\n",
       " 6372,\n",
       " 6524,\n",
       " 6811,\n",
       " 6813,\n",
       " 6959,\n",
       " 7075,\n",
       " 1005916,\n",
       " 272105381}"
      ]
     },
     "execution_count": 18,
     "metadata": {},
     "output_type": "execute_result"
    }
   ],
   "source": [
    "s_id_firmo.difference(s_id_db)"
   ]
  },
  {
   "cell_type": "code",
   "execution_count": null,
   "metadata": {},
   "outputs": [
    {
     "data": {
      "text/plain": [
       "{7093,\n",
       " 7094,\n",
       " 7095,\n",
       " 7096,\n",
       " 7097,\n",
       " 7098,\n",
       " 7099,\n",
       " 7100,\n",
       " 7101,\n",
       " 7102,\n",
       " 7103,\n",
       " 7104,\n",
       " 7105,\n",
       " 7106,\n",
       " 7107,\n",
       " 7108,\n",
       " 7109,\n",
       " 7110,\n",
       " 7111,\n",
       " 7112}"
      ]
     },
     "execution_count": 19,
     "metadata": {},
     "output_type": "execute_result"
    }
   ],
   "source": [
    "s_id_db.difference(s_id_firmo)"
   ]
  },
  {
   "cell_type": "code",
   "execution_count": null,
   "metadata": {},
   "outputs": [
    {
     "data": {
      "text/plain": [
       "Index(['customer_name', 'econ_id', 'country', 'region', 'number_of_employees',\n",
       "       'sub_industry', 'industry', 'industry_group', 'sector'],\n",
       "      dtype='object')"
      ]
     },
     "execution_count": 20,
     "metadata": {},
     "output_type": "execute_result"
    }
   ],
   "source": [
    "df_firmographics.columns"
   ]
  },
  {
   "cell_type": "code",
   "execution_count": null,
   "metadata": {},
   "outputs": [],
   "source": []
  }
 ],
 "metadata": {
  "kernelspec": {
   "display_name": "base",
   "language": "python",
   "name": "python3"
  },
  "language_info": {
   "codemirror_mode": {
    "name": "ipython",
    "version": 3
   },
   "file_extension": ".py",
   "mimetype": "text/x-python",
   "name": "python",
   "nbconvert_exporter": "python",
   "pygments_lexer": "ipython3",
   "version": "3.10.9"
  },
  "orig_nbformat": 4,
  "vscode": {
   "interpreter": {
    "hash": "141315d3ac9c5949835768f3203c43ff0732cf0a277d53252ec4baf98543640d"
   }
  }
 },
 "nbformat": 4,
 "nbformat_minor": 2
}
