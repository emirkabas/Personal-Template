{
 "cells": [
  {
   "cell_type": "code",
   "execution_count": 157,
   "metadata": {},
   "outputs": [],
   "source": [
    "# IMPORT LIBRARIES\n",
    "#import psycopg2 as pg2\n",
    "import pandas as pd\n",
    "import numpy as np\n",
    "from datetime import datetime\n",
    "from datetime import date\n",
    "import snowflake.connector"
   ]
  },
  {
   "cell_type": "code",
   "execution_count": 158,
   "metadata": {},
   "outputs": [],
   "source": [
    "#CONNECT TO SNOWFLAKE WITH REPORTER CREDENTIALS\n",
    "conn = snowflake.connector.connect(\n",
    "    user='emirkabasoglu', #emirkabasoglu\n",
    "    password='7Bb13287', #7Bb13287\n",
    "    account='se63477.north-europe.azure',\n",
    "    warehouse='TRANSFORMING_WH',\n",
    "    database='PROD_ANALYTICS_DB'\n",
    "    )"
   ]
  },
  {
   "cell_type": "code",
   "execution_count": 166,
   "metadata": {},
   "outputs": [
    {
     "data": {
      "text/plain": [
       "<snowflake.connector.cursor.SnowflakeCursor at 0x7fd07210eee0>"
      ]
     },
     "execution_count": 166,
     "metadata": {},
     "output_type": "execute_result"
    }
   ],
   "source": [
    "#START THE CURSOR AND RUN THE QUERY\n",
    "cur = conn.cursor()\n",
    "cur.execute('''\n",
    "\n",
    "SELECT \n",
    "t4.customer_name,\n",
    "t1.customer_id,t1.subscription_id,t1.status,t1.quantity,t1.arr_eur,t1.start_date,t1.end_date,t2.external_name,\n",
    "DATEDIFF('YEARS',START_DATE,END_DATE) AS Contract_length,t3.billing_period_unit,\n",
    "t3.billing_period_frequency,\n",
    "case when start_date >= '2024-01-01' then 'New Sales' else 'Renewal' end as sales_type\n",
    "FROM DBT_DEPLOY.SUBSCRIPTIONS t1 \n",
    "left join DBT_DEPLOY.products t2 on t1.item_id=t2.item_id\n",
    "left join DBT_DEPLOY.stg_chargebee__subscription t3 on t1.subscription_id=t3.subscription_id\n",
    "left join DBT_DEPLOY.customers t4 on t4.customer_id=t1.customer_id\n",
    "where (item_family_id IN ('3','4') OR t1.item_id IN ('8_2','8_3'))\n",
    "AND (end_date >'2023-12-31') and (end_date!='2024-12-31') and t1.status!='cancelled'\n",
    "and start_date < '2025-01-01'\n",
    "order by end_date \n",
    "    '''\n",
    ")\n"
   ]
  },
  {
   "cell_type": "code",
   "execution_count": 167,
   "metadata": {},
   "outputs": [],
   "source": [
    "# ADD DESCRIPTION AS COLUMN LABELS\n",
    "items_db_fetched = cur.fetchall()\n",
    "cols = []\n",
    "for i in cur.description:\n",
    "    cols.append(i[0])\n",
    "\n",
    "df_items_db_fetched = pd.DataFrame(items_db_fetched, columns=cols)"
   ]
  },
  {
   "cell_type": "code",
   "execution_count": 168,
   "metadata": {},
   "outputs": [],
   "source": [
    "# ASSIGN TO MAIN DF FOR FUTHER TRANSFORMATION\n",
    "df_main = df_items_db_fetched"
   ]
  },
  {
   "cell_type": "code",
   "execution_count": 169,
   "metadata": {},
   "outputs": [
    {
     "data": {
      "text/plain": [
       "CUSTOMER_NAME                object\n",
       "CUSTOMER_ID                  object\n",
       "SUBSCRIPTION_ID              object\n",
       "STATUS                       object\n",
       "QUANTITY                      int64\n",
       "ARR_EUR                     float64\n",
       "START_DATE                   object\n",
       "END_DATE                     object\n",
       "EXTERNAL_NAME                object\n",
       "CONTRACT_LENGTH               int64\n",
       "BILLING_PERIOD_UNIT          object\n",
       "BILLING_PERIOD_FREQUENCY      int64\n",
       "SALES_TYPE                   object\n",
       "dtype: object"
      ]
     },
     "execution_count": 169,
     "metadata": {},
     "output_type": "execute_result"
    }
   ],
   "source": [
    "df_main.dtypes"
   ]
  },
  {
   "cell_type": "code",
   "execution_count": 170,
   "metadata": {},
   "outputs": [],
   "source": [
    "#CONVERT ALL THE COLUMN NAMES LOWER CASE\n",
    "\n",
    "df_main.columns= df_main.columns.str.lower()\n"
   ]
  },
  {
   "cell_type": "code",
   "execution_count": 164,
   "metadata": {},
   "outputs": [],
   "source": [
    "#DROP ANY COLUMN YOU WANT\n",
    "#df_main = df_main.drop(columns=['_fivetran_synced'])\n"
   ]
  },
  {
   "cell_type": "code",
   "execution_count": 171,
   "metadata": {},
   "outputs": [],
   "source": [
    "# OUTPUT FINAL FILE WITH ALL DIFFERENCES\n",
    "df_main.to_excel('/Users/emirkabasoglu/Desktop/Eloomi/VS Codes/Jupyter Notebook Scripts/Snowflake Scripts/snowflake-to-excel.xlsx')"
   ]
  }
 ],
 "metadata": {
  "kernelspec": {
   "display_name": "Python 3.9.7 ('base')",
   "language": "python",
   "name": "python3"
  },
  "language_info": {
   "codemirror_mode": {
    "name": "ipython",
    "version": 3
   },
   "file_extension": ".py",
   "mimetype": "text/x-python",
   "name": "python",
   "nbconvert_exporter": "python",
   "pygments_lexer": "ipython3",
   "version": "3.9.18"
  },
  "orig_nbformat": 4,
  "vscode": {
   "interpreter": {
    "hash": "38aef752a079a85de1739380fb1638eeeade851c41e3775971b8ec62af2e1c1a"
   }
  }
 },
 "nbformat": 4,
 "nbformat_minor": 2
}
