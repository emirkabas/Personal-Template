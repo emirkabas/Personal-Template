{
 "cells": [
  {
   "cell_type": "code",
   "execution_count": 1,
   "metadata": {},
   "outputs": [],
   "source": [
    "# IMPORT LIBRARIES\n",
    "import psycopg2 as pg2\n",
    "import pandas as pd\n",
    "import numpy as np\n",
    "from datetime import datetime\n",
    "from datetime import date\n",
    "import snowflake.connector"
   ]
  },
  {
   "cell_type": "code",
   "execution_count": 2,
   "metadata": {},
   "outputs": [],
   "source": [
    "#CONNECT TO SNOWFLAKE WITH REPORTER CREDENTIALS\n",
    "conn = snowflake.connector.connect(\n",
    "    user='emirkabasoglu', #emirkabasoglu\n",
    "    password='7Bb13287', #7Bb13287\n",
    "    account='se63477.north-europe.azure',\n",
    "    warehouse='TRANSFORMING_WH',\n",
    "    database='PROD_ANALYTICS_DB'\n",
    "    )"
   ]
  },
  {
   "cell_type": "code",
   "execution_count": 19,
   "metadata": {},
   "outputs": [
    {
     "data": {
      "text/plain": [
       "<snowflake.connector.cursor.SnowflakeCursor at 0x7fd9e9237880>"
      ]
     },
     "execution_count": 19,
     "metadata": {},
     "output_type": "execute_result"
    }
   ],
   "source": [
    "#START THE CURSOR AND RUN THE QUERY\n",
    "cur = conn.cursor()\n",
    "cur.execute(''' \n",
    "\n",
    "--BOARD METRICS NETSUITE \n",
    "\n",
    "\n",
    "\n",
    "select\n",
    "t1.econ_id as id,\n",
    "t1.customer_id,\n",
    "t1.company_name,\n",
    "t2.item_id,\n",
    "t2.item,\n",
    "t2.product_type,\n",
    "t2.quantity,\n",
    "t2.value_arr_eur as value,\n",
    "t2.commit_date as commit,\n",
    "t2.start_date as \"start\",\n",
    "t2.end_date as end ,\n",
    "t2.cancelled,\n",
    "t1.region,\n",
    "case when t3.fte_size < 250 then 'smb' \n",
    "     when (t3.fte_size > 249 and 5001 > t3.fte_size)  then 'mm'\n",
    "     when t3.fte_size is null then null\n",
    "     else 'ent' end as size,\n",
    "case when t2.product_type ilike ('%content%') then 'content' \n",
    "     else 'software' end as product,\n",
    "case when t2.product_type ilike ('%infinite%') then 'infinite'\n",
    "     when t2.product_type ilike ('%content%')  then ''\n",
    "     else 'people' end as type,\n",
    "case when t6.inbound_lead_source in ('ppc - google') then 'google'\n",
    "     when t6.inbound_lead_source in ('ppc - bing') then 'bing' \n",
    "     when t6.inbound_lead_source in ('ppc - facebook') then 'facebook'\n",
    "     when t6.inbound_lead_source in ('ppc - linkedin') then 'linkedin'       \n",
    "     when t6.inbound_lead_source in ('review db - capterra','review db - software advice','review db - getapp', 'review db - elearning industry', 'review db - people managing people', 'review db - select software', 'review db - softwaresuggest') then 'review' \n",
    "     when t6.inbound_lead_source in ('referral - other') then 'other'\n",
    "     else null end as inbound_source\n",
    "from prod_analytics_db.dbt_deploy.netsuite_customers t1\n",
    "left join prod_analytics_db.dbt_deploy.netsuite_subscriptions t2 \n",
    "on t1.customer_id=t2.customer_id \n",
    "left join prod_analytics_db.dbt_deploy.int_customer_firmographic_assigned t3 on t3.company_id=t1.hubspot_id\n",
    "left join prod_analytics_db.dbt_deploy.stg_hubspot__deal t6 \n",
    "on try_cast(t6.deal_id as number) = try_cast(t2.hubspot_deal_id as number)\n",
    "where  t2.item_id is not null\n",
    "\n",
    "''')\n"
   ]
  },
  {
   "cell_type": "code",
   "execution_count": 20,
   "metadata": {},
   "outputs": [],
   "source": [
    "# ADD DESCRIPTION AS COLUMN LABELS\n",
    "items_db_fetched = cur.fetchall()\n",
    "cols = []\n",
    "for i in cur.description:\n",
    "    cols.append(i[0])\n",
    "\n",
    "df_items_db_fetched = pd.DataFrame(items_db_fetched, columns=cols)"
   ]
  },
  {
   "cell_type": "code",
   "execution_count": 21,
   "metadata": {},
   "outputs": [],
   "source": [
    "# ASSIGN TO MAIN DF FOR FUTHER TRANSFORMATION\n",
    "df_main = df_items_db_fetched"
   ]
  },
  {
   "cell_type": "code",
   "execution_count": 22,
   "metadata": {},
   "outputs": [
    {
     "data": {
      "text/plain": [
       "Index(['ID', 'CUSTOMER_ID', 'COMPANY_NAME', 'ITEM_ID', 'ITEM', 'PRODUCT_TYPE',\n",
       "       'QUANTITY', 'VALUE', 'COMMIT', 'start', 'END', 'CANCELLED', 'REGION',\n",
       "       'SIZE', 'PRODUCT', 'TYPE', 'INBOUND_SOURCE'],\n",
       "      dtype='object')"
      ]
     },
     "execution_count": 22,
     "metadata": {},
     "output_type": "execute_result"
    }
   ],
   "source": [
    "df_main.columns"
   ]
  },
  {
   "cell_type": "code",
   "execution_count": 23,
   "metadata": {},
   "outputs": [],
   "source": [
    "#CONVERT ALL THE COLUMN NAMES LOWER CASE\n",
    "df_main.columns= df_main.columns.str.lower()\n",
    "##df_main['size'] = df_main['size'].str.lower()\n",
    "df_main['region'] = df_main['region'].str.lower()\n",
    "\n"
   ]
  },
  {
   "cell_type": "code",
   "execution_count": 24,
   "metadata": {},
   "outputs": [
    {
     "data": {
      "text/html": [
       "<div>\n",
       "<style scoped>\n",
       "    .dataframe tbody tr th:only-of-type {\n",
       "        vertical-align: middle;\n",
       "    }\n",
       "\n",
       "    .dataframe tbody tr th {\n",
       "        vertical-align: top;\n",
       "    }\n",
       "\n",
       "    .dataframe thead th {\n",
       "        text-align: right;\n",
       "    }\n",
       "</style>\n",
       "<table border=\"1\" class=\"dataframe\">\n",
       "  <thead>\n",
       "    <tr style=\"text-align: right;\">\n",
       "      <th></th>\n",
       "      <th>id</th>\n",
       "      <th>customer_id</th>\n",
       "      <th>company_name</th>\n",
       "      <th>item_id</th>\n",
       "      <th>item</th>\n",
       "      <th>product_type</th>\n",
       "      <th>quantity</th>\n",
       "      <th>value</th>\n",
       "      <th>commit</th>\n",
       "      <th>start</th>\n",
       "      <th>end</th>\n",
       "      <th>cancelled</th>\n",
       "      <th>region</th>\n",
       "      <th>size</th>\n",
       "      <th>product</th>\n",
       "      <th>type</th>\n",
       "      <th>inbound_source</th>\n",
       "    </tr>\n",
       "  </thead>\n",
       "  <tbody>\n",
       "    <tr>\n",
       "      <th>0</th>\n",
       "      <td>400001</td>\n",
       "      <td>2855</td>\n",
       "      <td>Nuuday A/S</td>\n",
       "      <td>420</td>\n",
       "      <td>People Service Plan Lms Plus</td>\n",
       "      <td>People Subscription</td>\n",
       "      <td>1.0</td>\n",
       "      <td>1072.258</td>\n",
       "      <td>2020-11-30</td>\n",
       "      <td>2021-01-01</td>\n",
       "      <td>2022-12-31</td>\n",
       "      <td>y</td>\n",
       "      <td>norben</td>\n",
       "      <td>mm</td>\n",
       "      <td>software</td>\n",
       "      <td>people</td>\n",
       "      <td>None</td>\n",
       "    </tr>\n",
       "    <tr>\n",
       "      <th>1</th>\n",
       "      <td>400001</td>\n",
       "      <td>2855</td>\n",
       "      <td>Nuuday A/S</td>\n",
       "      <td>412</td>\n",
       "      <td>People Performance Management</td>\n",
       "      <td>People Subscription</td>\n",
       "      <td>250.0</td>\n",
       "      <td>10568.250</td>\n",
       "      <td>2020-11-30</td>\n",
       "      <td>2021-01-01</td>\n",
       "      <td>2023-12-31</td>\n",
       "      <td>y</td>\n",
       "      <td>norben</td>\n",
       "      <td>mm</td>\n",
       "      <td>software</td>\n",
       "      <td>people</td>\n",
       "      <td>None</td>\n",
       "    </tr>\n",
       "    <tr>\n",
       "      <th>2</th>\n",
       "      <td>400001</td>\n",
       "      <td>2855</td>\n",
       "      <td>Nuuday A/S</td>\n",
       "      <td>410</td>\n",
       "      <td>People Learning Management</td>\n",
       "      <td>People Subscription</td>\n",
       "      <td>250.0</td>\n",
       "      <td>8723.000</td>\n",
       "      <td>2020-11-30</td>\n",
       "      <td>2021-01-01</td>\n",
       "      <td>2023-12-31</td>\n",
       "      <td>y</td>\n",
       "      <td>norben</td>\n",
       "      <td>mm</td>\n",
       "      <td>software</td>\n",
       "      <td>people</td>\n",
       "      <td>None</td>\n",
       "    </tr>\n",
       "    <tr>\n",
       "      <th>3</th>\n",
       "      <td>400001</td>\n",
       "      <td>2855</td>\n",
       "      <td>Nuuday A/S</td>\n",
       "      <td>420</td>\n",
       "      <td>People Service Plan Lms Plus</td>\n",
       "      <td>People Subscription</td>\n",
       "      <td>1.0</td>\n",
       "      <td>1104.466</td>\n",
       "      <td>2020-11-30</td>\n",
       "      <td>2023-01-01</td>\n",
       "      <td>2023-12-31</td>\n",
       "      <td>y</td>\n",
       "      <td>norben</td>\n",
       "      <td>mm</td>\n",
       "      <td>software</td>\n",
       "      <td>people</td>\n",
       "      <td>None</td>\n",
       "    </tr>\n",
       "    <tr>\n",
       "      <th>4</th>\n",
       "      <td>400001</td>\n",
       "      <td>2855</td>\n",
       "      <td>Nuuday A/S</td>\n",
       "      <td>320</td>\n",
       "      <td>Content Grape Full Library</td>\n",
       "      <td>Content - External</td>\n",
       "      <td>1.0</td>\n",
       "      <td>2684.000</td>\n",
       "      <td>2020-11-30</td>\n",
       "      <td>2022-06-01</td>\n",
       "      <td>2022-12-31</td>\n",
       "      <td>y</td>\n",
       "      <td>norben</td>\n",
       "      <td>mm</td>\n",
       "      <td>content</td>\n",
       "      <td></td>\n",
       "      <td>None</td>\n",
       "    </tr>\n",
       "  </tbody>\n",
       "</table>\n",
       "</div>"
      ],
      "text/plain": [
       "       id  customer_id company_name  item_id                           item  \\\n",
       "0  400001         2855   Nuuday A/S      420   People Service Plan Lms Plus   \n",
       "1  400001         2855   Nuuday A/S      412  People Performance Management   \n",
       "2  400001         2855   Nuuday A/S      410     People Learning Management   \n",
       "3  400001         2855   Nuuday A/S      420   People Service Plan Lms Plus   \n",
       "4  400001         2855   Nuuday A/S      320     Content Grape Full Library   \n",
       "\n",
       "          product_type  quantity      value      commit       start  \\\n",
       "0  People Subscription       1.0   1072.258  2020-11-30  2021-01-01   \n",
       "1  People Subscription     250.0  10568.250  2020-11-30  2021-01-01   \n",
       "2  People Subscription     250.0   8723.000  2020-11-30  2021-01-01   \n",
       "3  People Subscription       1.0   1104.466  2020-11-30  2023-01-01   \n",
       "4   Content - External       1.0   2684.000  2020-11-30  2022-06-01   \n",
       "\n",
       "          end cancelled  region size   product    type inbound_source  \n",
       "0  2022-12-31         y  norben   mm  software  people           None  \n",
       "1  2023-12-31         y  norben   mm  software  people           None  \n",
       "2  2023-12-31         y  norben   mm  software  people           None  \n",
       "3  2023-12-31         y  norben   mm  software  people           None  \n",
       "4  2022-12-31         y  norben   mm   content                   None  "
      ]
     },
     "execution_count": 24,
     "metadata": {},
     "output_type": "execute_result"
    }
   ],
   "source": [
    "df_main.head(5)"
   ]
  },
  {
   "cell_type": "code",
   "execution_count": 25,
   "metadata": {},
   "outputs": [],
   "source": [
    "# OUTPUT FINAL FILE WITH ALL DIFFERENCES\n",
    "df_main.to_excel('Board_Metrics_Input_File_Netsuite.xlsx')"
   ]
  }
 ],
 "metadata": {
  "kernelspec": {
   "display_name": "Python 3.9.7 ('base')",
   "language": "python",
   "name": "python3"
  },
  "language_info": {
   "codemirror_mode": {
    "name": "ipython",
    "version": 3
   },
   "file_extension": ".py",
   "mimetype": "text/x-python",
   "name": "python",
   "nbconvert_exporter": "python",
   "pygments_lexer": "ipython3",
   "version": "3.9.18"
  },
  "orig_nbformat": 4,
  "vscode": {
   "interpreter": {
    "hash": "38aef752a079a85de1739380fb1638eeeade851c41e3775971b8ec62af2e1c1a"
   }
  }
 },
 "nbformat": 4,
 "nbformat_minor": 2
}
