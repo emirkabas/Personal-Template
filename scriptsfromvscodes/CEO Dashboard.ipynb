{
 "cells": [
  {
   "cell_type": "code",
   "execution_count": 1,
   "metadata": {},
   "outputs": [],
   "source": [
    "# IMPORT LIBRARIES\n",
    "import psycopg2 as pg2\n",
    "import pandas as pd\n",
    "import numpy as np\n",
    "from datetime import datetime\n",
    "from datetime import date\n",
    "import snowflake.connector"
   ]
  },
  {
   "cell_type": "code",
   "execution_count": 2,
   "metadata": {},
   "outputs": [],
   "source": [
    "#CONNECT TO SNOWFLAKE WITH REPORTER CREDENTIALS\n",
    "conn = snowflake.connector.connect(\n",
    "    user='emirkabasoglu', #emirkabasoglu\n",
    "    password='7Bb13287', #7Bb13287\n",
    "    account='se63477.north-europe.azure',\n",
    "    warehouse='LOADING_WH',\n",
    "    database='PROD_ANALYTICS_DB'\n",
    "    )"
   ]
  },
  {
   "cell_type": "code",
   "execution_count": 4,
   "metadata": {},
   "outputs": [
    {
     "data": {
      "text/plain": [
       "<snowflake.connector.cursor.SnowflakeCursor at 0x7fa150cac070>"
      ]
     },
     "execution_count": 4,
     "metadata": {},
     "output_type": "execute_result"
    }
   ],
   "source": [
    "#START THE CURSOR AND RUN THE QUERY\n",
    "cur = conn.cursor()\n",
    "cur.execute('''\n",
    "SELECT\n",
    "Product_Family,\n",
    "SUM(ARR_EUR) AS TOTAL_ARR\n",
    "FROM(\n",
    "SELECT\n",
    "*,\n",
    "CASE WHEN t3.ITEM_FAMILY_ID = '2' OR T2.ITEM_ID IN ('8_4','8_5') THEN 'Infinite'\n",
    "     WHEN  t3.ITEM_FAMILY_ID = '1' OR T2.ITEM_ID IN ('8_1','8_2','8_3') THEN 'People'\n",
    "     ELSE 'Other'  END AS Product_Family\n",
    "FROM  PROD_ANALYTICS_DB.DBT_DEPLOY.SUBSCRIPTIONS T2 \n",
    "LEFT JOIN PROD_ANALYTICS_DB.DBT_DEPLOY.PRODUCTS T3 ON T3.ITEM_ID =T2.ITEM_ID\n",
    "WHERE t2.STATUS NOT IN ('future','cancelled' ) ) AS SUB_TABLE\n",
    "WHERE Product_Family IN ('People','Infinite')\n",
    "GROUP BY 1\n",
    "\n",
    "''')\n"
   ]
  },
  {
   "cell_type": "code",
   "execution_count": 5,
   "metadata": {},
   "outputs": [],
   "source": [
    "# ADD DESCRIPTION AS COLUMN LABELS\n",
    "items_db_fetched = cur.fetchall()\n",
    "cols = []\n",
    "for i in cur.description:\n",
    "    cols.append(i[0])\n",
    "\n",
    "df_items_db_fetched = pd.DataFrame(items_db_fetched, columns=cols)"
   ]
  },
  {
   "cell_type": "code",
   "execution_count": 6,
   "metadata": {},
   "outputs": [],
   "source": [
    "# ASSIGN TO MAIN DF FOR FUTHER TRANSFORMATION\n",
    "df_main = df_items_db_fetched"
   ]
  },
  {
   "cell_type": "code",
   "execution_count": 8,
   "metadata": {},
   "outputs": [],
   "source": [
    "pd.set_option('display.float_format', lambda x: '%.3f' % x)"
   ]
  },
  {
   "cell_type": "code",
   "execution_count": 9,
   "metadata": {},
   "outputs": [
    {
     "data": {
      "text/html": [
       "<div>\n",
       "<style scoped>\n",
       "    .dataframe tbody tr th:only-of-type {\n",
       "        vertical-align: middle;\n",
       "    }\n",
       "\n",
       "    .dataframe tbody tr th {\n",
       "        vertical-align: top;\n",
       "    }\n",
       "\n",
       "    .dataframe thead th {\n",
       "        text-align: right;\n",
       "    }\n",
       "</style>\n",
       "<table border=\"1\" class=\"dataframe\">\n",
       "  <thead>\n",
       "    <tr style=\"text-align: right;\">\n",
       "      <th></th>\n",
       "      <th>PRODUCT_FAMILY</th>\n",
       "      <th>TOTAL_ARR</th>\n",
       "    </tr>\n",
       "  </thead>\n",
       "  <tbody>\n",
       "    <tr>\n",
       "      <th>0</th>\n",
       "      <td>People</td>\n",
       "      <td>9922785.236</td>\n",
       "    </tr>\n",
       "    <tr>\n",
       "      <th>1</th>\n",
       "      <td>Infinite</td>\n",
       "      <td>3531081.683</td>\n",
       "    </tr>\n",
       "  </tbody>\n",
       "</table>\n",
       "</div>"
      ],
      "text/plain": [
       "  PRODUCT_FAMILY   TOTAL_ARR\n",
       "0         People 9922785.236\n",
       "1       Infinite 3531081.683"
      ]
     },
     "execution_count": 9,
     "metadata": {},
     "output_type": "execute_result"
    }
   ],
   "source": [
    "#Total PEOLE AND INFINITE ARR :\n",
    "df_main"
   ]
  },
  {
   "cell_type": "code",
   "execution_count": null,
   "metadata": {},
   "outputs": [],
   "source": [
    "### Infinite Backlog ###"
   ]
  },
  {
   "cell_type": "code",
   "execution_count": 12,
   "metadata": {},
   "outputs": [
    {
     "data": {
      "text/plain": [
       "<snowflake.connector.cursor.SnowflakeCursor at 0x7fa173a76350>"
      ]
     },
     "execution_count": 12,
     "metadata": {},
     "output_type": "execute_result"
    }
   ],
   "source": [
    "#START THE CURSOR AND RUN THE QUERY\n",
    "cur_2 = conn.cursor()\n",
    "cur_2.execute('''\n",
    "SELECT\n",
    "SUM(ARR_EUR) AS TOTAL_INFINTE_FUTURE_ARR\n",
    "FROM(\n",
    "SELECT\n",
    "*,\n",
    "CASE WHEN t3.ITEM_FAMILY_ID = '2' OR T2.ITEM_ID IN ('8_4','8_5') THEN 'Infinite'\n",
    "     WHEN  t3.ITEM_FAMILY_ID = '1' OR T2.ITEM_ID IN ('8_1','8_2','8_3') THEN 'People'\n",
    "     ELSE 'Other'  END AS Product_Family\n",
    "FROM  PROD_ANALYTICS_DB.DBT_DEPLOY.SUBSCRIPTIONS T2 \n",
    "LEFT JOIN PROD_ANALYTICS_DB.DBT_DEPLOY.PRODUCTS T3 ON T3.ITEM_ID =T2.ITEM_ID\n",
    "WHERE t2.STATUS = 'future') AS SUB_TABLE \n",
    "WHERE Product_Family ='Infinite'\n",
    "\n",
    "''')\n"
   ]
  },
  {
   "cell_type": "code",
   "execution_count": 13,
   "metadata": {},
   "outputs": [],
   "source": [
    "# ADD DESCRIPTION AS COLUMN LABELS\n",
    "items_db_fetched = cur_2.fetchall()\n",
    "cols = []\n",
    "for i in cur_2.description:\n",
    "    cols.append(i[0])\n",
    "\n",
    "df_main_2 = pd.DataFrame(items_db_fetched, columns=cols)"
   ]
  },
  {
   "cell_type": "code",
   "execution_count": 14,
   "metadata": {},
   "outputs": [
    {
     "data": {
      "text/html": [
       "<div>\n",
       "<style scoped>\n",
       "    .dataframe tbody tr th:only-of-type {\n",
       "        vertical-align: middle;\n",
       "    }\n",
       "\n",
       "    .dataframe tbody tr th {\n",
       "        vertical-align: top;\n",
       "    }\n",
       "\n",
       "    .dataframe thead th {\n",
       "        text-align: right;\n",
       "    }\n",
       "</style>\n",
       "<table border=\"1\" class=\"dataframe\">\n",
       "  <thead>\n",
       "    <tr style=\"text-align: right;\">\n",
       "      <th></th>\n",
       "      <th>TOTAL_INFINTE_FUTURE_ARR</th>\n",
       "    </tr>\n",
       "  </thead>\n",
       "  <tbody>\n",
       "    <tr>\n",
       "      <th>0</th>\n",
       "      <td>1069636.320</td>\n",
       "    </tr>\n",
       "  </tbody>\n",
       "</table>\n",
       "</div>"
      ],
      "text/plain": [
       "   TOTAL_INFINTE_FUTURE_ARR\n",
       "0               1069636.320"
      ]
     },
     "execution_count": 14,
     "metadata": {},
     "output_type": "execute_result"
    }
   ],
   "source": [
    "#Infinite Backlog (FUTURE INFINITE ARR) :\n",
    "df_main_2"
   ]
  },
  {
   "cell_type": "code",
   "execution_count": null,
   "metadata": {},
   "outputs": [],
   "source": [
    "###Total PEOPLE INFINITE CUSTOMER LEVEL %:"
   ]
  },
  {
   "cell_type": "code",
   "execution_count": 16,
   "metadata": {},
   "outputs": [
    {
     "data": {
      "text/plain": [
       "<snowflake.connector.cursor.SnowflakeCursor at 0x7fa173fd5b40>"
      ]
     },
     "execution_count": 16,
     "metadata": {},
     "output_type": "execute_result"
    }
   ],
   "source": [
    "#START THE CURSOR AND RUN THE QUERY\n",
    "cur_3 = conn.cursor()\n",
    "cur_3.execute('''\n",
    "\n",
    "SELECT\n",
    "COUNT(DISTINCT CUSTOMER_ID) AS TOTAL_CUSTOMER\n",
    "FROM(\n",
    "SELECT\n",
    "SUBSCRIPTION_ID,\n",
    "CUSTOMER_ID,\n",
    "CASE WHEN t3.ITEM_FAMILY_ID = '2' OR T2.ITEM_ID IN ('8_4','8_5') THEN 'Infinite'\n",
    "     WHEN  t3.ITEM_FAMILY_ID = '1' OR T2.ITEM_ID IN ('8_1','8_2','8_3') THEN 'People'\n",
    "     ELSE 'Other'  END AS Product_Family\n",
    "FROM PROD_ANALYTICS_DB.DBT_DEPLOY.SUBSCRIPTIONS T2\n",
    "LEFT JOIN PROD_ANALYTICS_DB.DBT_DEPLOY.PRODUCTS T3 ON T3.ITEM_ID =T2.ITEM_ID\n",
    "WHERE t2.STATUS NOT IN ('future','cancelled' ) ) AS SUB_TABLE\n",
    "WHERE Product_Family IN ('People','Infinite')\n",
    "''')\n"
   ]
  },
  {
   "cell_type": "code",
   "execution_count": 17,
   "metadata": {},
   "outputs": [],
   "source": [
    "# ADD DESCRIPTION AS COLUMN LABELS\n",
    "items_db_fetched = cur_3.fetchall()\n",
    "cols = []\n",
    "for i in cur_3.description:\n",
    "    cols.append(i[0])\n",
    "\n",
    "df_main_3 = pd.DataFrame(items_db_fetched, columns=cols)"
   ]
  },
  {
   "cell_type": "code",
   "execution_count": 18,
   "metadata": {},
   "outputs": [
    {
     "data": {
      "text/html": [
       "<div>\n",
       "<style scoped>\n",
       "    .dataframe tbody tr th:only-of-type {\n",
       "        vertical-align: middle;\n",
       "    }\n",
       "\n",
       "    .dataframe tbody tr th {\n",
       "        vertical-align: top;\n",
       "    }\n",
       "\n",
       "    .dataframe thead th {\n",
       "        text-align: right;\n",
       "    }\n",
       "</style>\n",
       "<table border=\"1\" class=\"dataframe\">\n",
       "  <thead>\n",
       "    <tr style=\"text-align: right;\">\n",
       "      <th></th>\n",
       "      <th>TOTAL_CUSTOMER</th>\n",
       "    </tr>\n",
       "  </thead>\n",
       "  <tbody>\n",
       "    <tr>\n",
       "      <th>0</th>\n",
       "      <td>798</td>\n",
       "    </tr>\n",
       "  </tbody>\n",
       "</table>\n",
       "</div>"
      ],
      "text/plain": [
       "   TOTAL_CUSTOMER\n",
       "0             798"
      ]
     },
     "execution_count": 18,
     "metadata": {},
     "output_type": "execute_result"
    }
   ],
   "source": [
    "#TOTAL CUSTOMERS:\n",
    "df_main_3"
   ]
  },
  {
   "cell_type": "code",
   "execution_count": 22,
   "metadata": {},
   "outputs": [],
   "source": [
    "### INFINITE CUSTOMERS  :"
   ]
  },
  {
   "cell_type": "code",
   "execution_count": 23,
   "metadata": {},
   "outputs": [
    {
     "data": {
      "text/plain": [
       "<snowflake.connector.cursor.SnowflakeCursor at 0x7fa173fd6590>"
      ]
     },
     "execution_count": 23,
     "metadata": {},
     "output_type": "execute_result"
    }
   ],
   "source": [
    "#START THE CURSOR AND RUN THE QUERY\n",
    "cur_4 = conn.cursor()\n",
    "cur_4.execute('''\n",
    "\n",
    "SELECT\n",
    "COUNT(DISTINCT CUSTOMER_ID) AS TOTAL_INFINITE_CUSTOMER\n",
    "FROM(\n",
    "SELECT\n",
    "SUBSCRIPTION_ID,\n",
    "CUSTOMER_ID,\n",
    "CASE WHEN t3.ITEM_FAMILY_ID = '2' OR T2.ITEM_ID IN ('8_4','8_5') THEN 'Infinite'\n",
    "     WHEN  t3.ITEM_FAMILY_ID = '1' OR T2.ITEM_ID IN ('8_1','8_2','8_3') THEN 'People'\n",
    "     ELSE 'Other'  END AS Product_Family\n",
    "FROM PROD_ANALYTICS_DB.DBT_DEPLOY.SUBSCRIPTIONS T2\n",
    "LEFT JOIN PROD_ANALYTICS_DB.DBT_DEPLOY.PRODUCTS T3 ON T3.ITEM_ID =T2.ITEM_ID\n",
    "WHERE t2.STATUS NOT IN ('future','cancelled' ) ) AS SUB_TABLE\n",
    "WHERE Product_Family IN ('Infinite')\n",
    "''')\n"
   ]
  },
  {
   "cell_type": "code",
   "execution_count": 24,
   "metadata": {},
   "outputs": [],
   "source": [
    "# ADD DESCRIPTION AS COLUMN LABELS\n",
    "items_db_fetched = cur_4.fetchall()\n",
    "cols = []\n",
    "for i in cur_4.description:\n",
    "    cols.append(i[0])\n",
    "\n",
    "df_main_4 = pd.DataFrame(items_db_fetched, columns=cols)"
   ]
  },
  {
   "cell_type": "code",
   "execution_count": 26,
   "metadata": {},
   "outputs": [
    {
     "data": {
      "text/html": [
       "<div>\n",
       "<style scoped>\n",
       "    .dataframe tbody tr th:only-of-type {\n",
       "        vertical-align: middle;\n",
       "    }\n",
       "\n",
       "    .dataframe tbody tr th {\n",
       "        vertical-align: top;\n",
       "    }\n",
       "\n",
       "    .dataframe thead th {\n",
       "        text-align: right;\n",
       "    }\n",
       "</style>\n",
       "<table border=\"1\" class=\"dataframe\">\n",
       "  <thead>\n",
       "    <tr style=\"text-align: right;\">\n",
       "      <th></th>\n",
       "      <th>TOTAL_INFINITE_CUSTOMER</th>\n",
       "    </tr>\n",
       "  </thead>\n",
       "  <tbody>\n",
       "    <tr>\n",
       "      <th>0</th>\n",
       "      <td>302</td>\n",
       "    </tr>\n",
       "  </tbody>\n",
       "</table>\n",
       "</div>"
      ],
      "text/plain": [
       "   TOTAL_INFINITE_CUSTOMER\n",
       "0                      302"
      ]
     },
     "execution_count": 26,
     "metadata": {},
     "output_type": "execute_result"
    }
   ],
   "source": [
    "#TOTAL CUSTOMERS:\n",
    "df_main_4"
   ]
  }
 ],
 "metadata": {
  "kernelspec": {
   "display_name": "Python 3.9.7 ('base')",
   "language": "python",
   "name": "python3"
  },
  "language_info": {
   "codemirror_mode": {
    "name": "ipython",
    "version": 3
   },
   "file_extension": ".py",
   "mimetype": "text/x-python",
   "name": "python",
   "nbconvert_exporter": "python",
   "pygments_lexer": "ipython3",
   "version": "3.10.9"
  },
  "orig_nbformat": 4,
  "vscode": {
   "interpreter": {
    "hash": "38aef752a079a85de1739380fb1638eeeade851c41e3775971b8ec62af2e1c1a"
   }
  }
 },
 "nbformat": 4,
 "nbformat_minor": 2
}
