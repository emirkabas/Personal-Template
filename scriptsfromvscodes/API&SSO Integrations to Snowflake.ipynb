{
 "cells": [
  {
   "cell_type": "code",
   "execution_count": 1,
   "metadata": {},
   "outputs": [],
   "source": [
    "#SENDING PLATFORMS API SSO INTEGRATIONS TO SNOWFLAKE "
   ]
  },
  {
   "cell_type": "code",
   "execution_count": 2,
   "metadata": {},
   "outputs": [],
   "source": [
    "#IMPORT LIBRARIES\n",
    "\n",
    "import pymysql as mysql\n",
    "import pandas as pd\n",
    "import psycopg2 as pg2\n"
   ]
  },
  {
   "cell_type": "code",
   "execution_count": 3,
   "metadata": {},
   "outputs": [
    {
     "name": "stdout",
     "output_type": "stream",
     "text": [
      "Requirement already satisfied: pymssql in /Users/emirkabasoglu/anaconda3/lib/python3.9/site-packages (2.2.5)\n",
      "Note: you may need to restart the kernel to use updated packages.\n"
     ]
    }
   ],
   "source": [
    "pip install pymssql\n"
   ]
  },
  {
   "cell_type": "code",
   "execution_count": 4,
   "metadata": {},
   "outputs": [],
   "source": [
    "import pymssql\n",
    "\n",
    "conn = pymssql.connect(\n",
    "         server=\"eloomi-mssql-server-prod.database.windows.net\",\n",
    "         port=1433,\n",
    "         user=\"emir\",\n",
    "         password=\"jAU9qHUz9MuK2ejTern5\",\n",
    "         database=\"eloomi-mssql-db-global-platforms-prod\")\n",
    "conn\n",
    "cursor = conn.cursor()\n",
    "cursor.execute(\"SELECT * FROM platform_domains\")"
   ]
  },
  {
   "cell_type": "code",
   "execution_count": 5,
   "metadata": {},
   "outputs": [],
   "source": [
    "db_infinite_cursor = conn.cursor()  \n"
   ]
  },
  {
   "cell_type": "code",
   "execution_count": 6,
   "metadata": {},
   "outputs": [],
   "source": [
    "db_infinite_cursor.execute('''\n",
    "      select p.platform_id,\n",
    "       p.name,\n",
    "       count(a.id)                                   api_tokens,\n",
    "       iif(p.sso_active = 1, 'true', 'false')        sso_enabled,\n",
    "       iif(count(i.created_at) > 0, 'true', 'false') native_integrations_enabled,\n",
    "       iif(count(pd.id) > 0, 'true', 'false')        custom_domain_enabled\n",
    "from platform p\n",
    "         left join api_tokens a on p.platform_id = a.platform_id and a.deleted_at is null\n",
    "         left join integrations i\n",
    "                   on p.platform_id = i.platform_id and i.partner_id = 1 and i.disabled_at is null\n",
    "         left join platform_domains pd\n",
    "                   on p.platform_id = pd.platform_id and pd.type = 'customer_domain' and pd.deleted_at is null\n",
    "where p.active = 1\n",
    "group by p.platform_id, p.name, p.sso_active;\n",
    "                  ''')\n"
   ]
  },
  {
   "cell_type": "code",
   "execution_count": 7,
   "metadata": {},
   "outputs": [],
   "source": [
    "db_infinite_platform_id = db_infinite_cursor.fetchall()\n",
    "cols = []\n",
    "\n",
    "for i in db_infinite_cursor.description:\n",
    "    cols.append(i[0])\n",
    "\n",
    "db_infinite_platform_id = pd.DataFrame(db_infinite_platform_id, columns = cols)  "
   ]
  },
  {
   "cell_type": "code",
   "execution_count": 8,
   "metadata": {},
   "outputs": [
    {
     "data": {
      "text/plain": [
       "Index(['platform_id', 'name', 'api_tokens', 'sso_enabled',\n",
       "       'native_integrations_enabled', 'custom_domain_enabled'],\n",
       "      dtype='object')"
      ]
     },
     "execution_count": 8,
     "metadata": {},
     "output_type": "execute_result"
    }
   ],
   "source": [
    "db_infinite_platform_id.columns"
   ]
  },
  {
   "cell_type": "code",
   "execution_count": 9,
   "metadata": {},
   "outputs": [],
   "source": [
    "db_platform_api_sso = db_infinite_platform_id"
   ]
  },
  {
   "cell_type": "code",
   "execution_count": 10,
   "metadata": {},
   "outputs": [],
   "source": [
    "db_platform_api_sso = db_platform_api_sso.rename(columns={\n",
    "    'api_tokens': 'API Tokens Enabled',\n",
    "    'sso_enabled': 'SSO Enabled',\n",
    "    'native_integrations_enabled': 'Native HCM Integration Enabled',\n",
    "    'custom_domain_enabled': 'Custom Domain Enabled'\n",
    "})"
   ]
  },
  {
   "cell_type": "code",
   "execution_count": 11,
   "metadata": {},
   "outputs": [
    {
     "data": {
      "text/html": [
       "<div>\n",
       "<style scoped>\n",
       "    .dataframe tbody tr th:only-of-type {\n",
       "        vertical-align: middle;\n",
       "    }\n",
       "\n",
       "    .dataframe tbody tr th {\n",
       "        vertical-align: top;\n",
       "    }\n",
       "\n",
       "    .dataframe thead th {\n",
       "        text-align: right;\n",
       "    }\n",
       "</style>\n",
       "<table border=\"1\" class=\"dataframe\">\n",
       "  <thead>\n",
       "    <tr style=\"text-align: right;\">\n",
       "      <th></th>\n",
       "      <th>platform_id</th>\n",
       "      <th>name</th>\n",
       "      <th>API Tokens Enabled</th>\n",
       "      <th>SSO Enabled</th>\n",
       "      <th>Native HCM Integration Enabled</th>\n",
       "      <th>Custom Domain Enabled</th>\n",
       "    </tr>\n",
       "  </thead>\n",
       "  <tbody>\n",
       "    <tr>\n",
       "      <th>0</th>\n",
       "      <td>1177</td>\n",
       "      <td>External</td>\n",
       "      <td>28</td>\n",
       "      <td>true</td>\n",
       "      <td>true</td>\n",
       "      <td>false</td>\n",
       "    </tr>\n",
       "    <tr>\n",
       "      <th>1</th>\n",
       "      <td>1600</td>\n",
       "      <td>thomas</td>\n",
       "      <td>0</td>\n",
       "      <td>false</td>\n",
       "      <td>false</td>\n",
       "      <td>false</td>\n",
       "    </tr>\n",
       "    <tr>\n",
       "      <th>2</th>\n",
       "      <td>1623</td>\n",
       "      <td>Cornerstoneak</td>\n",
       "      <td>0</td>\n",
       "      <td>false</td>\n",
       "      <td>false</td>\n",
       "      <td>false</td>\n",
       "    </tr>\n",
       "    <tr>\n",
       "      <th>3</th>\n",
       "      <td>1737</td>\n",
       "      <td>sti</td>\n",
       "      <td>0</td>\n",
       "      <td>false</td>\n",
       "      <td>false</td>\n",
       "      <td>false</td>\n",
       "    </tr>\n",
       "    <tr>\n",
       "      <th>4</th>\n",
       "      <td>1745</td>\n",
       "      <td>barma</td>\n",
       "      <td>6</td>\n",
       "      <td>false</td>\n",
       "      <td>false</td>\n",
       "      <td>true</td>\n",
       "    </tr>\n",
       "  </tbody>\n",
       "</table>\n",
       "</div>"
      ],
      "text/plain": [
       "   platform_id           name  API Tokens Enabled SSO Enabled  \\\n",
       "0         1177       External                  28        true   \n",
       "1         1600         thomas                   0       false   \n",
       "2         1623  Cornerstoneak                   0       false   \n",
       "3         1737            sti                   0       false   \n",
       "4         1745          barma                   6       false   \n",
       "\n",
       "  Native HCM Integration Enabled Custom Domain Enabled  \n",
       "0                           true                 false  \n",
       "1                          false                 false  \n",
       "2                          false                 false  \n",
       "3                          false                 false  \n",
       "4                          false                  true  "
      ]
     },
     "execution_count": 11,
     "metadata": {},
     "output_type": "execute_result"
    }
   ],
   "source": [
    "db_platform_api_sso.head(5)"
   ]
  },
  {
   "cell_type": "code",
   "execution_count": 14,
   "metadata": {},
   "outputs": [],
   "source": [
    "import pandas as pd\n",
    "import snowflake.connector\n",
    "\n",
    "def send_df_to_snowflake(df, table_name, schema, database, user, password, account, warehouse, role):\n",
    "    \"\"\"\n",
    "    Sends a DataFrame to Snowflake and replaces the existing table.\n",
    "    \n",
    "    Parameters:\n",
    "    - df: pandas DataFrame to be sent to Snowflake.\n",
    "    - table_name: Name of the table in Snowflake.\n",
    "    - schema: Schema of the table in Snowflake.\n",
    "    - database: Database of the table in Snowflake.\n",
    "    - user: Snowflake user.\n",
    "    - password: Snowflake password.\n",
    "    - account: Snowflake account identifier.\n",
    "    - warehouse: Snowflake warehouse to use.\n",
    "    - role: Snowflake role to use.\n",
    "    \"\"\"\n",
    "    \n",
    "    # Establish Snowflake connection\n",
    "    conn = snowflake.connector.connect(\n",
    "        user=user,\n",
    "        password=password,\n",
    "        account=account,\n",
    "        warehouse=warehouse,\n",
    "        database=database,\n",
    "        schema=schema,\n",
    "        role =role\n",
    "    )\n",
    "    \n",
    "    # Create a cursor object\n",
    "    cur = conn.cursor()\n",
    "    \n",
    "    temp_csv = 'temp_file.csv'\n",
    "    df.to_csv(temp_csv, index=False)\n",
    "    \n",
    "    # Use Snowflake PUT command to upload the CSV file to a Snowflake stage\n",
    "    cur.execute(f\"PUT file://{temp_csv} @%{table_name}\")\n",
    "    \n",
    "    # Delete existing table data\n",
    "    cur.execute(f\"TRUNCATE TABLE {schema}.{table_name}\")\n",
    "    \n",
    "    # Load data from the staged CSV file into the Snowflake table\n",
    "    cur.execute(f\"\"\"\n",
    "        COPY INTO {schema}.{table_name}\n",
    "        FROM @%{table_name}/{temp_csv.split('/')[-1]}\n",
    "        FILE_FORMAT = (TYPE = 'CSV' FIELD_OPTIONALLY_ENCLOSED_BY = '\"')\n",
    "        ON_ERROR = 'CONTINUE'\n",
    "    \"\"\")\n",
    "    \n",
    "    # Remove the staged file\n",
    "    cur.execute(f\"REMOVE @%{table_name}/{temp_csv.split('/')[-1]}\")\n",
    "    \n",
    "    # Close the cursor and connection\n",
    "    cur.close()\n",
    "    conn.close()"
   ]
  },
  {
   "cell_type": "code",
   "execution_count": 15,
   "metadata": {},
   "outputs": [],
   "source": [
    "# Send DataFrame to Snowflake\n",
    "send_df_to_snowflake(\n",
    "        df=db_platform_api_sso,\n",
    "        table_name='PLATFORM_API_SSO',\n",
    "        schema='PLATFORM_DATA',\n",
    "        database='RAW_DB',\n",
    "        user='emirkabasoglu',\n",
    "        password='7Bb13287',\n",
    "        account='se63477.north-europe.azure',\n",
    "        warehouse='TRANSFORMING_WH',\n",
    "        role ='ACCOUNTADMIN'\n",
    "    )"
   ]
  },
  {
   "cell_type": "code",
   "execution_count": null,
   "metadata": {},
   "outputs": [],
   "source": [
    "# OUTPUT FINAL FILE WITH ALL DIFFERENCES\n",
    "db_platform_api_sso.to_excel('/Users/emirkabasoglu/Desktop/Eloomi/VS Codes/Jupyter Notebook Scripts/Snowflake Scripts/snowflake-to-excel.xlsx')"
   ]
  },
  {
   "cell_type": "code",
   "execution_count": null,
   "metadata": {},
   "outputs": [],
   "source": [
    "#CREATING THE SNOWFLAKE CONNECTION"
   ]
  },
  {
   "cell_type": "code",
   "execution_count": null,
   "metadata": {},
   "outputs": [],
   "source": [
    "#IMPORT LIBRARIES\n",
    "#import snowflake.connector\n",
    "#from snowflake.connector.pandas_tools import write_pandas\n",
    "#import os\n",
    "#import pandas as pd\n",
    "#from sqlalchemy import create_engine\n",
    "\n"
   ]
  },
  {
   "cell_type": "code",
   "execution_count": null,
   "metadata": {},
   "outputs": [],
   "source": [
    "\n",
    "# Snowflake connection parameters\n",
    "#SNOWFLAKE_USER = 'emirkabasoglu'\n",
    "#SNOWFLAKE_PASSWORD = '7Bb13287'\n",
    "#SNOWFLAKE_ACCOUNT = 'se63477.north-europe.azure'\n",
    "#SNOWFLAKE_WAREHOUSE = 'LOADING_WH'\n",
    "#SNOWFLAKE_DATABASE = 'RAW_DB'\n",
    "#SNOWFLAKE_SCHEMA = 'PLATFORM_DATA'\n",
    "\n",
    "# Establish a connection to Snowflake\n",
    "#conn = snowflake.connector.connect(\n",
    "    #user=SNOWFLAKE_USER,\n",
    "    #password=SNOWFLAKE_PASSWORD,\n",
    "    #account=SNOWFLAKE_ACCOUNT,\n",
    "    #warehouse=SNOWFLAKE_WAREHOUSE,\n",
    "    #database=SNOWFLAKE_DATABASE,\n",
    "    #schema=SNOWFLAKE_SCHEMA\n",
    "#)\n"
   ]
  },
  {
   "cell_type": "code",
   "execution_count": null,
   "metadata": {},
   "outputs": [],
   "source": [
    "#CREATE THE ENGINE THAT CONNECTS TO THE DATABASE\n",
    "#from sqlalchemy import create_engine\n",
    "\n",
    "#engine = create_engine(f'snowflake://{SNOWFLAKE_USER}:{SNOWFLAKE_PASSWORD}@{SNOWFLAKE_ACCOUNT}/{SNOWFLAKE_DATABASE}/{SNOWFLAKE_SCHEMA}?warehouse={SNOWFLAKE_WAREHOUSE}'\n",
    "#)"
   ]
  }
 ],
 "metadata": {
  "kernelspec": {
   "display_name": "base",
   "language": "python",
   "name": "python3"
  },
  "language_info": {
   "codemirror_mode": {
    "name": "ipython",
    "version": 3
   },
   "file_extension": ".py",
   "mimetype": "text/x-python",
   "name": "python",
   "nbconvert_exporter": "python",
   "pygments_lexer": "ipython3",
   "version": "3.9.18"
  }
 },
 "nbformat": 4,
 "nbformat_minor": 2
}
