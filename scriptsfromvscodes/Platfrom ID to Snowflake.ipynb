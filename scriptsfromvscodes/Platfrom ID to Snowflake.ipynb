{
 "cells": [
  {
   "cell_type": "code",
   "execution_count": 1,
   "metadata": {},
   "outputs": [],
   "source": [
    "#IMPORT LIBRARIES\n",
    "\n",
    "import pymysql as mysql\n",
    "import pandas as pd\n",
    "import psycopg2 as pg2\n"
   ]
  },
  {
   "cell_type": "code",
   "execution_count": 2,
   "metadata": {},
   "outputs": [],
   "source": [
    "#CONNECTING TO THE PEOPLE PLATFORM ID TABLE\n",
    "\n",
    "db_connection = mysql.connect( host='eloomi-global.mysql.database.azure.com',  database='eloomi_global', user='emir@eloomi-global', password='jAU9qHUz9MuK2ejTern5')"
   ]
  },
  {
   "cell_type": "code",
   "execution_count": 3,
   "metadata": {},
   "outputs": [],
   "source": [
    "db_cursor = db_connection.cursor()\n"
   ]
  },
  {
   "cell_type": "code",
   "execution_count": 4,
   "metadata": {},
   "outputs": [
    {
     "data": {
      "text/plain": [
       "6949"
      ]
     },
     "execution_count": 4,
     "metadata": {},
     "output_type": "execute_result"
    }
   ],
   "source": [
    "db_cursor.execute('SELECT * FROM platforms_domains')\n"
   ]
  },
  {
   "cell_type": "code",
   "execution_count": 5,
   "metadata": {},
   "outputs": [],
   "source": [
    "db_platform_id = db_cursor.fetchall()\n",
    "cols = []\n",
    "\n",
    "for i in db_cursor.description:\n",
    "    cols.append(i[0])\n",
    "\n",
    "db_platform_id = pd.DataFrame(db_platform_id, columns = cols)  "
   ]
  },
  {
   "cell_type": "code",
   "execution_count": 6,
   "metadata": {},
   "outputs": [
    {
     "data": {
      "text/html": [
       "<div>\n",
       "<style scoped>\n",
       "    .dataframe tbody tr th:only-of-type {\n",
       "        vertical-align: middle;\n",
       "    }\n",
       "\n",
       "    .dataframe tbody tr th {\n",
       "        vertical-align: top;\n",
       "    }\n",
       "\n",
       "    .dataframe thead th {\n",
       "        text-align: right;\n",
       "    }\n",
       "</style>\n",
       "<table border=\"1\" class=\"dataframe\">\n",
       "  <thead>\n",
       "    <tr style=\"text-align: right;\">\n",
       "      <th></th>\n",
       "      <th>domain_id</th>\n",
       "      <th>platform_id</th>\n",
       "      <th>domain</th>\n",
       "      <th>created_at</th>\n",
       "      <th>updated_at</th>\n",
       "    </tr>\n",
       "  </thead>\n",
       "  <tbody>\n",
       "    <tr>\n",
       "      <th>0</th>\n",
       "      <td>10</td>\n",
       "      <td>3.0</td>\n",
       "      <td>ricksplat.eloomi.com</td>\n",
       "      <td>NaT</td>\n",
       "      <td>NaT</td>\n",
       "    </tr>\n",
       "    <tr>\n",
       "      <th>1</th>\n",
       "      <td>11</td>\n",
       "      <td>2.0</td>\n",
       "      <td>kennethstest.eloomi.com</td>\n",
       "      <td>NaT</td>\n",
       "      <td>NaT</td>\n",
       "    </tr>\n",
       "    <tr>\n",
       "      <th>2</th>\n",
       "      <td>12</td>\n",
       "      <td>4.0</td>\n",
       "      <td>demov2.eloomi.com</td>\n",
       "      <td>NaT</td>\n",
       "      <td>NaT</td>\n",
       "    </tr>\n",
       "    <tr>\n",
       "      <th>3</th>\n",
       "      <td>13</td>\n",
       "      <td>5.0</td>\n",
       "      <td>dermanorakademiet.eloomi.com</td>\n",
       "      <td>NaT</td>\n",
       "      <td>NaT</td>\n",
       "    </tr>\n",
       "    <tr>\n",
       "      <th>4</th>\n",
       "      <td>14</td>\n",
       "      <td>6.0</td>\n",
       "      <td>david-andersen.eloomi.com</td>\n",
       "      <td>NaT</td>\n",
       "      <td>NaT</td>\n",
       "    </tr>\n",
       "  </tbody>\n",
       "</table>\n",
       "</div>"
      ],
      "text/plain": [
       "   domain_id  platform_id                        domain created_at updated_at\n",
       "0         10          3.0          ricksplat.eloomi.com        NaT        NaT\n",
       "1         11          2.0       kennethstest.eloomi.com        NaT        NaT\n",
       "2         12          4.0             demov2.eloomi.com        NaT        NaT\n",
       "3         13          5.0  dermanorakademiet.eloomi.com        NaT        NaT\n",
       "4         14          6.0     david-andersen.eloomi.com        NaT        NaT"
      ]
     },
     "execution_count": 6,
     "metadata": {},
     "output_type": "execute_result"
    }
   ],
   "source": [
    "db_platform_id.head(5)"
   ]
  },
  {
   "cell_type": "code",
   "execution_count": 7,
   "metadata": {},
   "outputs": [],
   "source": [
    "#### END #####"
   ]
  },
  {
   "cell_type": "code",
   "execution_count": 8,
   "metadata": {},
   "outputs": [],
   "source": [
    "#CONNECTING TO THE INFINITE ID TABLE"
   ]
  },
  {
   "cell_type": "code",
   "execution_count": 9,
   "metadata": {},
   "outputs": [
    {
     "name": "stdout",
     "output_type": "stream",
     "text": [
      "Requirement already satisfied: pymssql in /Users/emirkabasoglu/anaconda3/lib/python3.9/site-packages (2.2.5)\n",
      "Note: you may need to restart the kernel to use updated packages.\n"
     ]
    }
   ],
   "source": [
    "pip install pymssql"
   ]
  },
  {
   "cell_type": "code",
   "execution_count": 10,
   "metadata": {},
   "outputs": [],
   "source": [
    "import pymssql\n",
    "\n",
    "conn = pymssql.connect(\n",
    "         server=\"eloomi-mssql-server-prod.database.windows.net\",\n",
    "         port=1433,\n",
    "         user=\"emir\",\n",
    "         password=\"jAU9qHUz9MuK2ejTern5\",\n",
    "         database=\"eloomi-mssql-db-global-platforms-prod\")\n",
    "conn\n",
    "cursor = conn.cursor()\n",
    "cursor.execute(\"SELECT * FROM platform_domains\")"
   ]
  },
  {
   "cell_type": "code",
   "execution_count": 11,
   "metadata": {},
   "outputs": [],
   "source": [
    "db_infinite_cursor = conn.cursor()  \n"
   ]
  },
  {
   "cell_type": "code",
   "execution_count": 12,
   "metadata": {},
   "outputs": [],
   "source": [
    "db_infinite_cursor.execute('SELECT * FROM platform_domains')\n"
   ]
  },
  {
   "cell_type": "code",
   "execution_count": 13,
   "metadata": {},
   "outputs": [],
   "source": [
    "db_infinite_platform_id = db_infinite_cursor.fetchall()\n",
    "cols = []\n",
    "\n",
    "for i in db_infinite_cursor.description:\n",
    "    cols.append(i[0])\n",
    "\n",
    "db_infinite_platform_id = pd.DataFrame(db_infinite_platform_id, columns = cols)  "
   ]
  },
  {
   "cell_type": "code",
   "execution_count": 14,
   "metadata": {},
   "outputs": [],
   "source": [
    "db_infinite_platform_id.columns\n",
    "\n",
    "columns_to_keep = ['id', 'platform_id','domain']\n",
    "db_infinite_platform_id_new = db_infinite_platform_id[columns_to_keep]\n"
   ]
  },
  {
   "cell_type": "code",
   "execution_count": 15,
   "metadata": {},
   "outputs": [
    {
     "data": {
      "text/html": [
       "<div>\n",
       "<style scoped>\n",
       "    .dataframe tbody tr th:only-of-type {\n",
       "        vertical-align: middle;\n",
       "    }\n",
       "\n",
       "    .dataframe tbody tr th {\n",
       "        vertical-align: top;\n",
       "    }\n",
       "\n",
       "    .dataframe thead th {\n",
       "        text-align: right;\n",
       "    }\n",
       "</style>\n",
       "<table border=\"1\" class=\"dataframe\">\n",
       "  <thead>\n",
       "    <tr style=\"text-align: right;\">\n",
       "      <th></th>\n",
       "      <th>id</th>\n",
       "      <th>platform_id</th>\n",
       "      <th>domain</th>\n",
       "    </tr>\n",
       "  </thead>\n",
       "  <tbody>\n",
       "    <tr>\n",
       "      <th>0</th>\n",
       "      <td>1</td>\n",
       "      <td>1177</td>\n",
       "      <td>external.eloomi.io</td>\n",
       "    </tr>\n",
       "    <tr>\n",
       "      <th>1</th>\n",
       "      <td>2</td>\n",
       "      <td>1348</td>\n",
       "      <td>learn.eloomi.com-deleted</td>\n",
       "    </tr>\n",
       "    <tr>\n",
       "      <th>2</th>\n",
       "      <td>3</td>\n",
       "      <td>1350</td>\n",
       "      <td>eloomi.eloomi.com-deleted</td>\n",
       "    </tr>\n",
       "    <tr>\n",
       "      <th>3</th>\n",
       "      <td>4</td>\n",
       "      <td>1428</td>\n",
       "      <td>tutby1.eloomi.com</td>\n",
       "    </tr>\n",
       "    <tr>\n",
       "      <th>4</th>\n",
       "      <td>5</td>\n",
       "      <td>1429</td>\n",
       "      <td>my-comp.eloomi.com</td>\n",
       "    </tr>\n",
       "  </tbody>\n",
       "</table>\n",
       "</div>"
      ],
      "text/plain": [
       "   id  platform_id                     domain\n",
       "0   1         1177         external.eloomi.io\n",
       "1   2         1348   learn.eloomi.com-deleted\n",
       "2   3         1350  eloomi.eloomi.com-deleted\n",
       "3   4         1428          tutby1.eloomi.com\n",
       "4   5         1429         my-comp.eloomi.com"
      ]
     },
     "execution_count": 15,
     "metadata": {},
     "output_type": "execute_result"
    }
   ],
   "source": [
    "db_infinite_platform_id_new.head(5)"
   ]
  },
  {
   "cell_type": "code",
   "execution_count": 16,
   "metadata": {},
   "outputs": [],
   "source": [
    "import pandas as pd\n",
    "import snowflake.connector\n",
    "\n",
    "def send_df_to_snowflake(df, table_name, schema, database, user, password, account, warehouse, role):\n",
    "    \"\"\"\n",
    "    Sends a DataFrame to Snowflake and replaces the existing table.\n",
    "    \n",
    "    Parameters:\n",
    "    - df: pandas DataFrame to be sent to Snowflake.\n",
    "    - table_name: Name of the table in Snowflake.\n",
    "    - schema: Schema of the table in Snowflake.\n",
    "    - database: Database of the table in Snowflake.\n",
    "    - user: Snowflake user.\n",
    "    - password: Snowflake password.\n",
    "    - account: Snowflake account identifier.\n",
    "    - warehouse: Snowflake warehouse to use.\n",
    "    - role: Snowflake role to use.\n",
    "    \"\"\"\n",
    "    \n",
    "    # Establish Snowflake connection\n",
    "    conn = snowflake.connector.connect(\n",
    "        user=user,\n",
    "        password=password,\n",
    "        account=account,\n",
    "        warehouse=warehouse,\n",
    "        database=database,\n",
    "        schema=schema,\n",
    "        role =role\n",
    "    )\n",
    "    \n",
    "    # Create a cursor object\n",
    "    cur = conn.cursor()\n",
    "    \n",
    "    temp_csv = 'temp_file.csv'\n",
    "    df.to_csv(temp_csv, index=False)\n",
    "    \n",
    "    # Use Snowflake PUT command to upload the CSV file to a Snowflake stage\n",
    "    cur.execute(f\"PUT file://{temp_csv} @%{table_name}\")\n",
    "    \n",
    "    # Delete existing table data\n",
    "    cur.execute(f\"TRUNCATE TABLE {schema}.{table_name}\")\n",
    "    \n",
    "    # Load data from the staged CSV file into the Snowflake table\n",
    "    cur.execute(f\"\"\"\n",
    "        COPY INTO {schema}.{table_name}\n",
    "        FROM @%{table_name}/{temp_csv.split('/')[-1]}\n",
    "        FILE_FORMAT = (TYPE = 'CSV' FIELD_OPTIONALLY_ENCLOSED_BY = '\"')\n",
    "        ON_ERROR = 'CONTINUE'\n",
    "    \"\"\")\n",
    "    \n",
    "    # Remove the staged file\n",
    "    cur.execute(f\"REMOVE @%{table_name}/{temp_csv.split('/')[-1]}\")\n",
    "    \n",
    "    # Close the cursor and connection\n",
    "    cur.close()\n",
    "    conn.close()"
   ]
  },
  {
   "cell_type": "code",
   "execution_count": 17,
   "metadata": {},
   "outputs": [],
   "source": [
    "# Send DataFrame to Snowflake\n",
    "send_df_to_snowflake(\n",
    "        df=db_infinite_platform_id_new,\n",
    "        table_name='INFINITE_PLATFORM_ID',\n",
    "        schema='PLATFORM_DATA',\n",
    "        database='RAW_DB',\n",
    "        user='emirkabasoglu',\n",
    "        password='7Bb13287',\n",
    "        account='se63477.north-europe.azure',\n",
    "        warehouse='TRANSFORMING_WH',\n",
    "        role ='ACCOUNTADMIN'\n",
    "    )"
   ]
  },
  {
   "cell_type": "code",
   "execution_count": null,
   "metadata": {},
   "outputs": [],
   "source": []
  },
  {
   "cell_type": "code",
   "execution_count": 18,
   "metadata": {},
   "outputs": [],
   "source": [
    "#IMPORT LIBRARIES\n",
    "#import snowflake.connector\n",
    "#from snowflake.connector.pandas_tools import write_pandas\n",
    "#import os\n",
    "#import pandas as pd\n",
    "\n"
   ]
  },
  {
   "cell_type": "code",
   "execution_count": 19,
   "metadata": {},
   "outputs": [],
   "source": [
    "\n",
    "# Snowflake connection parameters\n",
    "#SNOWFLAKE_USER = 'emirkabasoglu'\n",
    "#SNOWFLAKE_PASSWORD = '7Bb13287'\n",
    "#SNOWFLAKE_ACCOUNT = 'se63477.north-europe.azure'\n",
    "#SNOWFLAKE_WAREHOUSE = 'TRANSFORMING_WH'\n",
    "#SNOWFLAKE_DATABASE = 'RAW_DB'\n",
    "#SNOWFLAKE_SCHEMA = 'PLATFORM_DATA'\n",
    "\n",
    "# Establish a connection to Snowflake\n",
    "#conn = snowflake.connector.connect(\n",
    "    #user=SNOWFLAKE_USER,\n",
    "    #password=SNOWFLAKE_PASSWORD,\n",
    "    #account=SNOWFLAKE_ACCOUNT,\n",
    "    #warehouse=SNOWFLAKE_WAREHOUSE,\n",
    "    #database=SNOWFLAKE_DATABASE,\n",
    "    #schema=SNOWFLAKE_SCHEMA\n",
    "#)\n"
   ]
  },
  {
   "cell_type": "code",
   "execution_count": 20,
   "metadata": {},
   "outputs": [],
   "source": [
    "#CREATE THE ENGINE THAT CONNECTS TO THE DATABASE\n",
    "#from sqlalchemy import create_engine\n",
    "\n",
    "#engine = create_engine(f'snowflake://{SNOWFLAKE_USER}:{SNOWFLAKE_PASSWORD}@{SNOWFLAKE_ACCOUNT}/{SNOWFLAKE_DATABASE}/{SNOWFLAKE_SCHEMA}?warehouse={SNOWFLAKE_WAREHOUSE}')"
   ]
  },
  {
   "cell_type": "code",
   "execution_count": 21,
   "metadata": {},
   "outputs": [],
   "source": [
    "#SEND THE DATAFRAME TO THE DATABASE\n",
    "\n",
    "#db_infinite_platform_id_new.to_sql('infinite_platform_id', engine,index=False,  if_exists='replace')\n"
   ]
  },
  {
   "cell_type": "code",
   "execution_count": 22,
   "metadata": {},
   "outputs": [],
   "source": [
    "###END###"
   ]
  },
  {
   "cell_type": "code",
   "execution_count": 23,
   "metadata": {},
   "outputs": [],
   "source": [
    "###REGION FOR INFINITE PLATFORMS ####"
   ]
  },
  {
   "cell_type": "code",
   "execution_count": 24,
   "metadata": {},
   "outputs": [],
   "source": [
    "import pymssql\n",
    "\n",
    "conn = pymssql.connect(\n",
    "         server=\"eloomi-mssql-server-prod.database.windows.net\",\n",
    "         port=1433,\n",
    "         user=\"emir\",\n",
    "         password=\"jAU9qHUz9MuK2ejTern5\",\n",
    "         database=\"eloomi-mssql-db-global-platforms-prod\")\n",
    "conn\n",
    "cursor = conn.cursor()\n",
    "cursor.execute(\"SELECT * FROM platform\")"
   ]
  },
  {
   "cell_type": "code",
   "execution_count": 25,
   "metadata": {},
   "outputs": [],
   "source": [
    "db_infinite_region_cursor = conn.cursor()  \n"
   ]
  },
  {
   "cell_type": "code",
   "execution_count": 26,
   "metadata": {},
   "outputs": [],
   "source": [
    "db_infinite_region_cursor.execute('SELECT * FROM platform')\n"
   ]
  },
  {
   "cell_type": "code",
   "execution_count": 27,
   "metadata": {},
   "outputs": [],
   "source": [
    "db_infinite_platform_region_id = db_infinite_region_cursor.fetchall()\n",
    "cols = []\n",
    "\n",
    "for i in db_infinite_region_cursor.description:\n",
    "    cols.append(i[0])\n",
    "\n",
    "db_infinite_platform_region_id = pd.DataFrame(db_infinite_platform_region_id, columns = cols)  "
   ]
  },
  {
   "cell_type": "code",
   "execution_count": 28,
   "metadata": {},
   "outputs": [
    {
     "data": {
      "text/html": [
       "<div>\n",
       "<style scoped>\n",
       "    .dataframe tbody tr th:only-of-type {\n",
       "        vertical-align: middle;\n",
       "    }\n",
       "\n",
       "    .dataframe tbody tr th {\n",
       "        vertical-align: top;\n",
       "    }\n",
       "\n",
       "    .dataframe thead th {\n",
       "        text-align: right;\n",
       "    }\n",
       "</style>\n",
       "<table border=\"1\" class=\"dataframe\">\n",
       "  <thead>\n",
       "    <tr style=\"text-align: right;\">\n",
       "      <th></th>\n",
       "      <th>platform_id</th>\n",
       "      <th>region</th>\n",
       "    </tr>\n",
       "  </thead>\n",
       "  <tbody>\n",
       "    <tr>\n",
       "      <th>0</th>\n",
       "      <td>1177</td>\n",
       "      <td>0</td>\n",
       "    </tr>\n",
       "    <tr>\n",
       "      <th>1</th>\n",
       "      <td>1348</td>\n",
       "      <td>0</td>\n",
       "    </tr>\n",
       "  </tbody>\n",
       "</table>\n",
       "</div>"
      ],
      "text/plain": [
       "   platform_id  region\n",
       "0         1177       0\n",
       "1         1348       0"
      ]
     },
     "execution_count": 28,
     "metadata": {},
     "output_type": "execute_result"
    }
   ],
   "source": [
    "keep_columns = ['platform_id','region']\n",
    "db_infinite_platform_region_id = db_infinite_platform_region_id[keep_columns]\n",
    "db_infinite_platform_region_id.head(2)\n"
   ]
  },
  {
   "cell_type": "code",
   "execution_count": 29,
   "metadata": {},
   "outputs": [],
   "source": [
    "#CREATE A FUNCTION TO SET UP THE REGION FOR CUSTOMERS\n",
    "def map_region(region):\n",
    "    if region == 1:\n",
    "        return 'EU'\n",
    "    elif region == 0:\n",
    "        return 'US'\n",
    "    else:\n",
    "        return 'unknown' "
   ]
  },
  {
   "cell_type": "code",
   "execution_count": 30,
   "metadata": {},
   "outputs": [],
   "source": [
    "#ASSIGNING THE PLATFORM REGION TO THE PLATFORMS\n",
    "\n",
    "db_infinite_platform_region_id['platform_region'] = db_infinite_platform_region_id['region'].apply(map_region)"
   ]
  },
  {
   "cell_type": "code",
   "execution_count": 31,
   "metadata": {},
   "outputs": [],
   "source": [
    "# Send DataFrame to Snowflake\n",
    "send_df_to_snowflake(\n",
    "        df=db_infinite_platform_region_id,\n",
    "        table_name='INFINITE_PLATFORM_REGION',\n",
    "        schema='PLATFORM_DATA',\n",
    "        database='RAW_DB',\n",
    "        user='emirkabasoglu',\n",
    "        password='7Bb13287',\n",
    "        account='se63477.north-europe.azure',\n",
    "        warehouse='TRANSFORMING_WH',\n",
    "        role ='ACCOUNTADMIN'\n",
    "    )"
   ]
  },
  {
   "cell_type": "code",
   "execution_count": null,
   "metadata": {},
   "outputs": [],
   "source": []
  },
  {
   "cell_type": "code",
   "execution_count": null,
   "metadata": {},
   "outputs": [],
   "source": []
  },
  {
   "cell_type": "code",
   "execution_count": 32,
   "metadata": {},
   "outputs": [],
   "source": [
    "#SEND THE DATAFRAME TO THE DATABASE\n",
    "\n",
    "#db_infinite_platform_region_id.to_sql('infinite_platform_region', engine,index=False,  if_exists='replace')\n"
   ]
  }
 ],
 "metadata": {
  "kernelspec": {
   "display_name": "base",
   "language": "python",
   "name": "python3"
  },
  "language_info": {
   "codemirror_mode": {
    "name": "ipython",
    "version": 3
   },
   "file_extension": ".py",
   "mimetype": "text/x-python",
   "name": "python",
   "nbconvert_exporter": "python",
   "pygments_lexer": "ipython3",
   "version": "3.9.18"
  },
  "orig_nbformat": 4,
  "vscode": {
   "interpreter": {
    "hash": "141315d3ac9c5949835768f3203c43ff0732cf0a277d53252ec4baf98543640d"
   }
  }
 },
 "nbformat": 4,
 "nbformat_minor": 2
}
