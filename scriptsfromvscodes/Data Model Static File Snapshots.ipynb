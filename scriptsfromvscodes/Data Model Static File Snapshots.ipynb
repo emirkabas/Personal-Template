{
 "cells": [
  {
   "cell_type": "code",
   "execution_count": 1,
   "metadata": {},
   "outputs": [],
   "source": [
    "### SCRIPT TO GET THE DATA FROM SNOWFLAKE AND DUMP THE FILE IN ONEDRIVE ###"
   ]
  },
  {
   "cell_type": "code",
   "execution_count": 2,
   "metadata": {},
   "outputs": [],
   "source": [
    "### CUSTOMERS ###"
   ]
  },
  {
   "cell_type": "code",
   "execution_count": 3,
   "metadata": {},
   "outputs": [],
   "source": [
    "#IMPORT LIBRARIES\n",
    "import pandas as pd"
   ]
  },
  {
   "cell_type": "code",
   "execution_count": 4,
   "metadata": {},
   "outputs": [],
   "source": [
    "#IMPORT LIBRARIES\n",
    "import snowflake.connector"
   ]
  },
  {
   "cell_type": "code",
   "execution_count": 5,
   "metadata": {},
   "outputs": [],
   "source": [
    "#CONNECT TO SNOWFLAKE WITH REPORTER CREDENTIALS\n",
    "conn = snowflake.connector.connect(\n",
    "    user='emirkabasoglu',\n",
    "    password='7Bb13287',\n",
    "    account='se63477.north-europe.azure',\n",
    "    warehouse='REPORTING_WH',\n",
    "    database='PROD_ANALYTICS_DB'\n",
    "    )"
   ]
  },
  {
   "cell_type": "code",
   "execution_count": 6,
   "metadata": {},
   "outputs": [
    {
     "data": {
      "text/plain": [
       "<snowflake.connector.cursor.SnowflakeCursor at 0x7f87215d2130>"
      ]
     },
     "execution_count": 6,
     "metadata": {},
     "output_type": "execute_result"
    }
   ],
   "source": [
    "#START THE CURSOR AND RUN THE QUERY\n",
    "cur = conn.cursor()\n",
    "cur.execute('''\n",
    "\n",
    "WITH FTE_SIZE_SEGMENT AS (SELECT t2.customer_id,t3.fte_size,t7.segment\n",
    "                            FROM prod_analytics_db.dbt_deploy.customers t2\n",
    "                            LEFT JOIN dbt_deploy.stg_hubspot__company t3 on t3.company_id=t2.hubspot_company_id\n",
    "                            JOIN common_db.static.segment AS t7 ON t3.fte_size BETWEEN t7.min_value AND t7.max_value\n",
    "),\n",
    "\n",
    "Platfrom_Segment as\t( \tSELECT\n",
    "\t\t\t\t\t\tcustomer_id,\n",
    "\t\t\t\t\t\tCASE WHEN Platforms LIKE '%People%' AND Platforms NOT LIKE '%Infinite%' THEN 'People'\n",
    "\t\t\t\t\t\t \t WHEN Platforms LIKE '%Infinite%' AND Platforms NOT LIKE '%People%' THEN 'Infinite'\n",
    "\t\t\t\t\t\t \t WHEN Platforms LIKE '%People%' AND Platforms LIKE '%Infinite%' \tTHEN 'People & Infinite'\n",
    "\t\t\t\t\t\t \t ELSE 'No Platform' END AS Platfrom_segment\n",
    "\t\t\t\t\t\tFROM(\n",
    "\t\t\t\t\t\t\tSELECT\n",
    "\t\t\t\t\t\t\t\tcustomer_id,\n",
    "\t\t\t\t\t\t\t\tlistagg(id_of_products,',') as Platforms\t\n",
    "\t\t\t\t\t \tFROM(\n",
    "\t\t\t\t\t\t\tSELECT\n",
    "\t\t\t\t\t\t\t T1.customer_id ,\n",
    "\t\t\t\t\t\t\t T2.subscription_id,\n",
    "\t\t\t\t\t\t\tCASE WHEN T2.item_id IN ('1_1','1_2','1_3','1_4','1_5','1_6','1_7','8_1','8_2','8_3') THEN 'People'\n",
    "\t\t\t\t\t\t\t\t WHEN T2.item_id IN ('2_1','2_2','2_3','2_4','2_11','8_4','8_5') THEN 'Infinite'\n",
    "\t\t\t\t\t\t\t\t ELSE 'No Platform' END AS \tid_of_products\n",
    "\t\t\t\t\t\t\t FROM prod_analytics_db.dbt_deploy.customers T1\n",
    "\t\t\t\t\t\t\t\tLEFT JOIN prod_analytics_db.dbt_deploy.subscriptions T2 ON T1.customer_id = T2.customer_id\n",
    "\t\t\t\t\t\t\t\tWHERE t2.status != 'cancelled' ) as sub_Table_1\n",
    "\t\t\t\t\t\t\tGROUP BY 1 ) AS Product_segment\n",
    "\t\t\t\t\t\t\t\t\t\t),\n",
    "T_SHIRT_SIZE_SEGMENT AS (SELECT\n",
    "                        CUSTOMER_ID,\n",
    "                        CASE WHEN MAX_LICENSE BETWEEN 0 AND 99 \t    and ACCOUNT_STATUS != 'cancelled' THEN 'XS'\n",
    "\t\t                     WHEN MAX_LICENSE BETWEEN 100 AND 499   and ACCOUNT_STATUS != 'cancelled' THEN 'S'\n",
    "                    \t\t WHEN MAX_LICENSE BETWEEN 500 AND 999    and ACCOUNT_STATUS != 'cancelled' THEN 'M'\n",
    "\t\t                     WHEN MAX_LICENSE BETWEEN 1000 AND 4999 and ACCOUNT_STATUS != 'cancelled' THEN 'L'\n",
    "\t\t                     WHEN MAX_LICENSE BETWEEN 5000 AND 9999 and ACCOUNT_STATUS != 'cancelled' THEN 'XL'\n",
    "\t\t                     WHEN MAX_LICENSE >= 10000 \t\t\t    and ACCOUNT_STATUS != 'cancelled' THEN 'XXL'\n",
    "\t\t                     WHEN ACCOUNT_STATUS != 'cancelled'\tTHEN 'No License'ELSE  NULL END AS license_Segment\n",
    "                        \n",
    "                        FROM(\n",
    "                        SELECT\n",
    "                        T1.CUSTOMER_ID,ACCOUNT_STATUS, MAX(T2.QUANTITY) AS MAX_LICENSE\n",
    "                        FROM prod_analytics_db.dbt_deploy.CUSTOMERS T1\n",
    "                        LEFT JOIN prod_analytics_db.dbt_deploy.SUBSCRIPTIONS T2 ON T1.CUSTOMER_ID =T2.CUSTOMER_ID  WHERE STATUS != 'cancelled' GROUP BY 1,2 ) AS SUB_TABLE )\n",
    "select \n",
    "t1.*,\n",
    "t2.fte_size,\n",
    "t2.sub_industry, \n",
    "T3.Platfrom_segment,\n",
    "T8.license_Segment,\n",
    "t7.segment,\n",
    "t4.ACCOUNT_MANAGER as am\n",
    "FROM prod_analytics_db.dbt_deploy.customers t1\n",
    "LEFT JOIN prod_analytics_db.dbt_deploy.stg_hubspot__company t2 on t1.hubspot_company_id =t2.company_id\n",
    "LEFT JOIN prod_analytics_db.dbt_deploy.int_customer_csm_am_assigned t4 on t4.customer_id = t1.customer_id\n",
    "LEFT JOIN Platfrom_Segment T3 ON T3.CUSTOMER_ID= T1.CUSTOMER_ID\n",
    "LEFT JOIN FTE_SIZE_SEGMENT t7 on t7.customer_id =t1.customer_id\n",
    "LEFT JOIN T_SHIRT_SIZE_SEGMENT t8 on t8.customer_id =t1.customer_id\n",
    "\n",
    "\n",
    "            ''')\n"
   ]
  },
  {
   "cell_type": "code",
   "execution_count": 7,
   "metadata": {},
   "outputs": [],
   "source": [
    "# ADD DESCRIPTION AS COLUMN LABELS\n",
    "items_db_fetched = cur.fetchall()\n",
    "cols = []\n",
    "for i in cur.description:\n",
    "    cols.append(i[0])\n",
    "\n",
    "df_items_db_fetched = pd.DataFrame(items_db_fetched, columns=cols)"
   ]
  },
  {
   "cell_type": "code",
   "execution_count": 8,
   "metadata": {},
   "outputs": [],
   "source": [
    "#MATCH DF OUTPUT TO DF MAIN\n",
    "df_main = df_items_db_fetched"
   ]
  },
  {
   "cell_type": "code",
   "execution_count": 9,
   "metadata": {},
   "outputs": [],
   "source": [
    "#DROP TIME RELATED COLUMNS\n",
    "columns_to_drop = ['TZ_DK_UPDATED_AT', 'TZ_DK_CREATED_AT']\n",
    "df_main = df_main.drop(columns_to_drop, axis=1)"
   ]
  },
  {
   "cell_type": "code",
   "execution_count": 10,
   "metadata": {},
   "outputs": [],
   "source": [
    "#IMPORT LIBRARIES AND GET TODAY'S DATE \n",
    "from datetime import date\n",
    "from datetime import datetime\n",
    "from dateutil.relativedelta import relativedelta\n",
    "#import pyodbc\n",
    "from openpyxl import Workbook\n",
    "report_date = date.today()"
   ]
  },
  {
   "cell_type": "code",
   "execution_count": 11,
   "metadata": {},
   "outputs": [],
   "source": [
    "#CREATE THE OUTPUT FILE PATHNAME\n",
    "output_folder = \"/Users/emirkabasoglu/Library/CloudStorage/OneDrive-CeridianHCMInc/Data and Analytics/Revenue_Data_QA/Customers/\"\n",
    "output_filename = f\"{report_date}-CUSTOMERS.xlsx\"\n",
    "output_filepath = output_folder + output_filename"
   ]
  },
  {
   "cell_type": "code",
   "execution_count": 12,
   "metadata": {},
   "outputs": [
    {
     "name": "stdout",
     "output_type": "stream",
     "text": [
      "DataFrame exported to Excel successfully.\n"
     ]
    }
   ],
   "source": [
    "#SAVE THE OUTPUT FILE TO THE WANTED FOLDER\n",
    "with pd.ExcelWriter(output_filepath, engine='openpyxl') as writer:\n",
    "    df_main.to_excel(writer, index=False, sheet_name='data-dump')\n",
    "\n",
    "print(\"DataFrame exported to Excel successfully.\")"
   ]
  },
  {
   "cell_type": "code",
   "execution_count": 13,
   "metadata": {},
   "outputs": [],
   "source": [
    "### SUBSCRIPTIONS ###"
   ]
  },
  {
   "cell_type": "code",
   "execution_count": 14,
   "metadata": {},
   "outputs": [
    {
     "data": {
      "text/plain": [
       "<snowflake.connector.cursor.SnowflakeCursor at 0x7f8721cf5d00>"
      ]
     },
     "execution_count": 14,
     "metadata": {},
     "output_type": "execute_result"
    }
   ],
   "source": [
    "#START THE CURSOR AND RUN THE QUERY\n",
    "cur = conn.cursor()\n",
    "cur.execute('''\n",
    "\n",
    "SELECT \n",
    "t4.economic_id,t4.customer_name,T6.billing_period_frequency,t6.billing_period_unit,\n",
    "t1.*,t2.EXTERNAL_NAME,T5.CURRENCY_CODE, T5.CALCULATED_ARR,\n",
    "CASE WHEN T3.FAMILY_ID IN ('3') THEN 'content' \n",
    "     ELSE 'software' END AS product\n",
    "FROM PROD_ANALYTICS_DB.DBT_DEPLOY.SUBSCRIPTIONS T1\n",
    "LEFT JOIN PROD_ANALYTICS_DB.DBT_DEPLOY.PRODUCTS T2 ON T1.ITEM_ID =T2.ITEM_ID\n",
    "LEFT JOIN PROD_ANALYTICS_DB.DBT_DEPLOY.PRODUCT_CATEGORIES T3 ON T2.ITEM_FAMILY_ID =T3.FAMILY_ID\n",
    "LEFT JOIN PROD_ANALYTICS_DB.DBT_DEPLOY.CUSTOMERS T4 ON T4.CUSTOMER_ID = T1.CUSTOMER_ID\n",
    "LEFT JOIN PROD_ANALYTICS_DB.DBT_DEPLOY.INT_ARR_CONVERTED_TO_EUR T5 ON T5.SUBSCRIPTION_ID  = T1.SUBSCRIPTION_ID\n",
    "LEFT JOIN PROD_ANALYTICS_DB.DBT_DEPLOY.INT_FINAL_PRICES_NORMALIZED_ARR T6 ON T6.SUBSCRIPTION_ID=T1.SUBSCRIPTION_ID\n",
    "    ''')\n"
   ]
  },
  {
   "cell_type": "code",
   "execution_count": 15,
   "metadata": {},
   "outputs": [],
   "source": [
    "# ADD DESCRIPTION AS COLUMN LABELS\n",
    "items_db_fetched = cur.fetchall()\n",
    "cols = []\n",
    "for i in cur.description:\n",
    "    cols.append(i[0])\n",
    "\n",
    "df_items_db_fetched = pd.DataFrame(items_db_fetched, columns=cols)"
   ]
  },
  {
   "cell_type": "code",
   "execution_count": 16,
   "metadata": {},
   "outputs": [],
   "source": [
    "#MATCH DF OUTPUT TO DF MAIN\n",
    "df_main = df_items_db_fetched"
   ]
  },
  {
   "cell_type": "code",
   "execution_count": 17,
   "metadata": {},
   "outputs": [],
   "source": [
    "#IMPORT LIBRARIES AND GET TODAY'S DATE \n",
    "from datetime import date\n",
    "from datetime import datetime\n",
    "from dateutil.relativedelta import relativedelta\n",
    "#import pyodbc\n",
    "from openpyxl import Workbook\n",
    "report_date = date.today()"
   ]
  },
  {
   "cell_type": "code",
   "execution_count": 18,
   "metadata": {},
   "outputs": [],
   "source": [
    "#CREATE THE OUTPUT FILE PATHNAME\n",
    "output_folder = \"/Users/emirkabasoglu/Library/CloudStorage/OneDrive-CeridianHCMInc//Data and Analytics/Revenue_Data_QA/Subscriptions/\"\n",
    "output_filename = f\"{report_date}-SUBSCRIPTIONS.xlsx\"\n",
    "output_filepath = output_folder + output_filename"
   ]
  },
  {
   "cell_type": "code",
   "execution_count": 19,
   "metadata": {},
   "outputs": [
    {
     "name": "stdout",
     "output_type": "stream",
     "text": [
      "DataFrame exported to Excel successfully.\n"
     ]
    }
   ],
   "source": [
    "#SAVE THE OUTPUT FILE TO THE WANTED FOLDER\n",
    "with pd.ExcelWriter(output_filepath, engine='openpyxl') as writer:\n",
    "    df_main.to_excel(writer, index=False, sheet_name='data-dump')\n",
    "\n",
    "print(\"DataFrame exported to Excel successfully.\")"
   ]
  },
  {
   "cell_type": "code",
   "execution_count": 20,
   "metadata": {},
   "outputs": [],
   "source": [
    "#### STATIC TABLES ####"
   ]
  },
  {
   "cell_type": "code",
   "execution_count": 21,
   "metadata": {},
   "outputs": [
    {
     "name": "stdout",
     "output_type": "stream",
     "text": [
      "DataFrame exported to Excel successfully.\n"
     ]
    }
   ],
   "source": [
    "#PRODUCTS\n",
    "cur = conn.cursor()\n",
    "cur.execute('''\n",
    "SELECT \n",
    "* \n",
    "FROM PROD_ANALYTICS_DB.DBT_DEPLOY.PRODUCTS\n",
    "            ''')\n",
    "\n",
    "# ADD DESCRIPTION AS COLUMN LABELS\n",
    "items_db_fetched = cur.fetchall()\n",
    "cols = []\n",
    "for i in cur.description:\n",
    "    cols.append(i[0])\n",
    "\n",
    "df_items_db_fetched = pd.DataFrame(items_db_fetched, columns=cols)\n",
    "#MATCH DF OUTPUT TO DF MAIN\n",
    "df_main = df_items_db_fetched\n",
    "\n",
    "#CREATE THE OUTPUT FILE PATHNAME\n",
    "output_folder = \"/Users/emirkabasoglu/Library/CloudStorage/OneDrive-CeridianHCMInc//Data and Analytics/Revenue_Data_QA/Products/\"\n",
    "output_filename = f\"{report_date}-PRODUCTS.xlsx\"\n",
    "output_filepath = output_folder + output_filename\n",
    "\n",
    "#SAVE THE OUTPUT FILE TO THE WANTED FOLDER\n",
    "with pd.ExcelWriter(output_filepath, engine='openpyxl') as writer:\n",
    "    df_main.to_excel(writer, index=False, sheet_name='data-dump')\n",
    "\n",
    "print(\"DataFrame exported to Excel successfully.\")"
   ]
  },
  {
   "cell_type": "code",
   "execution_count": 22,
   "metadata": {},
   "outputs": [
    {
     "name": "stdout",
     "output_type": "stream",
     "text": [
      "DataFrame exported to Excel successfully.\n"
     ]
    }
   ],
   "source": [
    "#PRODUCT_CATEGORIES\n",
    "cur = conn.cursor()\n",
    "cur.execute('''\n",
    "SELECT \n",
    "* \n",
    "FROM PROD_ANALYTICS_DB.DBT_DEPLOY.PRODUCT_CATEGORIES\n",
    "            ''')\n",
    "\n",
    "# ADD DESCRIPTION AS COLUMN LABELS\n",
    "items_db_fetched = cur.fetchall()\n",
    "cols = []\n",
    "for i in cur.description:\n",
    "    cols.append(i[0])\n",
    "\n",
    "df_items_db_fetched = pd.DataFrame(items_db_fetched, columns=cols)\n",
    "#MATCH DF OUTPUT TO DF MAIN\n",
    "df_main = df_items_db_fetched\n",
    "\n",
    "#CREATE THE OUTPUT FILE PATHNAME\n",
    "output_folder = \"/Users/emirkabasoglu/Library/CloudStorage/OneDrive-CeridianHCMInc//Data and Analytics/Revenue_Data_QA/Products/\"\n",
    "output_filename = f\"{report_date}-PRODUCT_CATEGORIES.xlsx\"\n",
    "output_filepath = output_folder + output_filename\n",
    "\n",
    "#SAVE THE OUTPUT FILE TO THE WANTED FOLDER\n",
    "with pd.ExcelWriter(output_filepath, engine='openpyxl') as writer:\n",
    "    df_main.to_excel(writer, index=False, sheet_name='data-dump')\n",
    "\n",
    "print(\"DataFrame exported to Excel successfully.\")"
   ]
  },
  {
   "cell_type": "code",
   "execution_count": 23,
   "metadata": {},
   "outputs": [
    {
     "name": "stdout",
     "output_type": "stream",
     "text": [
      "DataFrame exported to Excel successfully.\n"
     ]
    }
   ],
   "source": [
    "#COUNTRY_CODE_REGION\n",
    "cur = conn.cursor()\n",
    "cur.execute('''\n",
    "SELECT \n",
    "* \n",
    "FROM COMMON_DB.STATIC.COUNTRY_CODE_REGION\n",
    "            ''')\n",
    "\n",
    "# ADD DESCRIPTION AS COLUMN LABELS\n",
    "items_db_fetched = cur.fetchall()\n",
    "cols = []\n",
    "for i in cur.description:\n",
    "    cols.append(i[0])\n",
    "\n",
    "df_items_db_fetched = pd.DataFrame(items_db_fetched, columns=cols)\n",
    "#MATCH DF OUTPUT TO DF MAIN\n",
    "df_main = df_items_db_fetched\n",
    "\n",
    "#CREATE THE OUTPUT FILE PATHNAME\n",
    "output_folder = \"/Users/emirkabasoglu/Library/CloudStorage/OneDrive-CeridianHCMInc//Data and Analytics/Revenue_Data_QA/Static/\"\n",
    "output_filename = f\"{report_date}-COUNTRY_CODE_REGION.xlsx\"\n",
    "output_filepath = output_folder + output_filename\n",
    "\n",
    "#SAVE THE OUTPUT FILE TO THE WANTED FOLDER\n",
    "with pd.ExcelWriter(output_filepath, engine='openpyxl') as writer:\n",
    "    df_main.to_excel(writer, index=False, sheet_name='data-dump')\n",
    "\n",
    "print(\"DataFrame exported to Excel successfully.\")"
   ]
  },
  {
   "cell_type": "code",
   "execution_count": 24,
   "metadata": {},
   "outputs": [
    {
     "name": "stdout",
     "output_type": "stream",
     "text": [
      "DataFrame exported to Excel successfully.\n"
     ]
    }
   ],
   "source": [
    "#FX_RATE_FY24\n",
    "cur = conn.cursor()\n",
    "cur.execute('''\n",
    "SELECT \n",
    "* \n",
    "FROM COMMON_DB.STATIC.FX_RATE_FY24\n",
    "            ''')\n",
    "\n",
    "# ADD DESCRIPTION AS COLUMN LABELS\n",
    "items_db_fetched = cur.fetchall()\n",
    "cols = []\n",
    "for i in cur.description:\n",
    "    cols.append(i[0])\n",
    "\n",
    "df_items_db_fetched = pd.DataFrame(items_db_fetched, columns=cols)\n",
    "#MATCH DF OUTPUT TO DF MAIN\n",
    "df_main = df_items_db_fetched\n",
    "\n",
    "#CREATE THE OUTPUT FILE PATHNAME\n",
    "output_folder = \"/Users/emirkabasoglu/Library/CloudStorage/OneDrive-CeridianHCMInc//Data and Analytics/Revenue_Data_QA/Static/\"\n",
    "output_filename = f\"{report_date}-FX_RATE_FY24.xlsx\"\n",
    "output_filepath = output_folder + output_filename\n",
    "\n",
    "#SAVE THE OUTPUT FILE TO THE WANTED FOLDER\n",
    "with pd.ExcelWriter(output_filepath, engine='openpyxl') as writer:\n",
    "    df_main.to_excel(writer, index=False, sheet_name='data-dump')\n",
    "\n",
    "print(\"DataFrame exported to Excel successfully.\")"
   ]
  },
  {
   "cell_type": "code",
   "execution_count": 25,
   "metadata": {},
   "outputs": [
    {
     "name": "stdout",
     "output_type": "stream",
     "text": [
      "DataFrame exported to Excel successfully.\n"
     ]
    }
   ],
   "source": [
    "#GICS\n",
    "cur = conn.cursor()\n",
    "cur.execute('''\n",
    "SELECT \n",
    "* \n",
    "FROM COMMON_DB.STATIC.GICS\n",
    "            ''')\n",
    "\n",
    "# ADD DESCRIPTION AS COLUMN LABELS\n",
    "items_db_fetched = cur.fetchall()\n",
    "cols = []\n",
    "for i in cur.description:\n",
    "    cols.append(i[0])\n",
    "\n",
    "df_items_db_fetched = pd.DataFrame(items_db_fetched, columns=cols)\n",
    "#MATCH DF OUTPUT TO DF MAIN\n",
    "df_main = df_items_db_fetched\n",
    "\n",
    "#CREATE THE OUTPUT FILE PATHNAME\n",
    "output_folder = \"/Users/emirkabasoglu/Library/CloudStorage/OneDrive-CeridianHCMInc//Data and Analytics/Revenue_Data_QA/Static/\"\n",
    "output_filename = f\"{report_date}-GICS.xlsx\"\n",
    "output_filepath = output_folder + output_filename\n",
    "\n",
    "#SAVE THE OUTPUT FILE TO THE WANTED FOLDER\n",
    "with pd.ExcelWriter(output_filepath, engine='openpyxl') as writer:\n",
    "    df_main.to_excel(writer, index=False, sheet_name='data-dump')\n",
    "\n",
    "print(\"DataFrame exported to Excel successfully.\")"
   ]
  },
  {
   "cell_type": "code",
   "execution_count": 26,
   "metadata": {},
   "outputs": [
    {
     "name": "stdout",
     "output_type": "stream",
     "text": [
      "DataFrame exported to Excel successfully.\n"
     ]
    }
   ],
   "source": [
    "#LEAD_SOURCE_GROUP\n",
    "cur = conn.cursor()\n",
    "cur.execute('''\n",
    "SELECT \n",
    "* \n",
    "FROM COMMON_DB.STATIC.LEAD_SOURCE_GROUP\n",
    "            ''')\n",
    "\n",
    "# ADD DESCRIPTION AS COLUMN LABELS\n",
    "items_db_fetched = cur.fetchall()\n",
    "cols = []\n",
    "for i in cur.description:\n",
    "    cols.append(i[0])\n",
    "\n",
    "df_items_db_fetched = pd.DataFrame(items_db_fetched, columns=cols)\n",
    "#MATCH DF OUTPUT TO DF MAIN\n",
    "df_main = df_items_db_fetched\n",
    "\n",
    "#CREATE THE OUTPUT FILE PATHNAME\n",
    "output_folder = \"/Users/emirkabasoglu/Library/CloudStorage/OneDrive-CeridianHCMInc//Data and Analytics/Revenue_Data_QA/Static/\"\n",
    "output_filename = f\"{report_date}-LEAD_SOURCE_GROUP.xlsx\"\n",
    "output_filepath = output_folder + output_filename\n",
    "\n",
    "#SAVE THE OUTPUT FILE TO THE WANTED FOLDER\n",
    "with pd.ExcelWriter(output_filepath, engine='openpyxl') as writer:\n",
    "    df_main.to_excel(writer, index=False, sheet_name='data-dump')\n",
    "\n",
    "print(\"DataFrame exported to Excel successfully.\")"
   ]
  },
  {
   "cell_type": "code",
   "execution_count": 27,
   "metadata": {},
   "outputs": [
    {
     "name": "stdout",
     "output_type": "stream",
     "text": [
      "DataFrame exported to Excel successfully.\n"
     ]
    }
   ],
   "source": [
    "#SEGMENT\n",
    "cur = conn.cursor()\n",
    "cur.execute('''\n",
    "SELECT \n",
    "* \n",
    "FROM COMMON_DB.STATIC.SEGMENT\n",
    "            ''')\n",
    "\n",
    "# ADD DESCRIPTION AS COLUMN LABELS\n",
    "items_db_fetched = cur.fetchall()\n",
    "cols = []\n",
    "for i in cur.description:\n",
    "    cols.append(i[0])\n",
    "\n",
    "df_items_db_fetched = pd.DataFrame(items_db_fetched, columns=cols)\n",
    "#MATCH DF OUTPUT TO DF MAIN\n",
    "df_main = df_items_db_fetched\n",
    "\n",
    "#CREATE THE OUTPUT FILE PATHNAME\n",
    "output_folder = \"/Users/emirkabasoglu/Library/CloudStorage/OneDrive-CeridianHCMInc//Data and Analytics/Revenue_Data_QA/Static/\"\n",
    "output_filename = f\"{report_date}-SEGMENT.xlsx\"\n",
    "output_filepath = output_folder + output_filename\n",
    "\n",
    "#SAVE THE OUTPUT FILE TO THE WANTED FOLDER\n",
    "with pd.ExcelWriter(output_filepath, engine='openpyxl') as writer:\n",
    "    df_main.to_excel(writer, index=False, sheet_name='data-dump')\n",
    "\n",
    "print(\"DataFrame exported to Excel successfully.\")"
   ]
  },
  {
   "cell_type": "code",
   "execution_count": 28,
   "metadata": {},
   "outputs": [
    {
     "name": "stdout",
     "output_type": "stream",
     "text": [
      "DataFrame exported to Excel successfully.\n"
     ]
    }
   ],
   "source": [
    "#SIZE\n",
    "cur = conn.cursor()\n",
    "cur.execute('''\n",
    "SELECT \n",
    "* \n",
    "FROM COMMON_DB.STATIC.SIZE\n",
    "            ''')\n",
    "\n",
    "# ADD DESCRIPTION AS COLUMN LABELS\n",
    "items_db_fetched = cur.fetchall()\n",
    "cols = []\n",
    "for i in cur.description:\n",
    "    cols.append(i[0])\n",
    "\n",
    "df_items_db_fetched = pd.DataFrame(items_db_fetched, columns=cols)\n",
    "#MATCH DF OUTPUT TO DF MAIN\n",
    "df_main = df_items_db_fetched\n",
    "\n",
    "#CREATE THE OUTPUT FILE PATHNAME\n",
    "output_folder = \"/Users/emirkabasoglu/Library/CloudStorage/OneDrive-CeridianHCMInc//Data and Analytics/Revenue_Data_QA/Static/\"\n",
    "output_filename = f\"{report_date}-SIZE.xlsx\"\n",
    "output_filepath = output_folder + output_filename\n",
    "\n",
    "#SAVE THE OUTPUT FILE TO THE WANTED FOLDER\n",
    "with pd.ExcelWriter(output_filepath, engine='openpyxl') as writer:\n",
    "    df_main.to_excel(writer, index=False, sheet_name='data-dump')\n",
    "\n",
    "print(\"DataFrame exported to Excel successfully.\")"
   ]
  },
  {
   "cell_type": "code",
   "execution_count": 29,
   "metadata": {},
   "outputs": [
    {
     "name": "stdout",
     "output_type": "stream",
     "text": [
      "DataFrame exported to Excel successfully.\n"
     ]
    }
   ],
   "source": [
    "#TARGETS_FY24\n",
    "cur = conn.cursor()\n",
    "cur.execute('''\n",
    "SELECT \n",
    "* \n",
    "FROM COMMON_DB.STATIC.TARGETS_FY24\n",
    "            ''')\n",
    "\n",
    "# ADD DESCRIPTION AS COLUMN LABELS\n",
    "items_db_fetched = cur.fetchall()\n",
    "cols = []\n",
    "for i in cur.description:\n",
    "    cols.append(i[0])\n",
    "\n",
    "df_items_db_fetched = pd.DataFrame(items_db_fetched, columns=cols)\n",
    "#MATCH DF OUTPUT TO DF MAIN\n",
    "df_main = df_items_db_fetched\n",
    "\n",
    "#CREATE THE OUTPUT FILE PATHNAME\n",
    "output_folder = \"/Users/emirkabasoglu/Library/CloudStorage/OneDrive-CeridianHCMInc//Data and Analytics/Revenue_Data_QA/Static/\"\n",
    "output_filename = f\"{report_date}-TARGETS_FY24.xlsx\"\n",
    "output_filepath = output_folder + output_filename\n",
    "\n",
    "#SAVE THE OUTPUT FILE TO THE WANTED FOLDER\n",
    "with pd.ExcelWriter(output_filepath, engine='openpyxl') as writer:\n",
    "    df_main.to_excel(writer, index=False, sheet_name='data-dump')\n",
    "\n",
    "print(\"DataFrame exported to Excel successfully.\")"
   ]
  }
 ],
 "metadata": {
  "kernelspec": {
   "display_name": "base",
   "language": "python",
   "name": "python3"
  },
  "language_info": {
   "codemirror_mode": {
    "name": "ipython",
    "version": 3
   },
   "file_extension": ".py",
   "mimetype": "text/x-python",
   "name": "python",
   "nbconvert_exporter": "python",
   "pygments_lexer": "ipython3",
   "version": "3.9.18"
  },
  "orig_nbformat": 4,
  "vscode": {
   "interpreter": {
    "hash": "141315d3ac9c5949835768f3203c43ff0732cf0a277d53252ec4baf98543640d"
   }
  }
 },
 "nbformat": 4,
 "nbformat_minor": 2
}
