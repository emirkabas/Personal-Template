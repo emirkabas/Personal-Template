{
 "cells": [
  {
   "cell_type": "code",
   "execution_count": 4,
   "metadata": {},
   "outputs": [],
   "source": [
    "import pandas as pd\n",
    "from datetime import date"
   ]
  },
  {
   "cell_type": "code",
   "execution_count": 5,
   "metadata": {},
   "outputs": [],
   "source": [
    "date_of_transformation = date.today()"
   ]
  },
  {
   "cell_type": "code",
   "execution_count": 10,
   "metadata": {},
   "outputs": [
    {
     "name": "stderr",
     "output_type": "stream",
     "text": [
      "/var/folders/84/np97p6s9023f4v7_n4n1nqk40000gp/T/ipykernel_5770/556194260.py:21: SettingWithCopyWarning: \n",
      "A value is trying to be set on a copy of a slice from a DataFrame\n",
      "\n",
      "See the caveats in the documentation: https://pandas.pydata.org/pandas-docs/stable/user_guide/indexing.html#returning-a-view-versus-a-copy\n",
      "  df_datasheets_output.rename(columns={'econ_id': 'id', 'customer_name': 'name', 'total_item_price_EUR': 'value', 'committed_since': 'commit', 'current_contract_start': 'start', 'current_contract_end': 'end'}, inplace=True)\n"
     ]
    }
   ],
   "source": [
    "# DATASHEET TRANSFORM\n",
    "# get input file\n",
    "df_datasheets = pd.read_excel('/Users/emirkabasoglu/Desktop/Eloomi/VS Codes/Jupyter Notebook Scripts/Relevant Scripts/subscription_sheet.xlsx')\n",
    "\n",
    "# remove white space around product names\n",
    "df_datasheets['product_name'] = df_datasheets['product_name'].str.strip()\n",
    "\n",
    "# set up mask for won pulled\n",
    "mask_wp_subscriptions = df_datasheets['product_name'].str.lower().str.startswith('wp')\n",
    "\n",
    "# set up dataframe with won pulled removed\n",
    "df_datasheets_no_wp = df_datasheets.loc[~mask_wp_subscriptions]\n",
    "\n",
    "# define columns to be used in output dataframe\n",
    "ds_output_cols = ['econ_id', 'customer_name', 'total_item_price_EUR', 'committed_since', 'current_contract_start', 'current_contract_end']\n",
    "\n",
    "# set up final output dataframe\n",
    "df_datasheets_output = df_datasheets_no_wp[ds_output_cols]\n",
    "\n",
    "# rename columns to get uniformly labelled dataframes\n",
    "df_datasheets_output.rename(columns={'econ_id': 'id', 'customer_name': 'name', 'total_item_price_EUR': 'value', 'committed_since': 'commit', 'current_contract_start': 'start', 'current_contract_end': 'end'}, inplace=True)\n",
    "\n",
    "# CREATE EXPORT FILE\n",
    "with pd.ExcelWriter(\n",
    "    f'/Users/emirkabasoglu/Desktop/Eloomi/VS Codes/Jupyter Notebook Scripts/Account Allignment/{date_of_transformation}-T-datasheets-subscriptions.xlsx',\n",
    "    date_format = 'YYYY-MM-DD',\n",
    "    datetime_format = 'YYYY-MM-DD'\n",
    "    ) as writer:\n",
    "    df_datasheets_output.to_excel(writer, index=False)"
   ]
  },
  {
   "cell_type": "code",
   "execution_count": 6,
   "metadata": {},
   "outputs": [
    {
     "name": "stderr",
     "output_type": "stream",
     "text": [
      "/var/folders/84/np97p6s9023f4v7_n4n1nqk40000gp/T/ipykernel_7523/3241152133.py:12: SettingWithCopyWarning: \n",
      "A value is trying to be set on a copy of a slice from a DataFrame\n",
      "\n",
      "See the caveats in the documentation: https://pandas.pydata.org/pandas-docs/stable/user_guide/indexing.html#returning-a-view-versus-a-copy\n",
      "  df_db_output.rename(columns={'id': 'id', 'customer_name': 'name', 'value': 'value', 'commit': 'commit'}, inplace=True)\n"
     ]
    }
   ],
   "source": [
    "# DATABASE TRANSFORM\n",
    "# get input file\n",
    "df_db = pd.read_excel('/Users/emirkabasoglu/Desktop/Eloomi/VS Codes/Jupyter Notebook Scripts/Snowflake Scripts/Board_Metrics_Input_File.xlsx')\n",
    "\n",
    "# define columns to be used in output dataframe\n",
    "db_output_cols = ['id', 'customer_name', 'value', 'commit', 'start', 'end']\n",
    "\n",
    "# set up final output dataframe\n",
    "df_db_output = df_db[db_output_cols]\n",
    "\n",
    "# rename columns to get uniformly labelled dataframes\n",
    "df_db_output.rename(columns={'id': 'id', 'customer_name': 'name', 'value': 'value', 'commit': 'commit'}, inplace=True)\n",
    "\n",
    "# CREATE EXPORT FILE\n",
    "with pd.ExcelWriter(\n",
    "    f'/Users/emirkabasoglu/Desktop/Eloomi/VS Codes/Jupyter Notebook Scripts/Account Allignment/{date_of_transformation}-T-db-subscriptions.xlsx',\n",
    "    date_format = 'YYYY-MM-DD',\n",
    "    datetime_format = 'YYYY-MM-DD'\n",
    "    ) as writer:\n",
    "    df_db_output.to_excel(writer, index=False)"
   ]
  },
  {
   "cell_type": "code",
   "execution_count": 5,
   "metadata": {},
   "outputs": [
    {
     "data": {
      "text/plain": [
       "id                 int64\n",
       "name              object\n",
       "value            float64\n",
       "commit    datetime64[ns]\n",
       "start     datetime64[ns]\n",
       "end       datetime64[ns]\n",
       "dtype: object"
      ]
     },
     "execution_count": 5,
     "metadata": {},
     "output_type": "execute_result"
    }
   ],
   "source": [
    "df_db_output.dtypes"
   ]
  },
  {
   "cell_type": "code",
   "execution_count": 6,
   "metadata": {},
   "outputs": [
    {
     "data": {
      "text/plain": [
       "id                 int64\n",
       "name              object\n",
       "value            float64\n",
       "commit    datetime64[ns]\n",
       "start     datetime64[ns]\n",
       "end       datetime64[ns]\n",
       "dtype: object"
      ]
     },
     "execution_count": 6,
     "metadata": {},
     "output_type": "execute_result"
    }
   ],
   "source": [
    "df_db_output.dtypes"
   ]
  },
  {
   "cell_type": "code",
   "execution_count": 7,
   "metadata": {},
   "outputs": [
    {
     "data": {
      "text/plain": [
       "id                 int64\n",
       "name              object\n",
       "value            float64\n",
       "commit    datetime64[ns]\n",
       "start     datetime64[ns]\n",
       "end       datetime64[ns]\n",
       "dtype: object"
      ]
     },
     "execution_count": 7,
     "metadata": {},
     "output_type": "execute_result"
    }
   ],
   "source": [
    "df_datasheets_output.dtypes"
   ]
  },
  {
   "cell_type": "code",
   "execution_count": 8,
   "metadata": {},
   "outputs": [
    {
     "data": {
      "text/html": [
       "<div>\n",
       "<style scoped>\n",
       "    .dataframe tbody tr th:only-of-type {\n",
       "        vertical-align: middle;\n",
       "    }\n",
       "\n",
       "    .dataframe tbody tr th {\n",
       "        vertical-align: top;\n",
       "    }\n",
       "\n",
       "    .dataframe thead th {\n",
       "        text-align: right;\n",
       "    }\n",
       "</style>\n",
       "<table border=\"1\" class=\"dataframe\">\n",
       "  <thead>\n",
       "    <tr style=\"text-align: right;\">\n",
       "      <th></th>\n",
       "      <th>Unnamed: 0</th>\n",
       "      <th>date_of_record</th>\n",
       "      <th>customer_id</th>\n",
       "      <th>econ_id</th>\n",
       "      <th>customer_name</th>\n",
       "      <th>product_name</th>\n",
       "      <th>units</th>\n",
       "      <th>licenses</th>\n",
       "      <th>currency</th>\n",
       "      <th>item_discount</th>\n",
       "      <th>...</th>\n",
       "      <th>billing_frequency</th>\n",
       "      <th>sales_rep</th>\n",
       "      <th>sales_channel</th>\n",
       "      <th>lead_source</th>\n",
       "      <th>opportunity_created</th>\n",
       "      <th>renewal</th>\n",
       "      <th>cancelled</th>\n",
       "      <th>order_id</th>\n",
       "      <th>total_item_price_DKK</th>\n",
       "      <th>total_item_price_EUR</th>\n",
       "    </tr>\n",
       "  </thead>\n",
       "  <tbody>\n",
       "  </tbody>\n",
       "</table>\n",
       "<p>0 rows × 24 columns</p>\n",
       "</div>"
      ],
      "text/plain": [
       "Empty DataFrame\n",
       "Columns: [Unnamed: 0, date_of_record, customer_id, econ_id, customer_name, product_name, units, licenses, currency, item_discount, total_item_price, committed_since, current_contract_start, current_contract_end, billing_frequency, sales_rep, sales_channel, lead_source, opportunity_created, renewal, cancelled, order_id, total_item_price_DKK, total_item_price_EUR]\n",
       "Index: []\n",
       "\n",
       "[0 rows x 24 columns]"
      ]
     },
     "execution_count": 8,
     "metadata": {},
     "output_type": "execute_result"
    }
   ],
   "source": [
    "df_datasheets_no_wp.loc[df_datasheets_no_wp['econ_id'] == 6813]"
   ]
  },
  {
   "cell_type": "code",
   "execution_count": null,
   "metadata": {},
   "outputs": [],
   "source": []
  }
 ],
 "metadata": {
  "kernelspec": {
   "display_name": "base",
   "language": "python",
   "name": "python3"
  },
  "language_info": {
   "codemirror_mode": {
    "name": "ipython",
    "version": 3
   },
   "file_extension": ".py",
   "mimetype": "text/x-python",
   "name": "python",
   "nbconvert_exporter": "python",
   "pygments_lexer": "ipython3",
   "version": "3.10.9"
  },
  "orig_nbformat": 4,
  "vscode": {
   "interpreter": {
    "hash": "38aef752a079a85de1739380fb1638eeeade851c41e3775971b8ec62af2e1c1a"
   }
  }
 },
 "nbformat": 4,
 "nbformat_minor": 2
}
