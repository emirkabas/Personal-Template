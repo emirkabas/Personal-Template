{
 "cells": [
  {
   "cell_type": "code",
   "execution_count": 6,
   "metadata": {},
   "outputs": [],
   "source": [
    "import pandas as pd\n",
    "from datetime import date\n",
    "import numpy as np\n",
    "from dateutil.relativedelta import relativedelta"
   ]
  },
  {
   "cell_type": "code",
   "execution_count": 14,
   "metadata": {},
   "outputs": [],
   "source": [
    "# Load main subscription data\n",
    "df_main = pd.read_excel('/Users/emirkabasoglu/Desktop/Eloomi/VS Codes/Jupyter Notebook Scripts/Account Allignment/2023-10-30-T-datasheets-subscriptions.xlsx')\n",
    "# df_main = pd.read_excel('/Users/jesperfriislarnaes/Library/CloudStorage/OneDrive-eloomi/Scripts/New_Dashboard/test-data-a.xlsx')"
   ]
  },
  {
   "cell_type": "code",
   "execution_count": 15,
   "metadata": {},
   "outputs": [],
   "source": [
    "# Set dates - report date is the month after the one being reported on\n",
    "report_date = date(2022,1,1)\n",
    "ltm_period_start = report_date + relativedelta(months=-48)"
   ]
  },
  {
   "cell_type": "code",
   "execution_count": 16,
   "metadata": {},
   "outputs": [],
   "source": [
    "# FUNCTION TO CALCULATE ARR\n",
    "def arr_ltm_calculations(df, name):\n",
    "    # Function to get ARR main grid\n",
    "    def ltm_arr(df, ltm_period_start, ltm_period_end):\n",
    "        while ltm_period_start < ltm_period_end:\n",
    "            revenue_period = ltm_period_start + relativedelta(months=+1, days=-1)\n",
    "            mask_active = (df['start'].dt.date <= revenue_period) & (df['end'].dt.date >= revenue_period)\n",
    "            if df.empty:\n",
    "                df[f'{revenue_period}'] = np.nan\n",
    "            else:\n",
    "                df[f'{revenue_period}'] = df.loc[mask_active]['value']\n",
    "            ltm_period_start = ltm_period_start + relativedelta(months=+1)\n",
    "        return df\n",
    "\n",
    "    # Run function using dataframe as input and current_end_of_month to define the ltm period range\n",
    "    df_ltm_arr = ltm_arr(df, ltm_period_start, report_date)\n",
    "\n",
    "    # Group by ids to get grid on account level\n",
    "    revenue_period_cols = list(df_ltm_arr.iloc[:,12:])\n",
    "    df_ltm_arr_agg = df_ltm_arr.groupby('id')[revenue_period_cols].sum()\n",
    "    df_ltm_arr_agg.to_excel(f'{name}-ltm-arr-per-account.xlsx')\n",
    "\n",
    "    # Set up dataframe for arr ending\n",
    "    df_arr_ending = df_ltm_arr_agg.agg(['sum']).rename(index={'sum': f'{name}_arr_ending'})\n",
    "\n",
    "    # Set up dataframe for arr churn \n",
    "    df_arr_churn = df_ltm_arr_agg.diff(axis=1)[df_ltm_arr_agg.eq(0)].agg(['sum']).rename(index={'sum': f'{name}_arr_churn'})\n",
    "\n",
    "    # Set up dataframe for new logo arr\n",
    "    df_arr_new_logo = df_ltm_arr_agg.diff(axis=1)[df_ltm_arr_agg.eq(0).shift(axis=1)].agg(['sum']).rename(index={'sum': f'{name}_arr_new_logo'})\n",
    "\n",
    "    # Set up dataframe for upsell arr\n",
    "    mask_arr_upsell = df_ltm_arr_agg[df_ltm_arr_agg.gt(0)].diff(axis=1).fillna(0).gt(0)\n",
    "    df_arr_upsell = df_ltm_arr_agg.diff(axis=1)[mask_arr_upsell].agg(['sum']).rename(index={'sum': f'{name}_arr_upsell'})\n",
    "\n",
    "    # Set up dataframe for downsell arr\n",
    "    mask_arr_downsell = df_ltm_arr_agg[df_ltm_arr_agg.gt(0)].diff(axis=1).fillna(0).lt(0)\n",
    "    df_arr_downsell = df_ltm_arr_agg.diff(axis=1)[mask_arr_downsell].agg(['sum']).rename(index={'sum': f'{name}_arr_downsell'})\n",
    "\n",
    "    # Set up dataframe for arr ending logo count\n",
    "    df_arr_ending_logo_count = df_ltm_arr_agg.replace(0,np.nan).count().to_frame(name=f'{name}_arr_ending_logo_count').transpose()\n",
    "\n",
    "    # Set up dataframe for arr churn logo count\n",
    "    df_arr_churn_logo_count = df_ltm_arr_agg.diff(axis=1)[df_ltm_arr_agg.eq(0)].replace(0,np.nan).count().to_frame(name=f'{name}_arr_churn_logo_count').transpose()\n",
    "\n",
    "    # Set up dataframe for arr new logo count\n",
    "    df_arr_new_logo_count = df_ltm_arr_agg.diff(axis=1)[df_ltm_arr_agg.eq(0).shift(axis=1)].replace(0,np.nan).count().to_frame(name=f'{name}_arr_new_logo_count').transpose()\n",
    "\n",
    "    # Set up dataframe for arr upsell logo count\n",
    "    mask_arr_upsell = df_ltm_arr_agg[df_ltm_arr_agg.gt(0)].diff(axis=1).fillna(0).gt(0)\n",
    "    df_arr_upsell_logo_count = df_ltm_arr_agg.diff(axis=1)[mask_arr_upsell].replace(0,np.nan).count().to_frame(name=f'{name}_arr_upsell_logo_count').transpose()\n",
    "\n",
    "    # Set up dataframe for downsell arr logo count\n",
    "    mask_arr_downsell = df_ltm_arr_agg[df_ltm_arr_agg.gt(0)].diff(axis=1).fillna(0).lt(0)\n",
    "    df_arr_downsell_logo_count = df_ltm_arr_agg.diff(axis=1)[mask_arr_downsell].replace(0,np.nan).count().to_frame(name=f'{name}_arr_downsell_logo_count').transpose()\n",
    "\n",
    "    # Set up concatenated dataframe\n",
    "    arr_dfs = pd.concat([df_arr_new_logo, df_arr_churn, df_arr_upsell, df_arr_downsell, df_arr_ending, df_arr_new_logo_count, df_arr_churn_logo_count, df_arr_upsell_logo_count, df_arr_downsell_logo_count, df_arr_ending_logo_count], axis=0)\n",
    "    return arr_dfs"
   ]
  },
  {
   "cell_type": "code",
   "execution_count": 17,
   "metadata": {},
   "outputs": [],
   "source": [
    "# ALL GEOS\n",
    "# Size split total arr\n",
    "# total arr\n",
    "df_total_filter = df_main\n",
    "df_total = arr_ltm_calculations(df_total_filter, 'all_geos_total')\n",
    "\n",
    "# # smb total arr\n",
    "# df_smb_total_filter = df_main[df_main['size'] == 'smb']\n",
    "# df_smb_total = arr_ltm_calculations(df_smb_total_filter, 'all_geos_smb')\n",
    "\n",
    "# # mm total arr\n",
    "# df_mm_total_filter = df_main[df_main['size'] == 'mm']\n",
    "# df_mm_total = arr_ltm_calculations(df_mm_total_filter, 'all_geos_mm')\n",
    "\n",
    "# # ent total arr\n",
    "# df_ent_total_filter = df_main[df_main['size'] == 'ent']\n",
    "# df_ent_total = arr_ltm_calculations(df_ent_total_filter, 'all_geos_ent')\n",
    "\n",
    "# # Product split total arr\n",
    "# # Software total\n",
    "# df_software_total_filter = df_main[df_main['product'] == 'software']\n",
    "# df_software_total = arr_ltm_calculations(df_software_total_filter, 'all_geos_software')\n",
    "\n",
    "# # Content total\n",
    "# df_content_total_filter = df_main[df_main['product'] == 'content']\n",
    "# df_content_total = arr_ltm_calculations(df_content_total_filter, 'all_geos_content')\n",
    "\n",
    "# # Type split total arr\n",
    "# # People total\n",
    "# df_people_total_filter = df_main[df_main['type'] == 'people']\n",
    "# df_people_total = arr_ltm_calculations(df_people_total_filter, 'all_geos_people')\n",
    "\n",
    "# # Infinite total\n",
    "# df_infinite_total_filter = df_main[df_main['type'] == 'infinite']\n",
    "# df_infinite_total = arr_ltm_calculations(df_infinite_total_filter, 'all_geos_infinite')\n",
    "\n",
    "# Create output excel file for geo \n",
    "# # create a excel writer object\n",
    "with pd.ExcelWriter(f\"db-{report_date}-all-geos-arr.xlsx\") as writer:\n",
    "   \n",
    "    # use to_excel function and specify the sheet_name and index\n",
    "    # to store the dataframe in specified sheet\n",
    "    df_total.to_excel(writer, sheet_name=\"all-geos-total-arr\")\n",
    "    # df_smb_total.to_excel(writer, sheet_name=\"all-geos-smb-arr\")\n",
    "    # df_mm_total.to_excel(writer, sheet_name=\"all-geos-mm-arr\")\n",
    "    # df_ent_total.to_excel(writer, sheet_name=\"all-geos-ent-arr\")\n",
    "    # df_software_total.to_excel(writer, sheet_name=\"all-geos-software-arr\")\n",
    "    # df_content_total.to_excel(writer, sheet_name=\"all-geos-content-arr\")\n",
    "    # df_people_total.to_excel(writer, sheet_name=\"all-geos-people-arr\")\n",
    "    # df_infinite_total.to_excel(writer, sheet_name=\"all-geos-infinite-arr\")"
   ]
  },
  {
   "cell_type": "code",
   "execution_count": null,
   "metadata": {},
   "outputs": [],
   "source": [
    "# ---=== END ===---"
   ]
  }
 ],
 "metadata": {
  "kernelspec": {
   "display_name": "Python 3.9.7 ('base')",
   "language": "python",
   "name": "python3"
  },
  "language_info": {
   "codemirror_mode": {
    "name": "ipython",
    "version": 3
   },
   "file_extension": ".py",
   "mimetype": "text/x-python",
   "name": "python",
   "nbconvert_exporter": "python",
   "pygments_lexer": "ipython3",
   "version": "3.10.9"
  },
  "orig_nbformat": 4,
  "vscode": {
   "interpreter": {
    "hash": "38aef752a079a85de1739380fb1638eeeade851c41e3775971b8ec62af2e1c1a"
   }
  }
 },
 "nbformat": 4,
 "nbformat_minor": 2
}
