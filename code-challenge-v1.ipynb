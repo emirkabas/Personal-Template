{
 "cells": [
  {
   "cell_type": "code",
   "execution_count": 1,
   "metadata": {},
   "outputs": [],
   "source": [
    "#CODE CHALLENGE DAY 1"
   ]
  },
  {
   "cell_type": "code",
   "execution_count": 12,
   "metadata": {},
   "outputs": [],
   "source": [
    "input_data = [\n",
    "    \"mul(4,5)\",   # Valid operation\n",
    "    \"add(3,2)\",   # Invalid operation\n",
    "    \"mul(2,9)\",   # Valid operation\n",
    "    \"sub(1,4)\",   # Invalid operation\n",
    "    \"mul(10,3)\",  # Valid operation\n",
    "    \"mul(3,abc)\", # Invalid due to non-numeric argument\n",
    "    \"div(6,2)\",   # Invalid operation\n",
    "    \"mul(7,8)\",   # Valid operation\n",
    "    \"mul(-2,6)\"   # Valid operation\n",
    "]\n"
   ]
  },
  {
   "cell_type": "code",
   "execution_count": 13,
   "metadata": {},
   "outputs": [],
   "source": [
    "def extract_total_number(data):\n",
    "    total_sum = 0 \n",
    "\n",
    "    for line in data:\n",
    "\n",
    "        if line.startswith(\"mul(\") and line.endswith(\")\"):\n",
    "            try:\n",
    "                inner_content = line[4:-1] # Remove \"mul(\" and \")\"\n",
    "                x,y = map(int, inner_content.split(\",\"))  #Split by comma and convert to integers\n",
    "\n",
    "                total_sum += x*y\n",
    "            except(ValueError, IndexError):\n",
    "                # If parsing fails or the format is incorrect, skip the line\n",
    "                continue\n",
    "\n",
    "    return total_sum        "
   ]
  },
  {
   "cell_type": "code",
   "execution_count": 14,
   "metadata": {},
   "outputs": [],
   "source": [
    "result = extract_total_number(input_data)\n"
   ]
  },
  {
   "cell_type": "code",
   "execution_count": 15,
   "metadata": {},
   "outputs": [
    {
     "name": "stdout",
     "output_type": "stream",
     "text": [
      "Result of the input data is 112\n"
     ]
    }
   ],
   "source": [
    "print(f\"Result of the input data is {result}\")"
   ]
  },
  {
   "cell_type": "code",
   "execution_count": null,
   "metadata": {},
   "outputs": [],
   "source": []
  },
  {
   "cell_type": "code",
   "execution_count": null,
   "metadata": {},
   "outputs": [],
   "source": []
  },
  {
   "cell_type": "code",
   "execution_count": null,
   "metadata": {},
   "outputs": [],
   "source": []
  }
 ],
 "metadata": {
  "kernelspec": {
   "display_name": "Python 3 (ipykernel)",
   "language": "python",
   "name": "python3"
  }
 },
 "nbformat": 4,
 "nbformat_minor": 2
}
